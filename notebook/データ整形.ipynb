{
 "cells": [
  {
   "cell_type": "code",
   "execution_count": 2,
   "id": "bd4b528d",
   "metadata": {
    "ExecuteTime": {
     "end_time": "2023-03-04T03:49:29.682465Z",
     "start_time": "2023-03-04T03:49:29.659067Z"
    }
   },
   "outputs": [],
   "source": [
    "# sample\n",
    "battle_start_end_frame_numbers = [[7320, 21723], [25072, 46310], [49136, 62102], [65124, 89815], [92697, 103376]]\n",
    "rank_numbers = {3941: 76725, 21732: 87071, 46319: 74293, 62111: 59071, 89824: 72409, 103385: 58882}\n",
    "win_or_lost = {16731: 'lost', 40906: 'win', 56196: 'unknown', 102369: 'win'}\n",
    "pre_battle_pokemons = {7320: {'your_pokemon_names': ['フワライド', 'サーフゴー_1', 'ハッサム_4', 'ヌメルゴン', 'テツノドクガ_1', 'ヘイラッシャ'], 'opponent_pokemon_names': ['トリトドン_2', 'キノガッサ', 'カイリュー_2', 'ハバタクカミ', 'ミミッキュ', 'テツノドクガ_1']}, \n",
    " 25072: {'your_pokemon_names': ['フワライド', 'サーフゴー_1', 'ハッサム_4', 'ヌメルゴン', 'テツノドクガ_1', 'ヘイラッシャ'], 'opponent_pokemon_names': ['セグレイブ', 'カイリュー_2', 'ハバタクカミ_2', 'イダイナキバ_1', 'テツノツツミ_2', 'ウルガモス_3']}, \n",
    " 49136: {'your_pokemon_names': ['フワライド', 'サーフゴー_1', 'ハッサム_4', 'ヌメルゴン', 'テツノドクガ_1', 'ヘイラッシャ'], 'opponent_pokemon_names': ['トドロクツキ_1', 'カイリュー_2', 'サーフゴー_4', 'ウォッシュロトム_2', 'ラウドボーン', 'ハッサム_3']}, \n",
    " 65124: {'your_pokemon_names': ['フワライド', 'サーフゴー_1', 'ハッサム_4', 'ヌメルゴン', 'テツノドクガ_1', 'ヘイラッシャ'], 'opponent_pokemon_names': ['ウォッシュロトム_2', 'アーマーガア', 'テツノツツミ_2', 'ドオー_1', 'ウルガモス_1', 'ハバタクカミ_2']}, \n",
    " 92697: {'your_pokemon_names': ['フワライド', 'サーフゴー_1', 'ハッサム_4', 'ヌメルゴン', 'テツノドクガ_1', 'ヘイラッシャ'], 'opponent_pokemon_names': ['イルカマン', 'カイリュー_2', 'サーフゴー_4', 'ミミズズ_2', 'テツノドクガ', 'テツノワダチ']}}\n",
    "battle_pokemons = [{'frame_number': 8348, 'your_pokemon_name': 'ハッサム_英語', 'opponent_pokemon_name': 'ハバタクカミ'}, \n",
    " {'frame_number': 9699, 'your_pokemon_name': 'ハッサム_英語', 'opponent_pokemon_name': 'トリトドン'}, \n",
    " {'frame_number': 10972, 'your_pokemon_name': 'テツノドクガ_4', 'opponent_pokemon_name': 'トリトドン'}, \n",
    " {'frame_number': 11565, 'your_pokemon_name': 'テツノドクガ_2', 'opponent_pokemon_name': 'カイリュー'},\n",
    " {'frame_number': 12321, 'your_pokemon_name': 'テツノドクガ_5', 'opponent_pokemon_name': 'カイリュー'}, \n",
    " {'frame_number': 13395, 'your_pokemon_name': 'テツノドクガ_6', 'opponent_pokemon_name': 'カイリュー'}, \n",
    " {'frame_number': 14102, 'your_pokemon_name': 'テツノドクガ_7', 'opponent_pokemon_name': 'カイリュー'}, \n",
    " {'frame_number': 15293, 'your_pokemon_name': 'ヌメルゴン_英語', 'opponent_pokemon_name': 'カイリュー'}, \n",
    " {'frame_number': 16093, 'your_pokemon_name': 'ハッサム_英語', 'opponent_pokemon_name': 'カイリュー'}, \n",
    " {'frame_number': 27179, 'your_pokemon_name': 'ヌメルゴン_英語', 'opponent_pokemon_name': 'テツノツツミ'}, \n",
    " {'frame_number': 28263, 'your_pokemon_name': 'ヌメルゴン_英語', 'opponent_pokemon_name': 'テツノツツミ'}, \n",
    " {'frame_number': 29002, 'your_pokemon_name': 'ヌメルゴン_英語', 'opponent_pokemon_name': 'テツノツツミ'}, \n",
    " {'frame_number': 29803, 'your_pokemon_name': 'ヌメルゴン_英語', 'opponent_pokemon_name': 'カイリュー'}, \n",
    " {'frame_number': 30806, 'your_pokemon_name': 'ヘイラッシャ_英語', 'opponent_pokemon_name': 'カイリュー_2'}, \n",
    " {'frame_number': 31250, 'your_pokemon_name': 'ヘイラッシャ_英語', 'opponent_pokemon_name': 'カイリュー_3'}, \n",
    " {'frame_number': 32611, 'your_pokemon_name': 'ヘイラッシャ_英語', 'opponent_pokemon_name': 'ウルガモス'}, \n",
    " {'frame_number': 34075, 'your_pokemon_name': 'ヘイラッシャ_英語', 'opponent_pokemon_name': 'ウルガモス'}, \n",
    " {'frame_number': 34814, 'your_pokemon_name': 'ヘイラッシャ_英語', 'opponent_pokemon_name': 'ウルガモス'}, \n",
    " {'frame_number': 35260, 'your_pokemon_name': 'ヘイラッシャ_英語', 'opponent_pokemon_name': 'ウルガモス'}, \n",
    " {'frame_number': 36039, 'your_pokemon_name': 'ヌメルゴン_英語', 'opponent_pokemon_name': 'ウルガモス'}, \n",
    " {'frame_number': 36810, 'your_pokemon_name': 'ヌメルゴン_英語', 'opponent_pokemon_name': 'ウルガモス'}, \n",
    " {'frame_number': 37815, 'your_pokemon_name': 'ヌメルゴン_英語', 'opponent_pokemon_name': 'ウルガモス'}, \n",
    " {'frame_number': 38593, 'your_pokemon_name': 'ヌメルゴン_英語', 'opponent_pokemon_name': 'ウルガモス'}, \n",
    " {'frame_number': 39680, 'your_pokemon_name': 'ヌメルゴン_英語', 'opponent_pokemon_name': 'カイリュー'}, \n",
    " {'frame_number': 40692, 'your_pokemon_name': 'サーフゴー_英語', 'opponent_pokemon_name': 'カイリュー_3'}, \n",
    " {'frame_number': 50694, 'your_pokemon_name': 'ヌメルゴン_英語', 'opponent_pokemon_name': 'ラウドボーン'}, \n",
    " {'frame_number': 52192, 'your_pokemon_name': 'ヌメルゴン_英語', 'opponent_pokemon_name': 'ラウドボーン'}, \n",
    " {'frame_number': 54242, 'your_pokemon_name': 'ヌメルゴン_英語', 'opponent_pokemon_name': 'カイリュー'}, \n",
    " {'frame_number': 55388, 'your_pokemon_name': 'ヌメルゴン_英語', 'opponent_pokemon_name': 'ロトム'}, \n",
    " {'frame_number': 55915, 'your_pokemon_name': 'ヌメルゴン_英語', 'opponent_pokemon_name': 'ロトム'}, \n",
    " {'frame_number': 66201, 'your_pokemon_name': 'サーフゴー_英語', 'opponent_pokemon_name': 'テツノツツミ'}, \n",
    " {'frame_number': 67392, 'your_pokemon_name': 'ヌメルゴン_英語', 'opponent_pokemon_name': 'テツノツツミ'}, \n",
    " {'frame_number': 69284, 'your_pokemon_name': 'ヌメルゴン_英語', 'opponent_pokemon_name': 'アーマーガア'}, \n",
    " {'frame_number': 70200, 'your_pokemon_name': 'ヌメルゴン_英語', 'opponent_pokemon_name': 'ウルガモス'}, \n",
    " {'frame_number': 70738, 'your_pokemon_name': 'ヌメルゴン_英語', 'opponent_pokemon_name': 'ウルガモス'}, \n",
    " {'frame_number': 71116, 'your_pokemon_name': 'ヌメルゴン_英語', 'opponent_pokemon_name': 'ウルガモス'}, \n",
    " {'frame_number': 72269, 'your_pokemon_name': 'ヌメルゴン_英語', 'opponent_pokemon_name': 'ウルガモス'}, \n",
    " {'frame_number': 72992, 'your_pokemon_name': 'ヌメルゴン_英語', 'opponent_pokemon_name': 'ウルガモス'}, \n",
    " {'frame_number': 73642, 'your_pokemon_name': 'ヌメルゴン_英語', 'opponent_pokemon_name': 'ウルガモス'}, \n",
    " {'frame_number': 74403, 'your_pokemon_name': 'ヌメルゴン_英語', 'opponent_pokemon_name': 'ウルガモス'}, \n",
    " {'frame_number': 75316, 'your_pokemon_name': 'ハッサム_英語', 'opponent_pokemon_name': 'ウルガモス'}, \n",
    " {'frame_number': 75931, 'your_pokemon_name': 'ハッサム_英語', 'opponent_pokemon_name': 'アーマーガア'}, \n",
    " {'frame_number': 77562, 'your_pokemon_name': 'サーフゴー_英語', 'opponent_pokemon_name': 'テツノツツミ'}, \n",
    " {'frame_number': 78715, 'your_pokemon_name': 'サーフゴー_英語', 'opponent_pokemon_name': 'テツノツツミ'}, \n",
    " {'frame_number': 80732, 'your_pokemon_name': 'ハッサム_英語', 'opponent_pokemon_name': 'アーマーガア'}, \n",
    " {'frame_number': 81643, 'your_pokemon_name': 'ハッサム_英語', 'opponent_pokemon_name': 'アーマーガア'}, \n",
    " {'frame_number': 82317, 'your_pokemon_name': 'ハッサム_英語', 'opponent_pokemon_name': 'アーマーガア'}, \n",
    " {'frame_number': 83387, 'your_pokemon_name': 'サーフゴー_英語', 'opponent_pokemon_name': 'アーマーガア'}, \n",
    " {'frame_number': 84253, 'your_pokemon_name': 'サーフゴー_英語', 'opponent_pokemon_name': 'テツノツツミ'}, \n",
    " {'frame_number': 93486, 'your_pokemon_name': 'フワライド_4', 'opponent_pokemon_name': 'イルカマン'}, \n",
    " {'frame_number': 93748, 'your_pokemon_name': 'フワライド_3', 'opponent_pokemon_name': 'イルカマン'}, \n",
    " {'frame_number': 94522, 'your_pokemon_name': 'フワライド_5', 'opponent_pokemon_name': 'イルカマン'}, \n",
    " {'frame_number': 95480, 'your_pokemon_name': 'フワライド_2', 'opponent_pokemon_name': 'イルカマン'}, \n",
    " {'frame_number': 96154, 'your_pokemon_name': 'フワライド_6', 'opponent_pokemon_name': 'サーフゴー'},\n",
    " {'frame_number': 96618, 'your_pokemon_name': 'フワライド_7', 'opponent_pokemon_name': 'サーフゴー'},\n",
    " {'frame_number': 97873, 'your_pokemon_name': 'テツノドクガ_8', 'opponent_pokemon_name': 'カイリュー'},\n",
    " {'frame_number': 98617, 'your_pokemon_name': 'テツノドクガ_9', 'opponent_pokemon_name': 'カイリュー'}, \n",
    " {'frame_number': 99533, 'your_pokemon_name': 'テツノドクガ_10', 'opponent_pokemon_name': 'イルカマン'}, \n",
    " {'frame_number': 100823, 'your_pokemon_name': 'テツノドクガ_11', 'opponent_pokemon_name': 'サーフゴー'}, \n",
    " {'frame_number': 102157, 'your_pokemon_name': 'テツノドクガ_3', 'opponent_pokemon_name': 'カイリュー'}]"
   ]
  },
  {
   "cell_type": "markdown",
   "id": "141f8432",
   "metadata": {},
   "source": [
    "整形する\n",
    "\n",
    "目標は以下の通り\n",
    "\n",
    "1. battle_start_end_frame_numbers を使って battle_pokemons を区切る\n",
    "2. battle_pokemons を見て、3体の順番を特定する。また、ロトムが何形態なのか pre_battle_pokemons を見て調べる\n",
    "3. 順位変動を見て勝ち負けを特定する\n",
    "4. 以下のフォーマットに揃える\n",
    "\n",
    "```json\n",
    "{\n",
    "    \"battle_id\": battle_id(time base)\n",
    "    \"created_at\": 'current_time',\n",
    "    \"win_or_lose\": win_or_lose,\n",
    "    \"next_rank\": rank,\n",
    "    \"your_team\": \",\".join(pre_battle_pokemons[i][0]),\n",
    "    \"opponent_team\": \",\".join(pre_battle_pokemons[i][1]),\n",
    "    \"your_pokemon_1\": battle_pokemon_combinations[i][\"you\"][0],\n",
    "    \"your_pokemon_2\": battle_pokemon_combinations[i][\"you\"][1],\n",
    "    \"your_pokemon_3\": battle_pokemon_combinations[i][\"you\"][2],\n",
    "    \"opponent_pokemon_1\": battle_pokemon_combinations[i][\"opponent\"][0],\n",
    "    \"opponent_pokemon_2\": battle_pokemon_combinations[i][\"opponent\"][1],\n",
    "    \"opponent_pokemon_3\": battle_pokemon_combinations[i][\"opponent\"][2],\n",
    "    \"video\": \"youtube video URL\"\n",
    "}\n",
    "```\n",
    "\n",
    "battle_id を battle_pokemons に与えて、battle_pokemons も別で保存する\n"
   ]
  },
  {
   "cell_type": "code",
   "execution_count": 11,
   "id": "ee43b8cf",
   "metadata": {
    "ExecuteTime": {
     "end_time": "2023-03-04T03:54:21.164329Z",
     "start_time": "2023-03-04T03:54:21.158431Z"
    }
   },
   "outputs": [],
   "source": [
    "# 1. battle_start_end_frame_numbers を使って battle_pokemons を区切る\n",
    "# また、ここで _ 以降を削除する\n",
    "\n",
    "compressed_battle_pokemons = []\n",
    "for start_frame, end_frame in battle_start_end_frame_numbers:\n",
    "    _battle_pokemons = []\n",
    "    for b_pokemons in battle_pokemons:\n",
    "        _frame = b_pokemons[\"frame_number\"]\n",
    "        if start_frame < _frame and end_frame > _frame:\n",
    "            modified_b_pokemons = {\n",
    "                    'frame_number': _frame,\n",
    "                   'your_pokemon_name': b_pokemons[\"your_pokemon_name\"].split(\"_\")[0],\n",
    "                   'opponent_pokemon_name': b_pokemons[\"opponent_pokemon_name\"].split(\"_\")[0],\n",
    "            }\n",
    "            _battle_pokemons.append(modified_b_pokemons)\n",
    "    compressed_battle_pokemons.append(_battle_pokemons)"
   ]
  },
  {
   "cell_type": "code",
   "execution_count": 32,
   "id": "071025fa",
   "metadata": {
    "ExecuteTime": {
     "end_time": "2023-03-04T04:21:48.936404Z",
     "start_time": "2023-03-04T04:21:48.926921Z"
    }
   },
   "outputs": [],
   "source": [
    "# 2. compressed_battle_pokemons を見て、3体の順番を特定する。また、ロトムが何形態なのか pre_battle_pokemons を見て調べる\n",
    "\n",
    "battle_pokemon_combinations = []\n",
    "compressed_battle_pokemons2 = []\n",
    "for i, _battle_pokemons in enumerate(compressed_battle_pokemons):\n",
    "    # team にいるロトムを見つける(ロトムは必ず1体しかいない)\n",
    "    _pre_battle_your_pokemons = list(pre_battle_pokemons.values())[i][\"your_pokemon_names\"]\n",
    "    your_team_rotom_names = [v in v for v in _pre_battle_your_pokemons if \"ロトム\" in v]\n",
    "    your_team_rotom_name = \"None\"\n",
    "    if len(your_team_rotom_names) == 1:\n",
    "        your_team_rotom_name = your_team_rotom_names[0].split(\"_\")[0]\n",
    "    \n",
    "    _pre_battle_opponent_pokemons = list(pre_battle_pokemons.values())[i][\"opponent_pokemon_names\"]\n",
    "    opponent_team_rotom_names = [v for v in _pre_battle_opponent_pokemons if \"ロトム\" in v ]\n",
    "    opponent_team_rotom_name = \"None\"\n",
    "    if len(opponent_team_rotom_names) == 1:\n",
    "        opponent_team_rotom_name = opponent_team_rotom_names[0].split(\"_\")[0]\n",
    "    \n",
    "    _battle_pokemon_your_combinations = []\n",
    "    _battle_pokemon_opponent_combinations = []\n",
    "    for _b_p in _battle_pokemons:\n",
    "        _you = _b_p[\"your_pokemon_name\"]\n",
    "        _opponent = _b_p[\"opponent_pokemon_name\"]\n",
    "        \n",
    "        # ロトムなら修正する\n",
    "        if _you == \"ロトム\":\n",
    "            _you = your_team_rotom_name\n",
    "        elif _opponent == \"ロトム\":\n",
    "            _opponent = opponent_team_rotom_name\n",
    "        \n",
    "        if len(_battle_pokemon_your_combinations) < 3 and _you not in _battle_pokemon_your_combinations:\n",
    "            _battle_pokemon_your_combinations.append(_you)\n",
    "        \n",
    "        if len(_battle_pokemon_opponent_combinations) < 3 and _opponent not in _battle_pokemon_opponent_combinations:\n",
    "            _battle_pokemon_opponent_combinations.append(_opponent)\n",
    "    \n",
    "    battle_pokemon_combinations.append(\n",
    "        {\n",
    "            \"you\": _battle_pokemon_your_combinations,\n",
    "            \"opponent\": _battle_pokemon_opponent_combinations\n",
    "        }\n",
    "    )"
   ]
  },
  {
   "cell_type": "code",
   "execution_count": 33,
   "id": "77047848",
   "metadata": {
    "ExecuteTime": {
     "end_time": "2023-03-04T04:21:51.163901Z",
     "start_time": "2023-03-04T04:21:51.160800Z"
    }
   },
   "outputs": [
    {
     "data": {
      "text/plain": [
       "[{'you': ['ハッサム', 'テツノドクガ', 'ヌメルゴン'],\n",
       "  'opponent': ['ハバタクカミ', 'トリトドン', 'カイリュー']},\n",
       " {'you': ['ヌメルゴン', 'ヘイラッシャ', 'サーフゴー'],\n",
       "  'opponent': ['テツノツツミ', 'カイリュー', 'ウルガモス']},\n",
       " {'you': ['ヌメルゴン'], 'opponent': ['ラウドボーン', 'カイリュー', 'ウォッシュロトム']},\n",
       " {'you': ['サーフゴー', 'ヌメルゴン', 'ハッサム'],\n",
       "  'opponent': ['テツノツツミ', 'アーマーガア', 'ウルガモス']},\n",
       " {'you': ['フワライド', 'テツノドクガ'], 'opponent': ['イルカマン', 'サーフゴー', 'カイリュー']}]"
      ]
     },
     "execution_count": 33,
     "metadata": {},
     "output_type": "execute_result"
    }
   ],
   "source": [
    "battle_pokemon_combinations"
   ]
  },
  {
   "cell_type": "markdown",
   "id": "4c4b9dbd",
   "metadata": {},
   "source": [
    "降参すると自分のポケモンがわからないな..."
   ]
  }
 ],
 "metadata": {
  "kernelspec": {
   "display_name": "Python 3 (ipykernel)",
   "language": "python",
   "name": "python3"
  },
  "language_info": {
   "codemirror_mode": {
    "name": "ipython",
    "version": 3
   },
   "file_extension": ".py",
   "mimetype": "text/x-python",
   "name": "python",
   "nbconvert_exporter": "python",
   "pygments_lexer": "ipython3",
   "version": "3.10.9"
  },
  "varInspector": {
   "cols": {
    "lenName": 16,
    "lenType": 16,
    "lenVar": 40
   },
   "kernels_config": {
    "python": {
     "delete_cmd_postfix": "",
     "delete_cmd_prefix": "del ",
     "library": "var_list.py",
     "varRefreshCmd": "print(var_dic_list())"
    },
    "r": {
     "delete_cmd_postfix": ") ",
     "delete_cmd_prefix": "rm(",
     "library": "var_list.r",
     "varRefreshCmd": "cat(var_dic_list()) "
    }
   },
   "types_to_exclude": [
    "module",
    "function",
    "builtin_function_or_method",
    "instance",
    "_Feature"
   ],
   "window_display": false
  }
 },
 "nbformat": 4,
 "nbformat_minor": 5
}
