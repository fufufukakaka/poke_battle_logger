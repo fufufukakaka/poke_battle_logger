{
 "cells": [
  {
   "cell_type": "code",
   "execution_count": 1,
   "id": "bd4b528d",
   "metadata": {
    "ExecuteTime": {
     "end_time": "2023-03-04T09:00:22.132002Z",
     "start_time": "2023-03-04T09:00:22.107136Z"
    }
   },
   "outputs": [],
   "source": [
    "# sample\n",
    "battle_start_end_frame_numbers = [[7320, 21723], [25072, 46310], [49136, 62102], [65124, 89815], [92697, 103376]]\n",
    "rank_numbers = {3941: 76725, 21732: 87071, 46319: 74293, 62111: 59071, 89824: 72409, 103385: 58882}\n",
    "win_or_lost = {16731: 'lost', 40906: 'win', 56196: 'unknown', 102369: 'win'}\n",
    "pokemon_select_order = {7267: [2, 3, 4], 25020: [3, 1, 5], 48903: [3, 5, 4], 65073: [1, 2, 3], 92100: [0, 4, 5]}\n",
    "pre_battle_pokemons = {7320: {'your_pokemon_names': ['フワライド', 'サーフゴー_1', 'ハッサム_4', 'ヌメルゴン', 'テツノドクガ_1', 'ヘイラッシャ'], 'opponent_pokemon_names': ['トリトドン_2', 'キノガッサ', 'カイリュー_2', 'ハバタクカミ', 'ミミッキュ', 'テツノドクガ_1']}, \n",
    " 25072: {'your_pokemon_names': ['フワライド', 'サーフゴー_1', 'ハッサム_4', 'ヌメルゴン', 'テツノドクガ_1', 'ヘイラッシャ'], 'opponent_pokemon_names': ['セグレイブ', 'カイリュー_2', 'ハバタクカミ_2', 'イダイナキバ_1', 'テツノツツミ_2', 'ウルガモス_3']}, \n",
    " 49136: {'your_pokemon_names': ['フワライド', 'サーフゴー_1', 'ハッサム_4', 'ヌメルゴン', 'テツノドクガ_1', 'ヘイラッシャ'], 'opponent_pokemon_names': ['トドロクツキ_1', 'カイリュー_2', 'サーフゴー_4', 'ウォッシュロトム_2', 'ラウドボーン', 'ハッサム_3']}, \n",
    " 65124: {'your_pokemon_names': ['フワライド', 'サーフゴー_1', 'ハッサム_4', 'ヌメルゴン', 'テツノドクガ_1', 'ヘイラッシャ'], 'opponent_pokemon_names': ['ウォッシュロトム_2', 'アーマーガア', 'テツノツツミ_2', 'ドオー_1', 'ウルガモス_1', 'ハバタクカミ_2']}, \n",
    " 92697: {'your_pokemon_names': ['フワライド', 'サーフゴー_1', 'ハッサム_4', 'ヌメルゴン', 'テツノドクガ_1', 'ヘイラッシャ'], 'opponent_pokemon_names': ['イルカマン', 'カイリュー_2', 'サーフゴー_4', 'ミミズズ_2', 'テツノドクガ', 'テツノワダチ']}}\n",
    "battle_pokemons = [{'frame_number': 8348, 'your_pokemon_name': 'ハッサム_英語', 'opponent_pokemon_name': 'ハバタクカミ'}, \n",
    " {'frame_number': 9699, 'your_pokemon_name': 'ハッサム_英語', 'opponent_pokemon_name': 'トリトドン'}, \n",
    " {'frame_number': 10972, 'your_pokemon_name': 'テツノドクガ_4', 'opponent_pokemon_name': 'トリトドン'}, \n",
    " {'frame_number': 11565, 'your_pokemon_name': 'テツノドクガ_2', 'opponent_pokemon_name': 'カイリュー'},\n",
    " {'frame_number': 12321, 'your_pokemon_name': 'テツノドクガ_5', 'opponent_pokemon_name': 'カイリュー'}, \n",
    " {'frame_number': 13395, 'your_pokemon_name': 'テツノドクガ_6', 'opponent_pokemon_name': 'カイリュー'}, \n",
    " {'frame_number': 14102, 'your_pokemon_name': 'テツノドクガ_7', 'opponent_pokemon_name': 'カイリュー'}, \n",
    " {'frame_number': 15293, 'your_pokemon_name': 'ヌメルゴン_英語', 'opponent_pokemon_name': 'カイリュー'}, \n",
    " {'frame_number': 16093, 'your_pokemon_name': 'ハッサム_英語', 'opponent_pokemon_name': 'カイリュー'}, \n",
    " {'frame_number': 27179, 'your_pokemon_name': 'ヌメルゴン_英語', 'opponent_pokemon_name': 'テツノツツミ'}, \n",
    " {'frame_number': 28263, 'your_pokemon_name': 'ヌメルゴン_英語', 'opponent_pokemon_name': 'テツノツツミ'}, \n",
    " {'frame_number': 29002, 'your_pokemon_name': 'ヌメルゴン_英語', 'opponent_pokemon_name': 'テツノツツミ'}, \n",
    " {'frame_number': 29803, 'your_pokemon_name': 'ヌメルゴン_英語', 'opponent_pokemon_name': 'カイリュー'}, \n",
    " {'frame_number': 30806, 'your_pokemon_name': 'ヘイラッシャ_英語', 'opponent_pokemon_name': 'カイリュー_2'}, \n",
    " {'frame_number': 31250, 'your_pokemon_name': 'ヘイラッシャ_英語', 'opponent_pokemon_name': 'カイリュー_3'}, \n",
    " {'frame_number': 32611, 'your_pokemon_name': 'ヘイラッシャ_英語', 'opponent_pokemon_name': 'ウルガモス'}, \n",
    " {'frame_number': 34075, 'your_pokemon_name': 'ヘイラッシャ_英語', 'opponent_pokemon_name': 'ウルガモス'}, \n",
    " {'frame_number': 34814, 'your_pokemon_name': 'ヘイラッシャ_英語', 'opponent_pokemon_name': 'ウルガモス'}, \n",
    " {'frame_number': 35260, 'your_pokemon_name': 'ヘイラッシャ_英語', 'opponent_pokemon_name': 'ウルガモス'}, \n",
    " {'frame_number': 36039, 'your_pokemon_name': 'ヌメルゴン_英語', 'opponent_pokemon_name': 'ウルガモス'}, \n",
    " {'frame_number': 36810, 'your_pokemon_name': 'ヌメルゴン_英語', 'opponent_pokemon_name': 'ウルガモス'}, \n",
    " {'frame_number': 37815, 'your_pokemon_name': 'ヌメルゴン_英語', 'opponent_pokemon_name': 'ウルガモス'}, \n",
    " {'frame_number': 38593, 'your_pokemon_name': 'ヌメルゴン_英語', 'opponent_pokemon_name': 'ウルガモス'}, \n",
    " {'frame_number': 39680, 'your_pokemon_name': 'ヌメルゴン_英語', 'opponent_pokemon_name': 'カイリュー'}, \n",
    " {'frame_number': 40692, 'your_pokemon_name': 'サーフゴー_英語', 'opponent_pokemon_name': 'カイリュー_3'}, \n",
    " {'frame_number': 50694, 'your_pokemon_name': 'ヌメルゴン_英語', 'opponent_pokemon_name': 'ラウドボーン'}, \n",
    " {'frame_number': 52192, 'your_pokemon_name': 'ヌメルゴン_英語', 'opponent_pokemon_name': 'ラウドボーン'}, \n",
    " {'frame_number': 54242, 'your_pokemon_name': 'ヌメルゴン_英語', 'opponent_pokemon_name': 'カイリュー'}, \n",
    " {'frame_number': 55388, 'your_pokemon_name': 'ヌメルゴン_英語', 'opponent_pokemon_name': 'ロトム'}, \n",
    " {'frame_number': 55915, 'your_pokemon_name': 'ヌメルゴン_英語', 'opponent_pokemon_name': 'ロトム'}, \n",
    " {'frame_number': 66201, 'your_pokemon_name': 'サーフゴー_英語', 'opponent_pokemon_name': 'テツノツツミ'}, \n",
    " {'frame_number': 67392, 'your_pokemon_name': 'ヌメルゴン_英語', 'opponent_pokemon_name': 'テツノツツミ'}, \n",
    " {'frame_number': 69284, 'your_pokemon_name': 'ヌメルゴン_英語', 'opponent_pokemon_name': 'アーマーガア'}, \n",
    " {'frame_number': 70200, 'your_pokemon_name': 'ヌメルゴン_英語', 'opponent_pokemon_name': 'ウルガモス'}, \n",
    " {'frame_number': 70738, 'your_pokemon_name': 'ヌメルゴン_英語', 'opponent_pokemon_name': 'ウルガモス'}, \n",
    " {'frame_number': 71116, 'your_pokemon_name': 'ヌメルゴン_英語', 'opponent_pokemon_name': 'ウルガモス'}, \n",
    " {'frame_number': 72269, 'your_pokemon_name': 'ヌメルゴン_英語', 'opponent_pokemon_name': 'ウルガモス'}, \n",
    " {'frame_number': 72992, 'your_pokemon_name': 'ヌメルゴン_英語', 'opponent_pokemon_name': 'ウルガモス'}, \n",
    " {'frame_number': 73642, 'your_pokemon_name': 'ヌメルゴン_英語', 'opponent_pokemon_name': 'ウルガモス'}, \n",
    " {'frame_number': 74403, 'your_pokemon_name': 'ヌメルゴン_英語', 'opponent_pokemon_name': 'ウルガモス'}, \n",
    " {'frame_number': 75316, 'your_pokemon_name': 'ハッサム_英語', 'opponent_pokemon_name': 'ウルガモス'}, \n",
    " {'frame_number': 75931, 'your_pokemon_name': 'ハッサム_英語', 'opponent_pokemon_name': 'アーマーガア'}, \n",
    " {'frame_number': 77562, 'your_pokemon_name': 'サーフゴー_英語', 'opponent_pokemon_name': 'テツノツツミ'}, \n",
    " {'frame_number': 78715, 'your_pokemon_name': 'サーフゴー_英語', 'opponent_pokemon_name': 'テツノツツミ'}, \n",
    " {'frame_number': 80732, 'your_pokemon_name': 'ハッサム_英語', 'opponent_pokemon_name': 'アーマーガア'}, \n",
    " {'frame_number': 81643, 'your_pokemon_name': 'ハッサム_英語', 'opponent_pokemon_name': 'アーマーガア'}, \n",
    " {'frame_number': 82317, 'your_pokemon_name': 'ハッサム_英語', 'opponent_pokemon_name': 'アーマーガア'}, \n",
    " {'frame_number': 83387, 'your_pokemon_name': 'サーフゴー_英語', 'opponent_pokemon_name': 'アーマーガア'}, \n",
    " {'frame_number': 84253, 'your_pokemon_name': 'サーフゴー_英語', 'opponent_pokemon_name': 'テツノツツミ'}, \n",
    " {'frame_number': 93486, 'your_pokemon_name': 'フワライド_4', 'opponent_pokemon_name': 'イルカマン'}, \n",
    " {'frame_number': 93748, 'your_pokemon_name': 'フワライド_3', 'opponent_pokemon_name': 'イルカマン'}, \n",
    " {'frame_number': 94522, 'your_pokemon_name': 'フワライド_5', 'opponent_pokemon_name': 'イルカマン'}, \n",
    " {'frame_number': 95480, 'your_pokemon_name': 'フワライド_2', 'opponent_pokemon_name': 'イルカマン'}, \n",
    " {'frame_number': 96154, 'your_pokemon_name': 'フワライド_6', 'opponent_pokemon_name': 'サーフゴー'},\n",
    " {'frame_number': 96618, 'your_pokemon_name': 'フワライド_7', 'opponent_pokemon_name': 'サーフゴー'},\n",
    " {'frame_number': 97873, 'your_pokemon_name': 'テツノドクガ_8', 'opponent_pokemon_name': 'カイリュー'},\n",
    " {'frame_number': 98617, 'your_pokemon_name': 'テツノドクガ_9', 'opponent_pokemon_name': 'カイリュー'}, \n",
    " {'frame_number': 99533, 'your_pokemon_name': 'テツノドクガ_10', 'opponent_pokemon_name': 'イルカマン'}, \n",
    " {'frame_number': 100823, 'your_pokemon_name': 'テツノドクガ_11', 'opponent_pokemon_name': 'サーフゴー'}, \n",
    " {'frame_number': 102157, 'your_pokemon_name': 'テツノドクガ_3', 'opponent_pokemon_name': 'カイリュー'}]"
   ]
  },
  {
   "cell_type": "markdown",
   "id": "141f8432",
   "metadata": {},
   "source": [
    "整形する\n",
    "\n",
    "目標は以下の通り\n",
    "\n",
    "1. battle_start_end_frame_numbers を使って battle_pokemons を区切る\n",
    "2. pokemon_select_order, pre_battle_pokemons, battle_pokemons を見て、3体の順番を特定する。また、ロトムが何形態なのか pre_battle_pokemons を見て調べる\n",
    "3. 順位変動を見て勝ち負けを特定する\n",
    "4. 以下のフォーマットに揃える\n",
    "\n",
    "```json\n",
    "{\n",
    "    \"battle_id\": battle_id(time base)\n",
    "    \"created_at\": 'current_time',\n",
    "    \"win_or_lose\": win_or_lose,\n",
    "    \"next_rank\": rank,\n",
    "    \"your_team\": \",\".join(pre_battle_pokemons[i][0]),\n",
    "    \"opponent_team\": \",\".join(pre_battle_pokemons[i][1]),\n",
    "    \"your_pokemon_1\": battle_pokemon_combinations[i][\"you\"][0],\n",
    "    \"your_pokemon_2\": battle_pokemon_combinations[i][\"you\"][1],\n",
    "    \"your_pokemon_3\": battle_pokemon_combinations[i][\"you\"][2],\n",
    "    \"opponent_pokemon_1\": battle_pokemon_combinations[i][\"opponent\"][0],\n",
    "    \"opponent_pokemon_2\": battle_pokemon_combinations[i][\"opponent\"][1],\n",
    "    \"opponent_pokemon_3\": battle_pokemon_combinations[i][\"opponent\"][2],\n",
    "    \"video\": \"youtube video URL\"\n",
    "}\n",
    "```\n",
    "\n",
    "battle_id を battle_pokemons に与えて、battle_pokemons も別で保存する\n"
   ]
  },
  {
   "cell_type": "code",
   "execution_count": 6,
   "id": "ee43b8cf",
   "metadata": {
    "ExecuteTime": {
     "end_time": "2023-03-04T07:01:24.859108Z",
     "start_time": "2023-03-04T07:01:24.854014Z"
    }
   },
   "outputs": [],
   "source": [
    "# 1. battle_start_end_frame_numbers を使って battle_pokemons を区切る\n",
    "# また、ここで _ 以降を削除する\n",
    "\n",
    "compressed_battle_pokemons = []\n",
    "for start_frame, end_frame in battle_start_end_frame_numbers:\n",
    "    _battle_pokemons = []\n",
    "    for b_pokemons in battle_pokemons:\n",
    "        _frame = b_pokemons[\"frame_number\"]\n",
    "        if start_frame < _frame and end_frame > _frame:\n",
    "            modified_b_pokemons = {\n",
    "                    'frame_number': _frame,\n",
    "                   'your_pokemon_name': b_pokemons[\"your_pokemon_name\"].split(\"_\")[0],\n",
    "                   'opponent_pokemon_name': b_pokemons[\"opponent_pokemon_name\"].split(\"_\")[0],\n",
    "            }\n",
    "            _battle_pokemons.append(modified_b_pokemons)\n",
    "    compressed_battle_pokemons.append(_battle_pokemons)"
   ]
  },
  {
   "cell_type": "code",
   "execution_count": 7,
   "id": "071025fa",
   "metadata": {
    "ExecuteTime": {
     "end_time": "2023-03-04T07:01:26.051162Z",
     "start_time": "2023-03-04T07:01:26.042182Z"
    }
   },
   "outputs": [],
   "source": [
    "# 2. pokemon_select_order, pre_battle_pokemons, battle_pokemons を見て、3体の順番を特定する。\n",
    "# また、ロトムが何形態なのか pre_battle_pokemons を見て調べる\n",
    "\n",
    "battle_pokemon_combinations = []\n",
    "compressed_battle_pokemons2 = []\n",
    "for i, _battle_pokemons in enumerate(compressed_battle_pokemons):\n",
    "    # team にいるロトムを見つける(ロトムは必ず1体しかいない)\n",
    "    _pre_battle_opponent_pokemons = list(pre_battle_pokemons.values())[i][\"opponent_pokemon_names\"]\n",
    "    opponent_team_rotom_names = [v for v in _pre_battle_opponent_pokemons if \"ロトム\" in v ]\n",
    "    opponent_team_rotom_name = \"None\"\n",
    "    if len(opponent_team_rotom_names) == 1:\n",
    "        opponent_team_rotom_name = opponent_team_rotom_names[0].split(\"_\")[0]\n",
    "    \n",
    "    _pre_battle_your_pokemons = list(pre_battle_pokemons.values())[i][\"your_pokemon_names\"]\n",
    "    _pokemon_select_order = list(pokemon_select_order.values())[i]\n",
    "    _battle_pokemon_your_combinations = []\n",
    "    for _position in _pokemon_select_order:\n",
    "        _battle_pokemon_your_combinations.append(\n",
    "            _pre_battle_your_pokemons[_position].split(\"_\")[0]\n",
    "        ) \n",
    "    \n",
    "    _battle_pokemon_opponent_combinations = []\n",
    "    for _b_p in _battle_pokemons:\n",
    "        _you = _b_p[\"your_pokemon_name\"]\n",
    "        _opponent = _b_p[\"opponent_pokemon_name\"]\n",
    "        \n",
    "        # ロトムなら修正する\n",
    "        if _opponent == \"ロトム\":\n",
    "            _opponent = opponent_team_rotom_name\n",
    "        \n",
    "        if len(_battle_pokemon_opponent_combinations) < 3 and _opponent not in _battle_pokemon_opponent_combinations:\n",
    "            _battle_pokemon_opponent_combinations.append(_opponent)\n",
    "    \n",
    "    battle_pokemon_combinations.append(\n",
    "        {\n",
    "            \"you\": _battle_pokemon_your_combinations,\n",
    "            \"opponent\": _battle_pokemon_opponent_combinations\n",
    "        }\n",
    "    )"
   ]
  },
  {
   "cell_type": "code",
   "execution_count": 41,
   "id": "77047848",
   "metadata": {
    "ExecuteTime": {
     "end_time": "2023-03-04T06:17:33.345256Z",
     "start_time": "2023-03-04T06:17:33.339037Z"
    }
   },
   "outputs": [
    {
     "data": {
      "text/plain": [
       "[{'you': ['ハッサム', 'ヌメルゴン', 'テツノドクガ'],\n",
       "  'opponent': ['ハバタクカミ', 'トリトドン', 'カイリュー']},\n",
       " {'you': ['ヌメルゴン', 'サーフゴー', 'ヘイラッシャ'],\n",
       "  'opponent': ['テツノツツミ', 'カイリュー', 'ウルガモス']},\n",
       " {'you': ['ヌメルゴン', 'ヘイラッシャ', 'テツノドクガ'],\n",
       "  'opponent': ['ラウドボーン', 'カイリュー', 'ウォッシュロトム']},\n",
       " {'you': ['サーフゴー', 'ハッサム', 'ヌメルゴン'],\n",
       "  'opponent': ['テツノツツミ', 'アーマーガア', 'ウルガモス']},\n",
       " {'you': ['フワライド', 'テツノドクガ', 'ヘイラッシャ'],\n",
       "  'opponent': ['イルカマン', 'サーフゴー', 'カイリュー']}]"
      ]
     },
     "execution_count": 41,
     "metadata": {},
     "output_type": "execute_result"
    }
   ],
   "source": [
    "battle_pokemon_combinations"
   ]
  },
  {
   "cell_type": "markdown",
   "id": "5f0fc504",
   "metadata": {},
   "source": [
    "確認する\n",
    "\n",
    "```\n",
    "ハッサム\tテツノドクガ\tヌメルゴン\tハバタクカミ\tカイリュー\tトリトドン\n",
    "ヌメルゴン\tサーフゴー\tヘイラッシャ\tテツノツツミ\tカイリュー\tウルガモス\n",
    "ヌメルゴン\tヘイラッシャ\tテツノドクガ\tラウドボーン\tカイリュー\tウォッシュロトム\n",
    "サーフゴー\tハッサム\tヌメルゴン\tテツノツツミ\tアーマーガア\tウルガモス\n",
    "フワライド\tヘイラッシャ\tテツノドクガ\tイルカマン\tカイリュー\tサーフゴー\n",
    "```\n",
    "\n",
    "大丈夫！"
   ]
  },
  {
   "cell_type": "code",
   "execution_count": 8,
   "id": "663fbcd2",
   "metadata": {
    "ExecuteTime": {
     "end_time": "2023-03-04T07:01:30.387369Z",
     "start_time": "2023-03-04T07:01:30.381036Z"
    }
   },
   "outputs": [],
   "source": [
    "# 3. 順位変動を考慮しつつ見て勝ち負けを特定する\n",
    "\n",
    "# rank_numbers = {3941: 76725, 21732: 87071, 46319: 74293, 62111: 59071, 89824: 72409, 103385: 58882}\n",
    "# win_or_lost = {16731: 'lost', 40906: 'win', 56196: 'unknown', 102369: 'win'}\n",
    "\n",
    "modified_win_or_lose = []\n",
    "for i in range(1, len(rank_numbers.values())):\n",
    "    previous_rank = list(rank_numbers.values())[i-1]\n",
    "    next_rank = list(rank_numbers.values())[i]\n",
    "    if previous_rank > next_rank:\n",
    "        modified_win_or_lose.append(\"win\")\n",
    "    else:\n",
    "        modified_win_or_lose.append(\"lose\")"
   ]
  },
  {
   "cell_type": "code",
   "execution_count": 47,
   "id": "451fd23d",
   "metadata": {
    "ExecuteTime": {
     "end_time": "2023-03-04T06:26:03.413091Z",
     "start_time": "2023-03-04T06:26:03.408892Z"
    }
   },
   "outputs": [
    {
     "data": {
      "text/plain": [
       "['lose', 'win', 'win', 'lose', 'win']"
      ]
     },
     "execution_count": 47,
     "metadata": {},
     "output_type": "execute_result"
    }
   ],
   "source": [
    "modified_win_or_lose"
   ]
  },
  {
   "cell_type": "markdown",
   "id": "16e3c098",
   "metadata": {},
   "source": [
    "```\n",
    "lose\n",
    "win\n",
    "win\n",
    "lose\n",
    "win\n",
    "```\n",
    "\n",
    "確認して、大丈夫そう"
   ]
  },
  {
   "cell_type": "code",
   "execution_count": 6,
   "id": "ac67a85d",
   "metadata": {
    "ExecuteTime": {
     "end_time": "2023-03-04T09:00:53.944010Z",
     "start_time": "2023-03-04T09:00:53.935038Z"
    }
   },
   "outputs": [],
   "source": [
    "from pytube.exceptions import RegexMatchError\n",
    "from pytube.helpers import regex_search\n",
    "from pytube import YouTube\n",
    "from datetime import timedelta\n",
    "from datetime import datetime\n",
    "import uuid\n",
    "\n",
    "def publish_date(watch_html: str):\n",
    "    \"\"\"Extract publish date\n",
    "    :param str watch_html:\n",
    "        The html contents of the watch page.\n",
    "    :rtype: str\n",
    "    :returns:\n",
    "        Publish date of the video.\n",
    "    \"\"\"\n",
    "    #Check if isLiveBroadcast to get Correct UTC Publish Date +00:00\n",
    "    try:\n",
    "        isLiveBroadcastElem = regex_search(\n",
    "            r\"(?<=itemprop=\\\"isLiveBroadcast\\\" content=\\\")\",\n",
    "            watch_html, group=0\n",
    "        )\n",
    "        \n",
    "        result = regex_search(\n",
    "            r\"(?<=itemprop=\\\"startDate\\\" content=\\\")\\d{4}-\\d{2}-\\d{2}T\\d{2}:\\d{2}:\\d{2}\",\n",
    "            watch_html, group=0\n",
    "        )\n",
    "        return datetime.strptime(result, '%Y-%m-%dT%H:%M:%S')\n",
    "    except RegexMatchError:\n",
    "        try:\n",
    "            result = regex_search(\n",
    "                r\"(?<=itemprop=\\\"datePublished\\\" content=\\\")\",\n",
    "                watch_html, group=0\n",
    "            )\n",
    "            return datetime.strptime(result, '%Y-%m-%d')\n",
    "        except RegexMatchError:\n",
    "            return None\n",
    "\n",
    "def get_start_time(video_id, start_frame_number):\n",
    "    yt = YouTube(f'http://youtube.com/watch?v={video_id}')\n",
    "    second_from_frame_number = int(0.03 * start_frame_number)\n",
    "    \n",
    "    # +9h は UTC to JST\n",
    "    start_datetime = publish_date(yt.watch_html) + timedelta(seconds=second_from_frame_number, hours=9)\n",
    "    return start_datetime.strftime(\"%Y%m%d %H:%M:%S\")\n",
    "\n",
    "def get_battle_id(start_datetime):\n",
    "    return str(uuid.uuid5(uuid.uuid1(), start_datetime))"
   ]
  },
  {
   "cell_type": "code",
   "execution_count": 11,
   "id": "83693caf",
   "metadata": {
    "ExecuteTime": {
     "end_time": "2023-03-04T09:01:05.485447Z",
     "start_time": "2023-03-04T09:01:04.967551Z"
    }
   },
   "outputs": [
    {
     "name": "stdout",
     "output_type": "stream",
     "text": [
      "20230222 18:41:50\n"
     ]
    }
   ],
   "source": [
    "video_id = \"O8GmphpBbco\"\n",
    "i = 4\n",
    "start_frame = battle_start_end_frame_numbers[i][0]\n",
    "created_at = get_start_time(video_id, start_frame)\n",
    "print(created_at)"
   ]
  },
  {
   "cell_type": "code",
   "execution_count": 20,
   "id": "0e9caea6",
   "metadata": {
    "ExecuteTime": {
     "end_time": "2023-03-04T07:14:56.973582Z",
     "start_time": "2023-03-04T07:14:53.807075Z"
    }
   },
   "outputs": [],
   "source": [
    "# 4. フォーマットに整形して保存する\n",
    "\n",
    "battle_logs = []\n",
    "modified_pre_battle_pokemons = []\n",
    "modified_in_battle_pokemons = []\n",
    "video_id = \"O8GmphpBbco\"\n",
    "\n",
    "for i in range(len(battle_start_end_frame_numbers)):\n",
    "    start_frame = battle_start_end_frame_numbers[i][0]\n",
    "    created_at = get_start_time(video_id, start_frame)\n",
    "    battle_id = get_battle_id(created_at)\n",
    "    \n",
    "    # overview\n",
    "    _log = {\n",
    "        \"battle_id\": battle_id,\n",
    "        \"created_at\": created_at,\n",
    "        \"win_or_lose\": modified_win_or_lose[i],\n",
    "        \"next_rank\": list(rank_numbers.values())[i+1],\n",
    "        \"your_team\": \",\".join([v.split(\"_\")[0] for v in list(pre_battle_pokemons.values())[i][\"your_pokemon_names\"]]),\n",
    "        \"opponent_team\": \",\".join([v.split(\"_\")[0] for v in list(pre_battle_pokemons.values())[i][\"opponent_pokemon_names\"]]),\n",
    "        \"your_pokemon_1\": battle_pokemon_combinations[i][\"you\"][0],\n",
    "        \"your_pokemon_2\": battle_pokemon_combinations[i][\"you\"][1],\n",
    "        \"your_pokemon_3\": battle_pokemon_combinations[i][\"you\"][2],\n",
    "        \"opponent_pokemon_1\": battle_pokemon_combinations[i][\"opponent\"][0],\n",
    "        \"opponent_pokemon_2\": battle_pokemon_combinations[i][\"opponent\"][1],\n",
    "        \"opponent_pokemon_3\": battle_pokemon_combinations[i][\"opponent\"][2],\n",
    "        \"video\": f'http://youtube.com/watch?v={video_id}'\n",
    "    }\n",
    "    battle_logs.append(_log)\n",
    "    \n",
    "    # pre_battle\n",
    "    for pokemon in [v.split(\"_\")[0] for v in list(pre_battle_pokemons.values())[i][\"your_pokemon_names\"]]:\n",
    "        modified_pre_battle_pokemons.append(\n",
    "            {\n",
    "                \"battle_id\": battle_id,\n",
    "                \"team\": \"you\",\n",
    "                \"pokemon_name\": pokemon\n",
    "            }\n",
    "        ) \n",
    "    for pokemon in [v.split(\"_\")[0] for v in list(pre_battle_pokemons.values())[i][\"opponent_pokemon_names\"]]:\n",
    "        modified_pre_battle_pokemons.append(\n",
    "            {\n",
    "                \"battle_id\": battle_id,\n",
    "                \"team\": \"opponent\",\n",
    "                \"pokemon_name\": pokemon\n",
    "            }\n",
    "        )\n",
    "    \n",
    "    # in-battle\n",
    "    in_battle_log = compressed_battle_pokemons[i]\n",
    "    for _in_battle_log in in_battle_log:\n",
    "        modified_in_battle_pokemons.append(\n",
    "            {\n",
    "                \"battle_id\": battle_id,\n",
    "                \"your_pokemon_name\": _in_battle_log[\"your_pokemon_name\"],\n",
    "                \"opponent_pokemon_name\": _in_battle_log[\"opponent_pokemon_name\"],\n",
    "            }\n",
    "        )"
   ]
  }
 ],
 "metadata": {
  "kernelspec": {
   "display_name": "Python 3 (ipykernel)",
   "language": "python",
   "name": "python3"
  },
  "language_info": {
   "codemirror_mode": {
    "name": "ipython",
    "version": 3
   },
   "file_extension": ".py",
   "mimetype": "text/x-python",
   "name": "python",
   "nbconvert_exporter": "python",
   "pygments_lexer": "ipython3",
   "version": "3.10.9"
  },
  "varInspector": {
   "cols": {
    "lenName": 16,
    "lenType": 16,
    "lenVar": 40
   },
   "kernels_config": {
    "python": {
     "delete_cmd_postfix": "",
     "delete_cmd_prefix": "del ",
     "library": "var_list.py",
     "varRefreshCmd": "print(var_dic_list())"
    },
    "r": {
     "delete_cmd_postfix": ") ",
     "delete_cmd_prefix": "rm(",
     "library": "var_list.r",
     "varRefreshCmd": "cat(var_dic_list()) "
    }
   },
   "types_to_exclude": [
    "module",
    "function",
    "builtin_function_or_method",
    "instance",
    "_Feature"
   ],
   "window_display": false
  }
 },
 "nbformat": 4,
 "nbformat_minor": 5
}
