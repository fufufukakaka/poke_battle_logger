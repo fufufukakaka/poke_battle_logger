{
 "cells": [
  {
   "cell_type": "code",
   "execution_count": 1,
   "id": "8024f4bb",
   "metadata": {
    "ExecuteTime": {
     "end_time": "2023-04-11T23:50:58.593387Z",
     "start_time": "2023-04-11T23:50:58.029044Z"
    }
   },
   "outputs": [],
   "source": [
    "from datasets import load_dataset"
   ]
  },
  {
   "cell_type": "code",
   "execution_count": 2,
   "id": "2ef39c48",
   "metadata": {
    "ExecuteTime": {
     "end_time": "2023-04-11T23:50:59.858727Z",
     "start_time": "2023-04-11T23:50:58.594800Z"
    }
   },
   "outputs": [
    {
     "data": {
      "application/vnd.jupyter.widget-view+json": {
       "model_id": "816304ec81f54b69b49de186d67e246c",
       "version_major": 2,
       "version_minor": 0
      },
      "text/plain": [
       "Resolving data files:   0%|          | 0/275 [00:00<?, ?it/s]"
      ]
     },
     "metadata": {},
     "output_type": "display_data"
    },
    {
     "name": "stderr",
     "output_type": "stream",
     "text": [
      "Found cached dataset imagefolder (/Users/yusuke-fukasawa/.cache/huggingface/datasets/imagefolder/default-0ad062e79173203c/0.0.0/37fbb85cc714a338bea574ac6c7d0b5be5aff46c1862c1989b20e0771199e93f)\n"
     ]
    }
   ],
   "source": [
    "dataset = load_dataset(\"imagefolder\", data_dir=\"../experimental/imgs/\", split='train')"
   ]
  },
  {
   "cell_type": "code",
   "execution_count": 3,
   "id": "0c38a7fc",
   "metadata": {
    "ExecuteTime": {
     "end_time": "2023-04-11T23:50:59.876746Z",
     "start_time": "2023-04-11T23:50:59.868541Z"
    }
   },
   "outputs": [
    {
     "data": {
      "text/plain": [
       "Dataset({\n",
       "    features: ['image', 'label'],\n",
       "    num_rows: 275\n",
       "})"
      ]
     },
     "execution_count": 3,
     "metadata": {},
     "output_type": "execute_result"
    }
   ],
   "source": [
    "dataset"
   ]
  },
  {
   "cell_type": "code",
   "execution_count": 4,
   "id": "00a21e40",
   "metadata": {
    "ExecuteTime": {
     "end_time": "2023-04-11T23:50:59.898988Z",
     "start_time": "2023-04-11T23:50:59.881364Z"
    }
   },
   "outputs": [],
   "source": [
    "split_dataset = dataset.train_test_split(test_size=0.1)"
   ]
  },
  {
   "cell_type": "code",
   "execution_count": 21,
   "id": "2660c0da",
   "metadata": {
    "ExecuteTime": {
     "end_time": "2023-04-11T23:52:18.594400Z",
     "start_time": "2023-04-11T23:52:18.564791Z"
    }
   },
   "outputs": [],
   "source": [
    "from transformers import SwinForImageClassification, SwinConfig, TrainingArguments, Trainer"
   ]
  },
  {
   "cell_type": "code",
   "execution_count": 7,
   "id": "6939f801",
   "metadata": {
    "ExecuteTime": {
     "end_time": "2023-04-11T23:51:02.468769Z",
     "start_time": "2023-04-11T23:51:00.905808Z"
    }
   },
   "outputs": [
    {
     "name": "stderr",
     "output_type": "stream",
     "text": [
      "/var/folders/tf/xcqcrf2n4kqgmmsn4w_t22b80000gn/T/ipykernel_22248/1780215247.py:3: FutureWarning: load_metric is deprecated and will be removed in the next major version of datasets. Use 'evaluate.load' instead, from the new library 🤗 Evaluate: https://huggingface.co/docs/evaluate\n",
      "  metric = load_metric(\"accuracy\")\n"
     ]
    }
   ],
   "source": [
    "from datasets import load_metric\n",
    "\n",
    "metric = load_metric(\"accuracy\")"
   ]
  },
  {
   "cell_type": "code",
   "execution_count": 8,
   "id": "94cdd580",
   "metadata": {
    "ExecuteTime": {
     "end_time": "2023-04-11T23:51:02.480727Z",
     "start_time": "2023-04-11T23:51:02.469620Z"
    }
   },
   "outputs": [
    {
     "data": {
      "text/plain": [
       "{'image': <PIL.PngImagePlugin.PngImageFile image mode=RGB size=70x65>,\n",
       " 'label': 13}"
      ]
     },
     "execution_count": 8,
     "metadata": {},
     "output_type": "execute_result"
    }
   ],
   "source": [
    "example = split_dataset[\"train\"][10]\n",
    "example"
   ]
  },
  {
   "cell_type": "code",
   "execution_count": 9,
   "id": "21fd1b0d",
   "metadata": {
    "ExecuteTime": {
     "end_time": "2023-04-11T23:51:03.135992Z",
     "start_time": "2023-04-11T23:51:02.483169Z"
    }
   },
   "outputs": [
    {
     "name": "stderr",
     "output_type": "stream",
     "text": [
      "/Users/yusuke-fukasawa/Library/Caches/pypoetry/virtualenvs/poke-battle-logger-xYV7PrtE-py3.10/lib/python3.10/site-packages/transformers/models/vit/feature_extraction_vit.py:28: FutureWarning: The class ViTFeatureExtractor is deprecated and will be removed in version 5 of Transformers. Please use ViTImageProcessor instead.\n",
      "  warnings.warn(\n"
     ]
    },
    {
     "data": {
      "text/plain": [
       "ViTFeatureExtractor {\n",
       "  \"do_normalize\": true,\n",
       "  \"do_rescale\": true,\n",
       "  \"do_resize\": true,\n",
       "  \"feature_extractor_type\": \"ViTFeatureExtractor\",\n",
       "  \"image_mean\": [\n",
       "    0.485,\n",
       "    0.456,\n",
       "    0.406\n",
       "  ],\n",
       "  \"image_processor_type\": \"ViTFeatureExtractor\",\n",
       "  \"image_std\": [\n",
       "    0.229,\n",
       "    0.224,\n",
       "    0.225\n",
       "  ],\n",
       "  \"resample\": 3,\n",
       "  \"rescale_factor\": 0.00392156862745098,\n",
       "  \"size\": {\n",
       "    \"height\": 224,\n",
       "    \"width\": 224\n",
       "  }\n",
       "}"
      ]
     },
     "execution_count": 9,
     "metadata": {},
     "output_type": "execute_result"
    }
   ],
   "source": [
    "from transformers import AutoFeatureExtractor\n",
    "\n",
    "feature_extractor = AutoFeatureExtractor.from_pretrained(\"fufufukakaka/autotrain-pokemon-image-classification-2-47828116910\")\n",
    "feature_extractor"
   ]
  },
  {
   "cell_type": "code",
   "execution_count": 34,
   "id": "5501c965",
   "metadata": {
    "ExecuteTime": {
     "end_time": "2023-04-12T06:58:01.509120Z",
     "start_time": "2023-04-12T06:58:01.502402Z"
    }
   },
   "outputs": [],
   "source": [
    "from torchvision.transforms import (\n",
    "    CenterCrop,\n",
    "    Compose,\n",
    "    Normalize,\n",
    "    RandomHorizontalFlip,\n",
    "    RandomResizedCrop,\n",
    "    Resize,\n",
    "    ToTensor,\n",
    ")\n",
    "\n",
    "normalize = Normalize(mean=feature_extractor.image_mean, std=feature_extractor.image_std)\n",
    "train_transforms = Compose(\n",
    "        [\n",
    "            RandomResizedCrop((feature_extractor.size[\"width\"], feature_extractor.size[\"height\"])),\n",
    "            RandomHorizontalFlip(),\n",
    "            ToTensor(),\n",
    "            normalize,\n",
    "        ]\n",
    "    )\n",
    "\n",
    "val_transforms = Compose(\n",
    "        [\n",
    "            Resize((feature_extractor.size[\"width\"], feature_extractor.size[\"height\"])),\n",
    "            CenterCrop((feature_extractor.size[\"width\"], feature_extractor.size[\"height\"])),\n",
    "            ToTensor(),\n",
    "            normalize,\n",
    "        ]\n",
    "    )\n",
    "\n",
    "def preprocess_train(example_batch):\n",
    "    \"\"\"Apply train_transforms across a batch.\"\"\"\n",
    "    example_batch[\"pixel_values\"] = [\n",
    "        train_transforms(image.convert(\"RGB\")) for image in example_batch[\"image\"]\n",
    "    ]\n",
    "    return example_batch\n",
    "\n",
    "def preprocess_val(example_batch):\n",
    "    \"\"\"Apply val_transforms across a batch.\"\"\"\n",
    "    example_batch[\"pixel_values\"] = [val_transforms(image.convert(\"RGB\")) for image in example_batch[\"image\"]]\n",
    "    return example_batch"
   ]
  },
  {
   "cell_type": "code",
   "execution_count": 31,
   "id": "6e854362",
   "metadata": {
    "ExecuteTime": {
     "end_time": "2023-04-12T06:56:35.038040Z",
     "start_time": "2023-04-12T06:56:35.034431Z"
    }
   },
   "outputs": [
    {
     "data": {
      "text/plain": [
       "'アラブルタケ'"
      ]
     },
     "execution_count": 31,
     "metadata": {},
     "output_type": "execute_result"
    }
   ],
   "source": [
    "labels = split_dataset[\"train\"].features[\"label\"].names\n",
    "label2id, id2label = dict(), dict()\n",
    "for i, label in enumerate(labels):\n",
    "    label2id[label] = i\n",
    "    id2label[i] = label\n",
    "\n",
    "id2label[2]"
   ]
  },
  {
   "cell_type": "code",
   "execution_count": 35,
   "id": "55c17531",
   "metadata": {
    "ExecuteTime": {
     "end_time": "2023-04-12T06:58:05.072565Z",
     "start_time": "2023-04-12T06:58:05.067701Z"
    }
   },
   "outputs": [],
   "source": [
    "train_ds = split_dataset['train']\n",
    "val_ds = split_dataset['test']\n",
    "\n",
    "train_ds.set_transform(preprocess_train)\n",
    "val_ds.set_transform(preprocess_val)"
   ]
  },
  {
   "cell_type": "code",
   "execution_count": 36,
   "id": "67050806",
   "metadata": {
    "ExecuteTime": {
     "end_time": "2023-04-12T06:58:06.651703Z",
     "start_time": "2023-04-12T06:58:06.646328Z"
    }
   },
   "outputs": [
    {
     "data": {
      "text/plain": [
       "{'image': <PIL.PngImagePlugin.PngImageFile image mode=RGB size=70x65>,\n",
       " 'label': 25,\n",
       " 'pixel_values': tensor([[[1.8037, 1.8037, 1.8037,  ..., 1.8037, 1.8037, 1.8037],\n",
       "          [1.8037, 1.8037, 1.8037,  ..., 1.8037, 1.8037, 1.8037],\n",
       "          [1.8037, 1.8037, 1.8037,  ..., 1.8037, 1.8037, 1.8037],\n",
       "          ...,\n",
       "          [1.9920, 1.9920, 1.9920,  ..., 2.1633, 2.1633, 2.1633],\n",
       "          [1.9920, 1.9920, 1.9920,  ..., 2.1633, 2.1633, 2.1633],\n",
       "          [1.9920, 1.9920, 1.9920,  ..., 2.1633, 2.1633, 2.1633]],\n",
       " \n",
       "         [[1.9734, 1.9734, 1.9734,  ..., 1.9734, 1.9734, 1.9734],\n",
       "          [1.9734, 1.9734, 1.9734,  ..., 1.9734, 1.9734, 1.9734],\n",
       "          [1.9734, 1.9734, 1.9734,  ..., 1.9734, 1.9734, 1.9734],\n",
       "          ...,\n",
       "          [2.2185, 2.2185, 2.2185,  ..., 2.3410, 2.3410, 2.3410],\n",
       "          [2.2185, 2.2185, 2.2185,  ..., 2.3410, 2.3410, 2.3410],\n",
       "          [2.2185, 2.2185, 2.2185,  ..., 2.3410, 2.3410, 2.3410]],\n",
       " \n",
       "         [[2.2217, 2.2217, 2.2217,  ..., 2.2217, 2.2217, 2.2217],\n",
       "          [2.2217, 2.2217, 2.2217,  ..., 2.2217, 2.2217, 2.2217],\n",
       "          [2.2217, 2.2217, 2.2217,  ..., 2.2217, 2.2217, 2.2217],\n",
       "          ...,\n",
       "          [2.4134, 2.4134, 2.4134,  ..., 2.5877, 2.5877, 2.5877],\n",
       "          [2.4134, 2.4134, 2.4134,  ..., 2.5877, 2.5877, 2.5877],\n",
       "          [2.4134, 2.4134, 2.4134,  ..., 2.5877, 2.5877, 2.5877]]])}"
      ]
     },
     "execution_count": 36,
     "metadata": {},
     "output_type": "execute_result"
    }
   ],
   "source": [
    "train_ds[0]"
   ]
  },
  {
   "cell_type": "code",
   "execution_count": 37,
   "id": "f2f45568",
   "metadata": {
    "ExecuteTime": {
     "end_time": "2023-04-12T06:58:13.807174Z",
     "start_time": "2023-04-12T06:58:13.093349Z"
    }
   },
   "outputs": [
    {
     "name": "stderr",
     "output_type": "stream",
     "text": [
      "Some weights of SwinForImageClassification were not initialized from the model checkpoint at fufufukakaka/autotrain-pokemon-image-classification-2-47828116910 and are newly initialized because the shapes did not match:\n",
      "- classifier.weight: found shape torch.Size([93, 1024]) in the checkpoint and torch.Size([98, 1024]) in the model instantiated\n",
      "- classifier.bias: found shape torch.Size([93]) in the checkpoint and torch.Size([98]) in the model instantiated\n",
      "You should probably TRAIN this model on a down-stream task to be able to use it for predictions and inference.\n"
     ]
    }
   ],
   "source": [
    "from transformers import AutoFeatureExtractor, AutoModelForImageClassification\n",
    "\n",
    "model = AutoModelForImageClassification.from_pretrained(\"fufufukakaka/autotrain-pokemon-image-classification-2-47828116910\",\n",
    "    label2id=label2id,\n",
    "    id2label=id2label,\n",
    "    ignore_mismatched_sizes = True)"
   ]
  },
  {
   "cell_type": "code",
   "execution_count": 38,
   "id": "e18c826f",
   "metadata": {
    "ExecuteTime": {
     "end_time": "2023-04-12T06:58:17.684275Z",
     "start_time": "2023-04-12T06:58:17.678930Z"
    }
   },
   "outputs": [],
   "source": [
    "model_name = \"pokemon_image_classifier\"\n",
    "batch_size = 32\n",
    "\n",
    "args = TrainingArguments(\n",
    "    model_name,\n",
    "    remove_unused_columns=False,\n",
    "    evaluation_strategy = \"epoch\",\n",
    "    save_strategy = \"epoch\",\n",
    "    learning_rate=5e-5,\n",
    "    per_device_train_batch_size=batch_size,\n",
    "    gradient_accumulation_steps=4,\n",
    "    per_device_eval_batch_size=batch_size,\n",
    "    num_train_epochs=20,\n",
    "    warmup_ratio=0.1,\n",
    "    logging_steps=10,\n",
    "    load_best_model_at_end=True,\n",
    "    metric_for_best_model=\"accuracy\",\n",
    ")"
   ]
  },
  {
   "cell_type": "code",
   "execution_count": 18,
   "id": "ea299f38",
   "metadata": {
    "ExecuteTime": {
     "end_time": "2023-04-11T23:52:01.948696Z",
     "start_time": "2023-04-11T23:52:01.946681Z"
    }
   },
   "outputs": [],
   "source": [
    "import numpy as np\n",
    "\n",
    "# the compute_metrics function takes a Named Tuple as input:\n",
    "# predictions, which are the logits of the model as Numpy arrays,\n",
    "# and label_ids, which are the ground-truth labels as Numpy arrays.\n",
    "def compute_metrics(eval_pred):\n",
    "    \"\"\"Computes accuracy on a batch of predictions\"\"\"\n",
    "    predictions = np.argmax(eval_pred.predictions, axis=1)\n",
    "    return metric.compute(predictions=predictions, references=eval_pred.label_ids)"
   ]
  },
  {
   "cell_type": "code",
   "execution_count": 19,
   "id": "8a6976f6",
   "metadata": {
    "ExecuteTime": {
     "end_time": "2023-04-11T23:52:02.587545Z",
     "start_time": "2023-04-11T23:52:02.584961Z"
    }
   },
   "outputs": [],
   "source": [
    "import torch\n",
    "\n",
    "def collate_fn(examples):\n",
    "    pixel_values = torch.stack([example[\"pixel_values\"] for example in examples])\n",
    "    labels = torch.tensor([example[\"label\"] for example in examples])\n",
    "    return {\"pixel_values\": pixel_values, \"labels\": labels}"
   ]
  },
  {
   "cell_type": "code",
   "execution_count": 39,
   "id": "c77abcc1",
   "metadata": {
    "ExecuteTime": {
     "end_time": "2023-04-12T06:58:25.566164Z",
     "start_time": "2023-04-12T06:58:25.504951Z"
    }
   },
   "outputs": [],
   "source": [
    "trainer = Trainer(\n",
    "    model,\n",
    "    args,\n",
    "    train_dataset=train_ds,\n",
    "    eval_dataset=val_ds,\n",
    "    tokenizer=feature_extractor,\n",
    "    compute_metrics=compute_metrics,\n",
    "    data_collator=collate_fn,\n",
    ")"
   ]
  },
  {
   "cell_type": "code",
   "execution_count": 40,
   "id": "26ee5d6c",
   "metadata": {
    "ExecuteTime": {
     "end_time": "2023-04-12T07:18:01.869285Z",
     "start_time": "2023-04-12T06:58:26.711456Z"
    },
    "scrolled": false
   },
   "outputs": [
    {
     "name": "stderr",
     "output_type": "stream",
     "text": [
      "/Users/yusuke-fukasawa/Library/Caches/pypoetry/virtualenvs/poke-battle-logger-xYV7PrtE-py3.10/lib/python3.10/site-packages/transformers/optimization.py:391: FutureWarning: This implementation of AdamW is deprecated and will be removed in a future version. Use the PyTorch implementation torch.optim.AdamW instead, or set `no_deprecation_warning=True` to disable this warning\n",
      "  warnings.warn(\n"
     ]
    },
    {
     "data": {
      "text/html": [
       "\n",
       "    <div>\n",
       "      \n",
       "      <progress value='40' max='40' style='width:300px; height:20px; vertical-align: middle;'></progress>\n",
       "      [40/40 19:05, Epoch 20/20]\n",
       "    </div>\n",
       "    <table border=\"1\" class=\"dataframe\">\n",
       "  <thead>\n",
       " <tr style=\"text-align: left;\">\n",
       "      <th>Epoch</th>\n",
       "      <th>Training Loss</th>\n",
       "      <th>Validation Loss</th>\n",
       "      <th>Accuracy</th>\n",
       "    </tr>\n",
       "  </thead>\n",
       "  <tbody>\n",
       "    <tr>\n",
       "      <td>1</td>\n",
       "      <td>No log</td>\n",
       "      <td>4.421220</td>\n",
       "      <td>0.000000</td>\n",
       "    </tr>\n",
       "    <tr>\n",
       "      <td>2</td>\n",
       "      <td>No log</td>\n",
       "      <td>4.046308</td>\n",
       "      <td>0.107143</td>\n",
       "    </tr>\n",
       "    <tr>\n",
       "      <td>3</td>\n",
       "      <td>No log</td>\n",
       "      <td>3.605418</td>\n",
       "      <td>0.178571</td>\n",
       "    </tr>\n",
       "    <tr>\n",
       "      <td>4</td>\n",
       "      <td>No log</td>\n",
       "      <td>3.203001</td>\n",
       "      <td>0.250000</td>\n",
       "    </tr>\n",
       "    <tr>\n",
       "      <td>5</td>\n",
       "      <td>3.845400</td>\n",
       "      <td>2.900344</td>\n",
       "      <td>0.321429</td>\n",
       "    </tr>\n",
       "    <tr>\n",
       "      <td>6</td>\n",
       "      <td>3.845400</td>\n",
       "      <td>2.602329</td>\n",
       "      <td>0.464286</td>\n",
       "    </tr>\n",
       "    <tr>\n",
       "      <td>7</td>\n",
       "      <td>3.845400</td>\n",
       "      <td>2.262529</td>\n",
       "      <td>0.642857</td>\n",
       "    </tr>\n",
       "    <tr>\n",
       "      <td>8</td>\n",
       "      <td>3.845400</td>\n",
       "      <td>1.987737</td>\n",
       "      <td>0.750000</td>\n",
       "    </tr>\n",
       "    <tr>\n",
       "      <td>9</td>\n",
       "      <td>3.845400</td>\n",
       "      <td>1.759317</td>\n",
       "      <td>0.785714</td>\n",
       "    </tr>\n",
       "    <tr>\n",
       "      <td>10</td>\n",
       "      <td>1.686400</td>\n",
       "      <td>1.548900</td>\n",
       "      <td>0.821429</td>\n",
       "    </tr>\n",
       "    <tr>\n",
       "      <td>11</td>\n",
       "      <td>1.686400</td>\n",
       "      <td>1.354420</td>\n",
       "      <td>0.821429</td>\n",
       "    </tr>\n",
       "    <tr>\n",
       "      <td>12</td>\n",
       "      <td>1.686400</td>\n",
       "      <td>1.183324</td>\n",
       "      <td>0.821429</td>\n",
       "    </tr>\n",
       "    <tr>\n",
       "      <td>13</td>\n",
       "      <td>1.686400</td>\n",
       "      <td>1.051540</td>\n",
       "      <td>0.821429</td>\n",
       "    </tr>\n",
       "    <tr>\n",
       "      <td>14</td>\n",
       "      <td>1.686400</td>\n",
       "      <td>0.957687</td>\n",
       "      <td>0.892857</td>\n",
       "    </tr>\n",
       "    <tr>\n",
       "      <td>15</td>\n",
       "      <td>0.742400</td>\n",
       "      <td>0.900843</td>\n",
       "      <td>0.928571</td>\n",
       "    </tr>\n",
       "    <tr>\n",
       "      <td>16</td>\n",
       "      <td>0.742400</td>\n",
       "      <td>0.858938</td>\n",
       "      <td>0.928571</td>\n",
       "    </tr>\n",
       "    <tr>\n",
       "      <td>17</td>\n",
       "      <td>0.742400</td>\n",
       "      <td>0.820305</td>\n",
       "      <td>0.928571</td>\n",
       "    </tr>\n",
       "    <tr>\n",
       "      <td>18</td>\n",
       "      <td>0.742400</td>\n",
       "      <td>0.796730</td>\n",
       "      <td>0.928571</td>\n",
       "    </tr>\n",
       "    <tr>\n",
       "      <td>19</td>\n",
       "      <td>0.742400</td>\n",
       "      <td>0.783306</td>\n",
       "      <td>0.928571</td>\n",
       "    </tr>\n",
       "    <tr>\n",
       "      <td>20</td>\n",
       "      <td>0.576800</td>\n",
       "      <td>0.778044</td>\n",
       "      <td>0.928571</td>\n",
       "    </tr>\n",
       "  </tbody>\n",
       "</table><p>"
      ],
      "text/plain": [
       "<IPython.core.display.HTML object>"
      ]
     },
     "metadata": {},
     "output_type": "display_data"
    },
    {
     "name": "stdout",
     "output_type": "stream",
     "text": [
      "***** train metrics *****\n",
      "  epoch                    =        20.0\n",
      "  total_flos               = 360855898GF\n",
      "  train_loss               =      1.7128\n",
      "  train_runtime            =  0:19:34.80\n",
      "  train_samples_per_second =       4.205\n",
      "  train_steps_per_second   =       0.034\n"
     ]
    }
   ],
   "source": [
    "train_results = trainer.train()\n",
    "# rest is optional but nice to have\n",
    "trainer.save_model()\n",
    "trainer.log_metrics(\"train\", train_results.metrics)\n",
    "trainer.save_metrics(\"train\", train_results.metrics)\n",
    "trainer.save_state()"
   ]
  },
  {
   "cell_type": "code",
   "execution_count": 41,
   "id": "3747a42a",
   "metadata": {
    "ExecuteTime": {
     "end_time": "2023-04-12T07:18:07.864765Z",
     "start_time": "2023-04-12T07:18:05.359159Z"
    }
   },
   "outputs": [
    {
     "data": {
      "text/html": [
       "\n",
       "    <div>\n",
       "      \n",
       "      <progress value='1' max='1' style='width:300px; height:20px; vertical-align: middle;'></progress>\n",
       "      [1/1 : < :]\n",
       "    </div>\n",
       "    "
      ],
      "text/plain": [
       "<IPython.core.display.HTML object>"
      ]
     },
     "metadata": {},
     "output_type": "display_data"
    },
    {
     "name": "stdout",
     "output_type": "stream",
     "text": [
      "***** eval metrics *****\n",
      "  epoch                   =       20.0\n",
      "  eval_accuracy           =     0.9286\n",
      "  eval_loss               =     0.9008\n",
      "  eval_runtime            = 0:00:02.50\n",
      "  eval_samples_per_second =     11.188\n",
      "  eval_steps_per_second   =        0.4\n"
     ]
    }
   ],
   "source": [
    "metrics = trainer.evaluate()\n",
    "# some nice to haves:\n",
    "trainer.log_metrics(\"eval\", metrics)\n",
    "trainer.save_metrics(\"eval\", metrics)"
   ]
  },
  {
   "cell_type": "code",
   "execution_count": 49,
   "id": "d4b99cc7",
   "metadata": {
    "ExecuteTime": {
     "end_time": "2023-04-12T07:26:00.535556Z",
     "start_time": "2023-04-12T07:26:00.277621Z"
    }
   },
   "outputs": [
    {
     "data": {
      "text/plain": [
       "[{'score': 0.9311748743057251, 'label': 'チヲハウハネ'},\n",
       " {'score': 0.004140698350965977, 'label': 'ウルガモス'},\n",
       " {'score': 0.0037405183538794518, 'label': 'ルガルガンたそがれ'},\n",
       " {'score': 0.00328653072938323, 'label': 'ジバコイル'},\n",
       " {'score': 0.0031914354767650366, 'label': 'ラウドボーン'}]"
      ]
     },
     "execution_count": 49,
     "metadata": {},
     "output_type": "execute_result"
    }
   ],
   "source": [
    "# 推論テスト\n",
    "import cv2\n",
    "from PIL import Image\n",
    "from transformers import pipeline\n",
    "\n",
    "classifier_pipe = pipeline(task=\"image-classification\", model=trainer.model, feature_extractor=feature_extractor)\n",
    "pokemon_image = cv2.imread(\"../template_images/labeled_pokemon_templates/チヲハウハネ_1920.png\")\n",
    "pokemon_image2 = cv2.cvtColor(pokemon_image, cv2.COLOR_BGR2RGB)\n",
    "pokemon_image3 = Image.fromarray(pokemon_image2)\n",
    "classifier_pipe(pokemon_image3)"
   ]
  }
 ],
 "metadata": {
  "kernelspec": {
   "display_name": "Python 3 (ipykernel)",
   "language": "python",
   "name": "python3"
  },
  "language_info": {
   "codemirror_mode": {
    "name": "ipython",
    "version": 3
   },
   "file_extension": ".py",
   "mimetype": "text/x-python",
   "name": "python",
   "nbconvert_exporter": "python",
   "pygments_lexer": "ipython3",
   "version": "3.10.10"
  },
  "varInspector": {
   "cols": {
    "lenName": 16,
    "lenType": 16,
    "lenVar": 40
   },
   "kernels_config": {
    "python": {
     "delete_cmd_postfix": "",
     "delete_cmd_prefix": "del ",
     "library": "var_list.py",
     "varRefreshCmd": "print(var_dic_list())"
    },
    "r": {
     "delete_cmd_postfix": ") ",
     "delete_cmd_prefix": "rm(",
     "library": "var_list.r",
     "varRefreshCmd": "cat(var_dic_list()) "
    }
   },
   "types_to_exclude": [
    "module",
    "function",
    "builtin_function_or_method",
    "instance",
    "_Feature"
   ],
   "window_display": false
  }
 },
 "nbformat": 4,
 "nbformat_minor": 5
}
