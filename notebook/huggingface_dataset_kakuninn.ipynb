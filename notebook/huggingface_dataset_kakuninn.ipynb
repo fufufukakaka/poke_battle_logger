{
 "cells": [
  {
   "cell_type": "code",
   "execution_count": 2,
   "id": "4fdf6d4a",
   "metadata": {
    "ExecuteTime": {
     "end_time": "2023-04-19T09:56:48.582981Z",
     "start_time": "2023-04-19T09:56:48.577161Z"
    }
   },
   "outputs": [
    {
     "name": "stdout",
     "output_type": "stream",
     "text": [
      "Token is valid.\n",
      "Your token has been saved in your configured git credential helpers (osxkeychain).\n",
      "Your token has been saved to /Users/yusuke-fukasawa/.cache/huggingface/token\n",
      "Login successful\n"
     ]
    }
   ],
   "source": [
    "from huggingface_hub import notebook_login\n",
    "\n",
    "notebook_login()"
   ]
  },
  {
   "cell_type": "code",
   "execution_count": 3,
   "id": "8024f4bb",
   "metadata": {
    "ExecuteTime": {
     "end_time": "2023-04-19T09:57:01.749210Z",
     "start_time": "2023-04-19T09:57:01.179857Z"
    }
   },
   "outputs": [],
   "source": [
    "from datasets import load_dataset"
   ]
  },
  {
   "cell_type": "code",
   "execution_count": 45,
   "id": "2ef39c48",
   "metadata": {
    "ExecuteTime": {
     "end_time": "2023-04-19T11:29:50.838332Z",
     "start_time": "2023-04-19T11:29:49.700782Z"
    }
   },
   "outputs": [
    {
     "data": {
      "application/vnd.jupyter.widget-view+json": {
       "model_id": "7d196263facb4aee81a36d441ceaf12f",
       "version_major": 2,
       "version_minor": 0
      },
      "text/plain": [
       "Resolving data files:   0%|          | 0/299 [00:00<?, ?it/s]"
      ]
     },
     "metadata": {},
     "output_type": "display_data"
    },
    {
     "name": "stdout",
     "output_type": "stream",
     "text": [
      "Downloading and preparing dataset imagefolder/default to /Users/yusuke-fukasawa/.cache/huggingface/datasets/imagefolder/default-fdc801262c3a6a44/0.0.0/37fbb85cc714a338bea574ac6c7d0b5be5aff46c1862c1989b20e0771199e93f...\n"
     ]
    },
    {
     "data": {
      "application/vnd.jupyter.widget-view+json": {
       "model_id": "a846c799567c44fb9a984d8a0946def4",
       "version_major": 2,
       "version_minor": 0
      },
      "text/plain": [
       "Downloading data files:   0%|          | 0/299 [00:00<?, ?it/s]"
      ]
     },
     "metadata": {},
     "output_type": "display_data"
    },
    {
     "data": {
      "application/vnd.jupyter.widget-view+json": {
       "model_id": "210b718a7a614dd1835899cd409492c5",
       "version_major": 2,
       "version_minor": 0
      },
      "text/plain": [
       "Downloading data files: 0it [00:00, ?it/s]"
      ]
     },
     "metadata": {},
     "output_type": "display_data"
    },
    {
     "data": {
      "application/vnd.jupyter.widget-view+json": {
       "model_id": "bd5a7103ecc74db78a86209e3744ed67",
       "version_major": 2,
       "version_minor": 0
      },
      "text/plain": [
       "Extracting data files: 0it [00:00, ?it/s]"
      ]
     },
     "metadata": {},
     "output_type": "display_data"
    },
    {
     "data": {
      "application/vnd.jupyter.widget-view+json": {
       "model_id": "",
       "version_major": 2,
       "version_minor": 0
      },
      "text/plain": [
       "Generating train split: 0 examples [00:00, ? examples/s]"
      ]
     },
     "metadata": {},
     "output_type": "display_data"
    },
    {
     "name": "stdout",
     "output_type": "stream",
     "text": [
      "Dataset imagefolder downloaded and prepared to /Users/yusuke-fukasawa/.cache/huggingface/datasets/imagefolder/default-fdc801262c3a6a44/0.0.0/37fbb85cc714a338bea574ac6c7d0b5be5aff46c1862c1989b20e0771199e93f. Subsequent calls will reuse this data.\n"
     ]
    }
   ],
   "source": [
    "dataset = load_dataset(\"imagefolder\", data_dir=\"../experimental/imgs/\", split='train')"
   ]
  },
  {
   "cell_type": "code",
   "execution_count": 46,
   "id": "0c38a7fc",
   "metadata": {
    "ExecuteTime": {
     "end_time": "2023-04-19T11:29:52.319372Z",
     "start_time": "2023-04-19T11:29:52.314757Z"
    }
   },
   "outputs": [
    {
     "data": {
      "text/plain": [
       "Dataset({\n",
       "    features: ['image', 'label'],\n",
       "    num_rows: 299\n",
       "})"
      ]
     },
     "execution_count": 46,
     "metadata": {},
     "output_type": "execute_result"
    }
   ],
   "source": [
    "dataset"
   ]
  },
  {
   "cell_type": "code",
   "execution_count": 47,
   "id": "00a21e40",
   "metadata": {
    "ExecuteTime": {
     "end_time": "2023-04-19T11:29:53.338953Z",
     "start_time": "2023-04-19T11:29:53.328927Z"
    }
   },
   "outputs": [],
   "source": [
    "split_dataset = dataset.train_test_split(test_size=0.1)"
   ]
  },
  {
   "cell_type": "code",
   "execution_count": 48,
   "id": "2660c0da",
   "metadata": {
    "ExecuteTime": {
     "end_time": "2023-04-19T11:29:54.028075Z",
     "start_time": "2023-04-19T11:29:54.026211Z"
    }
   },
   "outputs": [],
   "source": [
    "from transformers import SwinForImageClassification, SwinConfig, TrainingArguments, Trainer"
   ]
  },
  {
   "cell_type": "code",
   "execution_count": 49,
   "id": "6939f801",
   "metadata": {
    "ExecuteTime": {
     "end_time": "2023-04-19T11:29:55.445839Z",
     "start_time": "2023-04-19T11:29:54.673652Z"
    }
   },
   "outputs": [],
   "source": [
    "from datasets import load_metric\n",
    "\n",
    "metric = load_metric(\"accuracy\")"
   ]
  },
  {
   "cell_type": "code",
   "execution_count": 50,
   "id": "94cdd580",
   "metadata": {
    "ExecuteTime": {
     "end_time": "2023-04-19T11:29:55.476346Z",
     "start_time": "2023-04-19T11:29:55.473037Z"
    }
   },
   "outputs": [
    {
     "data": {
      "text/plain": [
       "{'image': <PIL.PngImagePlugin.PngImageFile image mode=RGB size=105x100>,\n",
       " 'label': 1}"
      ]
     },
     "execution_count": 50,
     "metadata": {},
     "output_type": "execute_result"
    }
   ],
   "source": [
    "example = split_dataset[\"train\"][10]\n",
    "example"
   ]
  },
  {
   "cell_type": "code",
   "execution_count": 51,
   "id": "21fd1b0d",
   "metadata": {
    "ExecuteTime": {
     "end_time": "2023-04-19T11:29:56.392984Z",
     "start_time": "2023-04-19T11:29:56.147449Z"
    }
   },
   "outputs": [
    {
     "name": "stderr",
     "output_type": "stream",
     "text": [
      "/Users/yusuke-fukasawa/Library/Caches/pypoetry/virtualenvs/poke-battle-logger-xYV7PrtE-py3.10/lib/python3.10/site-packages/transformers/models/vit/feature_extraction_vit.py:28: FutureWarning: The class ViTFeatureExtractor is deprecated and will be removed in version 5 of Transformers. Please use ViTImageProcessor instead.\n",
      "  warnings.warn(\n"
     ]
    },
    {
     "data": {
      "text/plain": [
       "ViTFeatureExtractor {\n",
       "  \"do_normalize\": true,\n",
       "  \"do_rescale\": true,\n",
       "  \"do_resize\": true,\n",
       "  \"feature_extractor_type\": \"ViTFeatureExtractor\",\n",
       "  \"image_mean\": [\n",
       "    0.485,\n",
       "    0.456,\n",
       "    0.406\n",
       "  ],\n",
       "  \"image_processor_type\": \"ViTFeatureExtractor\",\n",
       "  \"image_std\": [\n",
       "    0.229,\n",
       "    0.224,\n",
       "    0.225\n",
       "  ],\n",
       "  \"resample\": 3,\n",
       "  \"rescale_factor\": 0.00392156862745098,\n",
       "  \"size\": {\n",
       "    \"height\": 224,\n",
       "    \"width\": 224\n",
       "  }\n",
       "}"
      ]
     },
     "execution_count": 51,
     "metadata": {},
     "output_type": "execute_result"
    }
   ],
   "source": [
    "from transformers import AutoFeatureExtractor\n",
    "\n",
    "feature_extractor = AutoFeatureExtractor.from_pretrained(\"microsoft/swin-base-patch4-window7-224-in22k\")\n",
    "feature_extractor"
   ]
  },
  {
   "cell_type": "code",
   "execution_count": 52,
   "id": "5501c965",
   "metadata": {
    "ExecuteTime": {
     "end_time": "2023-04-19T11:29:56.804248Z",
     "start_time": "2023-04-19T11:29:56.800870Z"
    }
   },
   "outputs": [],
   "source": [
    "from torchvision.transforms import (\n",
    "    CenterCrop,\n",
    "    Compose,\n",
    "    Normalize,\n",
    "    RandomHorizontalFlip,\n",
    "    RandomResizedCrop,\n",
    "    Resize,\n",
    "    ToTensor,\n",
    ")\n",
    "\n",
    "normalize = Normalize(mean=feature_extractor.image_mean, std=feature_extractor.image_std)\n",
    "train_transforms = Compose(\n",
    "        [\n",
    "            RandomResizedCrop((feature_extractor.size[\"width\"], feature_extractor.size[\"height\"])),\n",
    "            RandomHorizontalFlip(),\n",
    "            ToTensor(),\n",
    "            normalize,\n",
    "        ]\n",
    "    )\n",
    "\n",
    "val_transforms = Compose(\n",
    "        [\n",
    "            Resize((feature_extractor.size[\"width\"], feature_extractor.size[\"height\"])),\n",
    "            CenterCrop((feature_extractor.size[\"width\"], feature_extractor.size[\"height\"])),\n",
    "            ToTensor(),\n",
    "            normalize,\n",
    "        ]\n",
    "    )\n",
    "\n",
    "def preprocess_train(example_batch):\n",
    "    \"\"\"Apply train_transforms across a batch.\"\"\"\n",
    "    example_batch[\"pixel_values\"] = [\n",
    "        train_transforms(image.convert(\"RGB\")) for image in example_batch[\"image\"]\n",
    "    ]\n",
    "    return example_batch\n",
    "\n",
    "def preprocess_val(example_batch):\n",
    "    \"\"\"Apply val_transforms across a batch.\"\"\"\n",
    "    example_batch[\"pixel_values\"] = [val_transforms(image.convert(\"RGB\")) for image in example_batch[\"image\"]]\n",
    "    return example_batch"
   ]
  },
  {
   "cell_type": "code",
   "execution_count": 53,
   "id": "6e854362",
   "metadata": {
    "ExecuteTime": {
     "end_time": "2023-04-19T11:29:57.612267Z",
     "start_time": "2023-04-19T11:29:57.608934Z"
    }
   },
   "outputs": [
    {
     "data": {
      "text/plain": [
       "'アーマーガア'"
      ]
     },
     "execution_count": 53,
     "metadata": {},
     "output_type": "execute_result"
    }
   ],
   "source": [
    "labels = split_dataset[\"train\"].features[\"label\"].names\n",
    "label2id, id2label = dict(), dict()\n",
    "for i, label in enumerate(labels):\n",
    "    label2id[label] = i\n",
    "    id2label[i] = label\n",
    "\n",
    "id2label[2]"
   ]
  },
  {
   "cell_type": "code",
   "execution_count": 54,
   "id": "55c17531",
   "metadata": {
    "ExecuteTime": {
     "end_time": "2023-04-19T11:29:58.500425Z",
     "start_time": "2023-04-19T11:29:58.490004Z"
    }
   },
   "outputs": [],
   "source": [
    "train_ds = split_dataset['train']\n",
    "val_ds = split_dataset['test']\n",
    "\n",
    "train_ds.set_transform(preprocess_train)\n",
    "val_ds.set_transform(preprocess_val)"
   ]
  },
  {
   "cell_type": "code",
   "execution_count": 55,
   "id": "f2f45568",
   "metadata": {
    "ExecuteTime": {
     "end_time": "2023-04-19T11:30:00.788735Z",
     "start_time": "2023-04-19T11:30:00.029682Z"
    }
   },
   "outputs": [
    {
     "name": "stderr",
     "output_type": "stream",
     "text": [
      "Some weights of SwinForImageClassification were not initialized from the model checkpoint at microsoft/swin-base-patch4-window7-224-in22k and are newly initialized because the shapes did not match:\n",
      "- classifier.weight: found shape torch.Size([21841, 1024]) in the checkpoint and torch.Size([102, 1024]) in the model instantiated\n",
      "- classifier.bias: found shape torch.Size([21841]) in the checkpoint and torch.Size([102]) in the model instantiated\n",
      "You should probably TRAIN this model on a down-stream task to be able to use it for predictions and inference.\n"
     ]
    }
   ],
   "source": [
    "from transformers import AutoFeatureExtractor, AutoModelForImageClassification\n",
    "\n",
    "model = AutoModelForImageClassification.from_pretrained(\"microsoft/swin-base-patch4-window7-224-in22k\",\n",
    "    label2id=label2id,\n",
    "    id2label=id2label,\n",
    "    ignore_mismatched_sizes = True)"
   ]
  },
  {
   "cell_type": "code",
   "execution_count": 56,
   "id": "f10929fb",
   "metadata": {
    "ExecuteTime": {
     "end_time": "2023-04-19T11:30:00.815657Z",
     "start_time": "2023-04-19T11:30:00.809988Z"
    }
   },
   "outputs": [],
   "source": [
    "model_name = \"pokemon_image_classifier\"\n",
    "batch_size = 16\n",
    "\n",
    "args = TrainingArguments(\n",
    "    model_name,\n",
    "    remove_unused_columns=False,\n",
    "    evaluation_strategy = \"epoch\",\n",
    "    save_strategy = \"epoch\",\n",
    "    learning_rate=5e-5,\n",
    "    per_device_train_batch_size=batch_size,\n",
    "    gradient_accumulation_steps=4,\n",
    "    per_device_eval_batch_size=batch_size,\n",
    "    num_train_epochs=20,\n",
    "    warmup_ratio=0.1,\n",
    "    logging_steps=10,\n",
    "    load_best_model_at_end=True,\n",
    "    metric_for_best_model=\"accuracy\",\n",
    ")"
   ]
  },
  {
   "cell_type": "code",
   "execution_count": 57,
   "id": "017ad54d",
   "metadata": {
    "ExecuteTime": {
     "end_time": "2023-04-19T11:30:00.838785Z",
     "start_time": "2023-04-19T11:30:00.836483Z"
    }
   },
   "outputs": [],
   "source": [
    "import numpy as np\n",
    "\n",
    "# the compute_metrics function takes a Named Tuple as input:\n",
    "# predictions, which are the logits of the model as Numpy arrays,\n",
    "# and label_ids, which are the ground-truth labels as Numpy arrays.\n",
    "def compute_metrics(eval_pred):\n",
    "    \"\"\"Computes accuracy on a batch of predictions\"\"\"\n",
    "    predictions = np.argmax(eval_pred.predictions, axis=1)\n",
    "    return metric.compute(predictions=predictions, references=eval_pred.label_ids)"
   ]
  },
  {
   "cell_type": "code",
   "execution_count": 58,
   "id": "3befac84",
   "metadata": {
    "ExecuteTime": {
     "end_time": "2023-04-19T11:30:01.881551Z",
     "start_time": "2023-04-19T11:30:01.878694Z"
    }
   },
   "outputs": [],
   "source": [
    "import torch\n",
    "\n",
    "def collate_fn(examples):\n",
    "    pixel_values = torch.stack([example[\"pixel_values\"] for example in examples])\n",
    "    labels = torch.tensor([example[\"label\"] for example in examples])\n",
    "    return {\"pixel_values\": pixel_values, \"labels\": labels}"
   ]
  },
  {
   "cell_type": "code",
   "execution_count": 59,
   "id": "ce336fa6",
   "metadata": {
    "ExecuteTime": {
     "end_time": "2023-04-19T11:30:02.531814Z",
     "start_time": "2023-04-19T11:30:02.446037Z"
    }
   },
   "outputs": [],
   "source": [
    "trainer = Trainer(\n",
    "    model,\n",
    "    args,\n",
    "    train_dataset=train_ds,\n",
    "    eval_dataset=val_ds,\n",
    "    tokenizer=feature_extractor,\n",
    "    compute_metrics=compute_metrics,\n",
    "    data_collator=collate_fn,\n",
    ")"
   ]
  },
  {
   "cell_type": "code",
   "execution_count": 60,
   "id": "8fdbc9bc",
   "metadata": {
    "ExecuteTime": {
     "end_time": "2023-04-19T11:51:44.394129Z",
     "start_time": "2023-04-19T11:30:03.073063Z"
    },
    "scrolled": false
   },
   "outputs": [
    {
     "name": "stderr",
     "output_type": "stream",
     "text": [
      "/Users/yusuke-fukasawa/Library/Caches/pypoetry/virtualenvs/poke-battle-logger-xYV7PrtE-py3.10/lib/python3.10/site-packages/transformers/optimization.py:391: FutureWarning: This implementation of AdamW is deprecated and will be removed in a future version. Use the PyTorch implementation torch.optim.AdamW instead, or set `no_deprecation_warning=True` to disable this warning\n",
      "  warnings.warn(\n"
     ]
    },
    {
     "data": {
      "text/html": [
       "\n",
       "    <div>\n",
       "      \n",
       "      <progress value='80' max='80' style='width:300px; height:20px; vertical-align: middle;'></progress>\n",
       "      [80/80 21:25, Epoch 18/20]\n",
       "    </div>\n",
       "    <table border=\"1\" class=\"dataframe\">\n",
       "  <thead>\n",
       " <tr style=\"text-align: left;\">\n",
       "      <th>Epoch</th>\n",
       "      <th>Training Loss</th>\n",
       "      <th>Validation Loss</th>\n",
       "      <th>Accuracy</th>\n",
       "    </tr>\n",
       "  </thead>\n",
       "  <tbody>\n",
       "    <tr>\n",
       "      <td>0</td>\n",
       "      <td>No log</td>\n",
       "      <td>4.645837</td>\n",
       "      <td>0.000000</td>\n",
       "    </tr>\n",
       "    <tr>\n",
       "      <td>1</td>\n",
       "      <td>No log</td>\n",
       "      <td>4.442483</td>\n",
       "      <td>0.033333</td>\n",
       "    </tr>\n",
       "    <tr>\n",
       "      <td>2</td>\n",
       "      <td>4.588600</td>\n",
       "      <td>4.231812</td>\n",
       "      <td>0.166667</td>\n",
       "    </tr>\n",
       "    <tr>\n",
       "      <td>4</td>\n",
       "      <td>4.588600</td>\n",
       "      <td>3.768491</td>\n",
       "      <td>0.300000</td>\n",
       "    </tr>\n",
       "    <tr>\n",
       "      <td>4</td>\n",
       "      <td>3.725000</td>\n",
       "      <td>3.362775</td>\n",
       "      <td>0.300000</td>\n",
       "    </tr>\n",
       "    <tr>\n",
       "      <td>5</td>\n",
       "      <td>3.725000</td>\n",
       "      <td>2.939171</td>\n",
       "      <td>0.333333</td>\n",
       "    </tr>\n",
       "    <tr>\n",
       "      <td>6</td>\n",
       "      <td>3.725000</td>\n",
       "      <td>2.540879</td>\n",
       "      <td>0.500000</td>\n",
       "    </tr>\n",
       "    <tr>\n",
       "      <td>8</td>\n",
       "      <td>2.424700</td>\n",
       "      <td>2.037956</td>\n",
       "      <td>0.633333</td>\n",
       "    </tr>\n",
       "    <tr>\n",
       "      <td>8</td>\n",
       "      <td>2.424700</td>\n",
       "      <td>1.611412</td>\n",
       "      <td>0.700000</td>\n",
       "    </tr>\n",
       "    <tr>\n",
       "      <td>9</td>\n",
       "      <td>1.361900</td>\n",
       "      <td>1.248516</td>\n",
       "      <td>0.833333</td>\n",
       "    </tr>\n",
       "    <tr>\n",
       "      <td>10</td>\n",
       "      <td>1.361900</td>\n",
       "      <td>1.012036</td>\n",
       "      <td>0.866667</td>\n",
       "    </tr>\n",
       "    <tr>\n",
       "      <td>12</td>\n",
       "      <td>0.770700</td>\n",
       "      <td>0.803218</td>\n",
       "      <td>0.900000</td>\n",
       "    </tr>\n",
       "    <tr>\n",
       "      <td>12</td>\n",
       "      <td>0.770700</td>\n",
       "      <td>0.706882</td>\n",
       "      <td>0.933333</td>\n",
       "    </tr>\n",
       "    <tr>\n",
       "      <td>13</td>\n",
       "      <td>0.770700</td>\n",
       "      <td>0.626958</td>\n",
       "      <td>0.933333</td>\n",
       "    </tr>\n",
       "    <tr>\n",
       "      <td>14</td>\n",
       "      <td>0.562700</td>\n",
       "      <td>0.573008</td>\n",
       "      <td>0.933333</td>\n",
       "    </tr>\n",
       "    <tr>\n",
       "      <td>16</td>\n",
       "      <td>0.562700</td>\n",
       "      <td>0.525494</td>\n",
       "      <td>0.933333</td>\n",
       "    </tr>\n",
       "    <tr>\n",
       "      <td>16</td>\n",
       "      <td>0.390500</td>\n",
       "      <td>0.505627</td>\n",
       "      <td>0.933333</td>\n",
       "    </tr>\n",
       "    <tr>\n",
       "      <td>17</td>\n",
       "      <td>0.390500</td>\n",
       "      <td>0.495460</td>\n",
       "      <td>0.933333</td>\n",
       "    </tr>\n",
       "    <tr>\n",
       "      <td>18</td>\n",
       "      <td>0.435200</td>\n",
       "      <td>0.491742</td>\n",
       "      <td>0.933333</td>\n",
       "    </tr>\n",
       "  </tbody>\n",
       "</table><p>"
      ],
      "text/plain": [
       "<IPython.core.display.HTML object>"
      ]
     },
     "metadata": {},
     "output_type": "display_data"
    },
    {
     "name": "stdout",
     "output_type": "stream",
     "text": [
      "***** train metrics *****\n",
      "  epoch                    =       18.82\n",
      "  total_flos               = 370077386GF\n",
      "  train_loss               =      1.7824\n",
      "  train_runtime            =  0:21:40.90\n",
      "  train_samples_per_second =       4.136\n",
      "  train_steps_per_second   =       0.061\n"
     ]
    }
   ],
   "source": [
    "train_results = trainer.train()\n",
    "# rest is optional but nice to have\n",
    "trainer.save_model()\n",
    "trainer.log_metrics(\"train\", train_results.metrics)\n",
    "trainer.save_metrics(\"train\", train_results.metrics)\n",
    "trainer.save_state()"
   ]
  },
  {
   "cell_type": "code",
   "execution_count": 61,
   "id": "88908552",
   "metadata": {
    "ExecuteTime": {
     "end_time": "2023-04-19T12:01:58.822651Z",
     "start_time": "2023-04-19T12:01:55.756458Z"
    }
   },
   "outputs": [
    {
     "data": {
      "text/html": [
       "\n",
       "    <div>\n",
       "      \n",
       "      <progress value='2' max='2' style='width:300px; height:20px; vertical-align: middle;'></progress>\n",
       "      [2/2 00:01]\n",
       "    </div>\n",
       "    "
      ],
      "text/plain": [
       "<IPython.core.display.HTML object>"
      ]
     },
     "metadata": {},
     "output_type": "display_data"
    },
    {
     "name": "stdout",
     "output_type": "stream",
     "text": [
      "***** eval metrics *****\n",
      "  epoch                   =      18.82\n",
      "  eval_accuracy           =     0.9333\n",
      "  eval_loss               =     0.7069\n",
      "  eval_runtime            = 0:00:03.06\n",
      "  eval_samples_per_second =      9.802\n",
      "  eval_steps_per_second   =      0.653\n"
     ]
    }
   ],
   "source": [
    "metrics = trainer.evaluate()\n",
    "# some nice to haves:\n",
    "trainer.log_metrics(\"eval\", metrics)\n",
    "trainer.save_metrics(\"eval\", metrics)"
   ]
  },
  {
   "cell_type": "code",
   "execution_count": 22,
   "id": "b519d128",
   "metadata": {
    "ExecuteTime": {
     "end_time": "2023-04-19T10:21:47.366413Z",
     "start_time": "2023-04-19T10:21:47.163304Z"
    }
   },
   "outputs": [
    {
     "data": {
      "text/plain": [
       "[{'score': 0.9883771538734436, 'label': 'アラブルタケ'},\n",
       " {'score': 0.001104199094697833, 'label': 'ハリテヤマ'},\n",
       " {'score': 0.0007938448106870055, 'label': 'ヒートロトム'},\n",
       " {'score': 0.0006930785602889955, 'label': 'ハピナス'},\n",
       " {'score': 0.0003589704865589738, 'label': 'ドドゲザン'}]"
      ]
     },
     "execution_count": 22,
     "metadata": {},
     "output_type": "execute_result"
    }
   ],
   "source": [
    "# 推論テスト\n",
    "import cv2\n",
    "from PIL import Image\n",
    "from transformers import pipeline\n",
    "\n",
    "classifier_pipe = pipeline(task=\"image-classification\", model=trainer.model, feature_extractor=feature_extractor)\n",
    "pokemon_image = cv2.imread(\"../template_images/labeled_pokemon_templates/アラブルタケ_1920.png\")\n",
    "pokemon_image2 = cv2.cvtColor(pokemon_image, cv2.COLOR_BGR2RGB)\n",
    "pokemon_image3 = Image.fromarray(pokemon_image2)\n",
    "classifier_pipe(pokemon_image3)"
   ]
  },
  {
   "cell_type": "code",
   "execution_count": 23,
   "id": "19b00adc",
   "metadata": {
    "ExecuteTime": {
     "end_time": "2023-04-19T10:21:50.274970Z",
     "start_time": "2023-04-19T10:21:50.267714Z"
    }
   },
   "outputs": [
    {
     "data": {
      "image/png": "[encoded data removed]",
      "text/plain": [
       "<PIL.PngImagePlugin.PngImageFile image mode=RGB size=70x65>"
      ]
     },
     "execution_count": 23,
     "metadata": {},
     "output_type": "execute_result"
    }
   ],
   "source": [
    "val_ds[0]['image']"
   ]
  },
  {
   "cell_type": "code",
   "execution_count": 24,
   "id": "4a9472e4",
   "metadata": {
    "ExecuteTime": {
     "end_time": "2023-04-19T10:21:51.726341Z",
     "start_time": "2023-04-19T10:21:51.531148Z"
    }
   },
   "outputs": [
    {
     "data": {
      "text/plain": [
       "[{'score': 0.6496335864067078, 'label': 'ノココッチ'},\n",
       " {'score': 0.025586964562535286, 'label': 'テツノカイナ'},\n",
       " {'score': 0.02314147725701332, 'label': 'モロバレル'},\n",
       " {'score': 0.014269602485001087, 'label': 'ウォッシュロトム'},\n",
       " {'score': 0.013751938939094543, 'label': 'ルチャブル'}]"
      ]
     },
     "execution_count": 24,
     "metadata": {},
     "output_type": "execute_result"
    }
   ],
   "source": [
    "classifier_pipe(val_ds[0]['image'])"
   ]
  },
  {
   "cell_type": "code",
   "execution_count": 62,
   "id": "9ba23306",
   "metadata": {
    "ExecuteTime": {
     "end_time": "2023-04-19T12:11:26.978986Z",
     "start_time": "2023-04-19T12:11:22.124788Z"
    }
   },
   "outputs": [
    {
     "name": "stdout",
     "output_type": "stream",
     "text": [
      "0 {'score': 0.9861047863960266, 'label': 'キノガッサ'} キノガッサ\n",
      "1 {'score': 0.9976893663406372, 'label': 'カイリュー'} カイリュー\n",
      "2 {'score': 0.6496335864067078, 'label': 'ノココッチ'} ノココッチ\n",
      "3 {'score': 0.9914306998252869, 'label': 'サーフゴー'} サーフゴー\n",
      "4 {'score': 0.9912173748016357, 'label': 'サーフゴー'} サーフゴー\n",
      "5 {'score': 0.9859327673912048, 'label': 'コノヨザル'} コノヨザル\n",
      "6 {'score': 0.9791321754455566, 'label': 'トドロクツキ'} トドロクツキ\n",
      "7 {'score': 0.9103250503540039, 'label': 'ドヒドイデ'} ドヒドイデ\n",
      "8 {'score': 0.9924294352531433, 'label': 'ディンルー'} ディンルー\n",
      "9 {'score': 0.964611291885376, 'label': 'ベトベトン'} ベトベトン\n",
      "10 {'score': 0.9390482306480408, 'label': 'メタモン'} メタモン\n",
      "11 {'score': 0.9389435648918152, 'label': 'マスカーニャ'} マスカーニャ\n",
      "12 {'score': 0.9838091135025024, 'label': 'ウェーニバル'} ウェーニバル\n",
      "13 {'score': 0.8798924684524536, 'label': 'ソウブレイズ'} ソウブレイズ\n",
      "14 {'score': 0.992107093334198, 'label': 'サザンドラ'} サザンドラ\n",
      "15 {'score': 0.9378718137741089, 'label': 'パルデアケンタロス水'} パルデアケンタロス水\n",
      "16 {'score': 0.9927954077720642, 'label': 'ドドゲザン'} ドドゲザン\n",
      "17 {'score': 0.9744356870651245, 'label': 'エルレイド'} エルレイド\n",
      "18 {'score': 0.9642029404640198, 'label': 'ミミッキュ'} ミミッキュ\n",
      "19 {'score': 0.9891287684440613, 'label': 'モロバレル'} モロバレル\n",
      "20 {'score': 0.8482389450073242, 'label': 'アマージョ'} アマージョ\n",
      "21 {'score': 0.9602450728416443, 'label': 'ゾロアーク'} ゾロアーク\n",
      "22 {'score': 0.16889695823192596, 'label': 'ドヒドイデ'} ハルクジラ\n",
      "23 {'score': 0.9701125621795654, 'label': 'チャーレム'} チャーレム\n",
      "24 {'score': 0.9907172322273254, 'label': 'ハバタクカミ'} ハバタクカミ\n",
      "25 {'score': 0.724853515625, 'label': 'ルガルガンたそがれ'} ルガルガンたそがれ\n",
      "26 {'score': 0.6185042262077332, 'label': 'ゲンガー'} ゲンガー\n",
      "27 {'score': 0.9712689518928528, 'label': 'ヤミラミ'} ヤミラミ\n",
      "28 {'score': 0.724853515625, 'label': 'ルガルガンたそがれ'} ルガルガンたそがれ\n",
      "29 {'score': 0.9634827971458435, 'label': 'ムクホーク'} ムクホーク\n"
     ]
    }
   ],
   "source": [
    "for idx, _val in enumerate(val_ds):\n",
    "    predict = classifier_pipe(_val['image'])\n",
    "    _label = id2label[_val[\"label\"]]\n",
    "    print(idx, predict[0], _label)"
   ]
  },
  {
   "cell_type": "code",
   "execution_count": 44,
   "id": "cf6d32fc",
   "metadata": {
    "ExecuteTime": {
     "end_time": "2023-04-19T11:25:37.460656Z",
     "start_time": "2023-04-19T11:24:53.919284Z"
    }
   },
   "outputs": [
    {
     "name": "stdout",
     "output_type": "stream",
     "text": [
      "0 {'score': 0.9852884411811829, 'label': 'ラウドボーン'} ラウドボーン\n",
      "1 {'score': 0.9815838932991028, 'label': 'ヌメルゴン'} ヌメルゴン\n",
      "2 {'score': 0.79530268907547, 'label': 'ルチャブル'} ルチャブル\n",
      "3 {'score': 0.9695276021957397, 'label': 'ライチュウ'} ライチュウ\n",
      "4 {'score': 0.9555325508117676, 'label': 'イーユイ'} イーユイ\n",
      "5 {'score': 0.9790841341018677, 'label': 'アラブルタケ'} アラブルタケ\n",
      "6 {'score': 0.9848802089691162, 'label': 'パーモット'} パーモット\n",
      "7 {'score': 0.9933816194534302, 'label': 'キラフロル'} キラフロル\n",
      "8 {'score': 0.16889695823192596, 'label': 'ドヒドイデ'} ハルクジラ\n",
      "9 {'score': 0.9695276021957397, 'label': 'ライチュウ'} ライチュウ\n",
      "10 {'score': 0.9883771538734436, 'label': 'アラブルタケ'} アラブルタケ\n",
      "11 {'score': 0.9927954077720642, 'label': 'ドドゲザン'} ドドゲザン\n",
      "12 {'score': 0.9911308288574219, 'label': 'ディンルー'} ディンルー\n",
      "13 {'score': 0.9241600036621094, 'label': 'カバルドン'} カバルドン\n",
      "14 {'score': 0.9848802089691162, 'label': 'パーモット'} パーモット\n",
      "15 {'score': 0.7392957210540771, 'label': 'チヲハウハネ'} チヲハウハネ\n",
      "16 {'score': 0.9735182523727417, 'label': 'ガブリアス'} ガブリアス\n",
      "17 {'score': 0.8926987648010254, 'label': 'オリーヴァ'} オリーヴァ\n",
      "18 {'score': 0.994045615196228, 'label': 'ドラパルト'} ドラパルト\n",
      "19 {'score': 0.7942618727684021, 'label': 'カットロトム'} カットロトム\n",
      "20 {'score': 0.9925107955932617, 'label': 'キョジオーン'} キョジオーン\n",
      "21 {'score': 0.9707024693489075, 'label': 'ウルガモス'} ウルガモス\n",
      "22 {'score': 0.9856528043746948, 'label': 'コノヨザル'} コノヨザル\n",
      "23 {'score': 0.9959845542907715, 'label': 'ハッサム'} ハッサム\n",
      "24 {'score': 0.79530268907547, 'label': 'ルチャブル'} ルチャブル\n",
      "25 {'score': 0.9230289459228516, 'label': 'ミミッキュ'} ミミッキュ\n",
      "26 {'score': 0.9640547037124634, 'label': 'パオジアン'} パオジアン\n",
      "27 {'score': 0.9848730564117432, 'label': 'ヤミラミ'} ヤミラミ\n",
      "28 {'score': 0.16889695823192596, 'label': 'ドヒドイデ'} ハルクジラ\n",
      "29 {'score': 0.9905819892883301, 'label': 'エンニュート'} エンニュート\n",
      "30 {'score': 0.9795624017715454, 'label': 'オーロンゲ'} オーロンゲ\n",
      "31 {'score': 0.939525306224823, 'label': 'テツノワダチ'} テツノワダチ\n",
      "32 {'score': 0.8871578574180603, 'label': 'パルシェン'} パルシェン\n",
      "33 {'score': 0.9532704949378967, 'label': 'ヒートロトム'} ヒートロトム\n",
      "34 {'score': 0.9390482306480408, 'label': 'メタモン'} メタモン\n",
      "35 {'score': 0.9910266995429993, 'label': 'ディンルー'} ディンルー\n",
      "36 {'score': 0.9267017245292664, 'label': 'テツノブジン'} テツノブジン\n",
      "37 {'score': 0.966171383857727, 'label': 'グレンアルマ'} グレンアルマ\n",
      "38 {'score': 0.9378718137741089, 'label': 'パルデアケンタロス水'} パルデアケンタロス水\n",
      "39 {'score': 0.7694917917251587, 'label': 'サーナイト'} サーナイト\n",
      "40 {'score': 0.9495469331741333, 'label': 'マスカーニャ'} マスカーニャ\n",
      "41 {'score': 0.9931305050849915, 'label': 'ディンルー'} ディンルー\n",
      "42 {'score': 0.9889408946037292, 'label': 'テツノツツミ'} テツノツツミ\n",
      "43 {'score': 0.9979585409164429, 'label': 'サーフゴー'} サーフゴー\n",
      "44 {'score': 0.989276647567749, 'label': 'キラフロル'} キラフロル\n",
      "45 {'score': 0.9820019006729126, 'label': 'テツノツツミ'} テツノツツミ\n",
      "46 {'score': 0.9938365817070007, 'label': 'ハッサム'} ハッサム\n",
      "47 {'score': 0.8408677577972412, 'label': 'カラミンゴ'} カラミンゴ\n",
      "48 {'score': 0.9938883185386658, 'label': 'サーフゴー'} サーフゴー\n",
      "49 {'score': 0.9896217584609985, 'label': 'キノガッサ'} キノガッサ\n",
      "50 {'score': 0.9705222249031067, 'label': 'ムクホーク'} ムクホーク\n",
      "51 {'score': 0.9247584939002991, 'label': 'ブリムオン'} ブリムオン\n",
      "52 {'score': 0.9577437043190002, 'label': 'バンギラス'} バンギラス\n",
      "53 {'score': 0.9702600240707397, 'label': 'テツノカイナ'} テツノカイナ\n",
      "54 {'score': 0.9940295219421387, 'label': 'ミミズズ'} ミミズズ\n",
      "55 {'score': 0.9816672801971436, 'label': 'ペリッパー'} ペリッパー\n",
      "56 {'score': 0.9905819892883301, 'label': 'エンニュート'} エンニュート\n",
      "57 {'score': 0.9924902319908142, 'label': 'ハバタクカミ'} ハバタクカミ\n",
      "58 {'score': 0.9838815927505493, 'label': 'ドドゲザン'} ドドゲザン\n",
      "59 {'score': 0.9980313181877136, 'label': 'サーフゴー'} サーフゴー\n",
      "60 {'score': 0.9976893663406372, 'label': 'カイリュー'} カイリュー\n",
      "61 {'score': 0.9634827971458435, 'label': 'ムクホーク'} ムクホーク\n",
      "62 {'score': 0.9859448671340942, 'label': 'ガブリアス'} ガブリアス\n",
      "63 {'score': 0.9516716599464417, 'label': 'イエッサン'} イエッサン\n",
      "64 {'score': 0.9744356870651245, 'label': 'エルレイド'} エルレイド\n",
      "65 {'score': 0.9816672801971436, 'label': 'ペリッパー'} ペリッパー\n",
      "66 {'score': 0.9915257096290588, 'label': 'ディンルー'} ディンルー\n",
      "67 {'score': 0.9914705157279968, 'label': 'キノガッサ'} キノガッサ\n",
      "68 {'score': 0.7076679468154907, 'label': 'コータス'} コータス\n",
      "69 {'score': 0.9366587400436401, 'label': 'テツノドクガ'} テツノドクガ\n",
      "70 {'score': 0.9422405362129211, 'label': 'ドンファン'} ドンファン\n",
      "71 {'score': 0.8566714525222778, 'label': 'ハバタクカミ'} ハバタクカミ\n",
      "72 {'score': 0.9403952956199646, 'label': 'テツノカイナ'} テツノカイナ\n",
      "73 {'score': 0.9929885268211365, 'label': 'ジバコイル'} ジバコイル\n",
      "74 {'score': 0.9730798602104187, 'label': 'ドオー'} ドオー\n",
      "75 {'score': 0.9103250503540039, 'label': 'ドヒドイデ'} ドヒドイデ\n",
      "76 {'score': 0.9086864590644836, 'label': 'オリーヴァ'} オリーヴァ\n",
      "77 {'score': 0.9565682411193848, 'label': 'フワライド'} フワライド\n",
      "78 {'score': 0.9936447143554688, 'label': 'ミミズズ'} ミミズズ\n",
      "79 {'score': 0.8216153383255005, 'label': 'ハラバリー'} ハラバリー\n",
      "80 {'score': 0.9962484240531921, 'label': 'ハッサム'} ハッサム\n",
      "81 {'score': 0.9935249090194702, 'label': 'ハッサム'} ハッサム\n",
      "82 {'score': 0.9524045586585999, 'label': 'ハピナス'} ハピナス\n",
      "83 {'score': 0.9844794869422913, 'label': 'ウォッシュロトム'} ウォッシュロトム\n",
      "84 {'score': 0.9087278842926025, 'label': 'マリルリ'} マリルリ\n",
      "85 {'score': 0.989931583404541, 'label': 'ジバコイル'} ジバコイル\n",
      "86 {'score': 0.9706900119781494, 'label': 'バンギラス'} バンギラス\n",
      "87 {'score': 0.9522449970245361, 'label': 'ピカチュウ'} ピカチュウ\n",
      "88 {'score': 0.8970803022384644, 'label': 'オトシドリ'} オトシドリ\n",
      "89 {'score': 0.7757309675216675, 'label': 'イダイナキバ'} イダイナキバ\n",
      "90 {'score': 0.9954849481582642, 'label': 'サザンドラ'} サザンドラ\n",
      "91 {'score': 0.9936112761497498, 'label': 'ディンルー'} ディンルー\n",
      "92 {'score': 0.9852884411811829, 'label': 'ラウドボーン'} ラウドボーン\n",
      "93 {'score': 0.9946980476379395, 'label': 'ハバタクカミ'} ハバタクカミ\n",
      "94 {'score': 0.8896095752716064, 'label': 'セグレイブ'} セグレイブ\n",
      "95 {'score': 0.8990145921707153, 'label': 'マリルリ'} マリルリ\n",
      "96 {'score': 0.6190776228904724, 'label': 'ハラバリー'} ハラバリー\n",
      "97 {'score': 0.9707024693489075, 'label': 'ウルガモス'} ウルガモス\n",
      "98 {'score': 0.9802682399749756, 'label': 'ドラパルト'} ドラパルト\n",
      "99 {'score': 0.9852874279022217, 'label': 'デカヌチャン'} デカヌチャン\n",
      "100 {'score': 0.9897510409355164, 'label': 'コノヨザル'} コノヨザル\n",
      "101 {'score': 0.9960973858833313, 'label': 'ハッサム'} ハッサム\n",
      "102 {'score': 0.9907400608062744, 'label': 'キョジオーン'} キョジオーン\n",
      "103 {'score': 0.8628626465797424, 'label': 'イダイナキバ'} イダイナキバ\n",
      "104 {'score': 0.994045615196228, 'label': 'ドラパルト'} ドラパルト\n",
      "105 {'score': 0.9976180195808411, 'label': 'ハッサム'} ハッサム\n",
      "106 {'score': 0.9884958267211914, 'label': 'キノガッサ'} キノガッサ\n",
      "107 {'score': 0.9683557152748108, 'label': 'ラウドボーン'} ラウドボーン\n",
      "108 {'score': 0.9791321754455566, 'label': 'トドロクツキ'} トドロクツキ\n",
      "109 {'score': 0.9369669556617737, 'label': 'アーマーガア'} アーマーガア\n",
      "110 {'score': 0.939525306224823, 'label': 'テツノワダチ'} テツノワダチ\n",
      "111 {'score': 0.9984238147735596, 'label': 'カイリュー'} カイリュー\n",
      "112 {'score': 0.9932356476783752, 'label': 'キョジオーン'} キョジオーン\n",
      "113 {'score': 0.9891287684440613, 'label': 'モロバレル'} モロバレル\n",
      "114 {'score': 0.9935036301612854, 'label': 'サーフゴー'} サーフゴー\n",
      "115 {'score': 0.9698265790939331, 'label': 'デカヌチャン'} デカヌチャン\n",
      "116 {'score': 0.9900616407394409, 'label': 'ヌメルゴン'} ヌメルゴン\n",
      "117 {'score': 0.976947009563446, 'label': 'チオンジェン'} チオンジェン\n",
      "118 {'score': 0.9599527716636658, 'label': 'ギャラドス'} ギャラドス\n",
      "119 {'score': 0.98377925157547, 'label': 'テツノツツミ'} テツノツツミ\n",
      "120 {'score': 0.36073070764541626, 'label': 'ルカリオ'} ルカリオ\n",
      "121 {'score': 0.9897114038467407, 'label': 'リククラゲ'} リククラゲ\n",
      "122 {'score': 0.9707320332527161, 'label': 'エーフィ'} エーフィ\n",
      "123 {'score': 0.9764067530632019, 'label': 'トドロクツキ'} トドロクツキ\n",
      "124 {'score': 0.6708311438560486, 'label': 'トリトドン'} トリトドン\n",
      "125 {'score': 0.911449670791626, 'label': 'ピカチュウ'} ピカチュウ\n",
      "126 {'score': 0.9883852005004883, 'label': 'ヌメルゴン'} ヌメルゴン\n",
      "127 {'score': 0.9892550706863403, 'label': 'タギングル'} タギングル\n",
      "128 {'score': 0.9709416031837463, 'label': 'リングマ'} リングマ\n",
      "129 {'score': 0.885551393032074, 'label': 'テツノカイナ'} テツノカイナ\n",
      "130 {'score': 0.8337863087654114, 'label': 'ストリンダー'} ストリンダー\n",
      "131 {'score': 0.9773774743080139, 'label': 'ミミズズ'} ミミズズ\n",
      "132 {'score': 0.9891818165779114, 'label': 'コノヨザル'} コノヨザル\n",
      "133 {'score': 0.9176908135414124, 'label': 'マスカーニャ'} マスカーニャ\n",
      "134 {'score': 0.9944080114364624, 'label': 'ハバタクカミ'} ハバタクカミ\n",
      "135 {'score': 0.8408677577972412, 'label': 'カラミンゴ'} カラミンゴ\n",
      "136 {'score': 0.9881929755210876, 'label': 'ヌメルゴン'} ヌメルゴン\n",
      "137 {'score': 0.8443612456321716, 'label': 'カバルドン'} カバルドン\n",
      "138 {'score': 0.2793857455253601, 'label': 'ブラッキー'} ブラッキー\n",
      "139 {'score': 0.8717473149299622, 'label': 'サケブシッポ'} サケブシッポ\n",
      "140 {'score': 0.9823285937309265, 'label': 'エルレイド'} エルレイド\n",
      "141 {'score': 0.9767556190490723, 'label': 'イルカマン'} イルカマン\n",
      "142 {'score': 0.9872236251831055, 'label': 'ジバコイル'} ジバコイル\n",
      "143 {'score': 0.9007990956306458, 'label': 'マスカーニャ'} マスカーニャ\n"
     ]
    },
    {
     "name": "stdout",
     "output_type": "stream",
     "text": [
      "144 {'score': 0.9789515137672424, 'label': 'タイカイデン'} タイカイデン\n",
      "145 {'score': 0.964607298374176, 'label': 'テツノドクガ'} テツノドクガ\n",
      "146 {'score': 0.36073070764541626, 'label': 'ルカリオ'} ルカリオ\n",
      "147 {'score': 0.9501165747642517, 'label': 'パオジアン'} パオジアン\n",
      "148 {'score': 0.7392957210540771, 'label': 'チヲハウハネ'} チヲハウハネ\n",
      "149 {'score': 0.9935362935066223, 'label': 'ミミズズ'} ミミズズ\n",
      "150 {'score': 0.47775065898895264, 'label': 'ブラッキー'} ブラッキー\n",
      "151 {'score': 0.9881006479263306, 'label': 'サザンドラ'} サザンドラ\n",
      "152 {'score': 0.964611291885376, 'label': 'ベトベトン'} ベトベトン\n",
      "153 {'score': 0.9847123622894287, 'label': 'オーロンゲ'} オーロンゲ\n",
      "154 {'score': 0.995428204536438, 'label': 'ハバタクカミ'} ハバタクカミ\n",
      "155 {'score': 0.9891340136528015, 'label': 'ディンルー'} ディンルー\n",
      "156 {'score': 0.9555325508117676, 'label': 'イーユイ'} イーユイ\n",
      "157 {'score': 0.9913794994354248, 'label': 'ハバタクカミ'} ハバタクカミ\n",
      "158 {'score': 0.9486728310585022, 'label': 'ハリテヤマ'} ハリテヤマ\n",
      "159 {'score': 0.9369669556617737, 'label': 'アーマーガア'} アーマーガア\n",
      "160 {'score': 0.7076679468154907, 'label': 'コータス'} コータス\n",
      "161 {'score': 0.8871578574180603, 'label': 'パルシェン'} パルシェン\n",
      "162 {'score': 0.907623827457428, 'label': 'ニンフィア'} ニンフィア\n",
      "163 {'score': 0.9792353510856628, 'label': 'ヌメルゴン'} ヌメルゴン\n",
      "164 {'score': 0.9577437043190002, 'label': 'バンギラス'} バンギラス\n",
      "165 {'score': 0.9200090765953064, 'label': 'パオジアン'} パオジアン\n",
      "166 {'score': 0.9709416031837463, 'label': 'リングマ'} リングマ\n",
      "167 {'score': 0.9907824397087097, 'label': 'ミミズズ'} ミミズズ\n",
      "168 {'score': 0.9111453294754028, 'label': 'マリルリ'} マリルリ\n",
      "169 {'score': 0.9565682411193848, 'label': 'フワライド'} フワライド\n",
      "170 {'score': 0.9927223324775696, 'label': 'ハバタクカミ'} ハバタクカミ\n",
      "171 {'score': 0.6185042262077332, 'label': 'ゲンガー'} ゲンガー\n",
      "172 {'score': 0.9980675578117371, 'label': 'カイリュー'} カイリュー\n",
      "173 {'score': 0.9783389568328857, 'label': 'タイカイデン'} タイカイデン\n",
      "174 {'score': 0.990209698677063, 'label': 'リククラゲ'} リククラゲ\n",
      "175 {'score': 0.9450670480728149, 'label': 'セグレイブ'} セグレイブ\n",
      "176 {'score': 0.990649402141571, 'label': 'ドラパルト'} ドラパルト\n",
      "177 {'score': 0.9685548543930054, 'label': 'コノヨザル'} コノヨザル\n",
      "178 {'score': 0.976947009563446, 'label': 'チオンジェン'} チオンジェン\n",
      "179 {'score': 0.9969037175178528, 'label': 'カイリュー'} カイリュー\n",
      "180 {'score': 0.8704026937484741, 'label': 'シャワーズ'} シャワーズ\n",
      "181 {'score': 0.9954928159713745, 'label': 'サザンドラ'} サザンドラ\n",
      "182 {'score': 0.9961977601051331, 'label': 'ハッサム'} ハッサム\n",
      "183 {'score': 0.9838091135025024, 'label': 'ウェーニバル'} ウェーニバル\n",
      "184 {'score': 0.6813197135925293, 'label': 'ヘイラッシャ'} ヘイラッシャ\n",
      "185 {'score': 0.994321346282959, 'label': 'ハバタクカミ'} ハバタクカミ\n",
      "186 {'score': 0.8717473149299622, 'label': 'サケブシッポ'} サケブシッポ\n",
      "187 {'score': 0.9947578310966492, 'label': 'ハバタクカミ'} ハバタクカミ\n",
      "188 {'score': 0.9267017245292664, 'label': 'テツノブジン'} テツノブジン\n",
      "189 {'score': 0.9436150193214417, 'label': 'スナノケガワ'} スナノケガワ\n",
      "190 {'score': 0.17568564414978027, 'label': 'ドヒドイデ'} ハルクジラ\n",
      "191 {'score': 0.9719557762145996, 'label': 'クエスパトラ'} クエスパトラ\n",
      "192 {'score': 0.9532704949378967, 'label': 'ヒートロトム'} ヒートロトム\n",
      "193 {'score': 0.9844794869422913, 'label': 'ウォッシュロトム'} ウォッシュロトム\n",
      "194 {'score': 0.9914228320121765, 'label': 'ディンルー'} ディンルー\n",
      "195 {'score': 0.7694917917251587, 'label': 'サーナイト'} サーナイト\n",
      "196 {'score': 0.964611291885376, 'label': 'ベトベトン'} ベトベトン\n",
      "197 {'score': 0.9486728310585022, 'label': 'ハリテヤマ'} ハリテヤマ\n",
      "198 {'score': 0.9705222249031067, 'label': 'ムクホーク'} ムクホーク\n",
      "199 {'score': 0.6496335864067078, 'label': 'ノココッチ'} ノココッチ\n",
      "200 {'score': 0.9925107955932617, 'label': 'キョジオーン'} キョジオーン\n",
      "201 {'score': 0.9848730564117432, 'label': 'ヤミラミ'} ヤミラミ\n",
      "202 {'score': 0.9965342283248901, 'label': 'サーフゴー'} サーフゴー\n",
      "203 {'score': 0.9760199189186096, 'label': 'ギャラドス'} ギャラドス\n",
      "204 {'score': 0.9630913138389587, 'label': 'ミミッキュ'} ミミッキュ\n",
      "205 {'score': 0.9942867159843445, 'label': 'キラフロル'} キラフロル\n",
      "206 {'score': 0.9891340136528015, 'label': 'ディンルー'} ディンルー\n",
      "207 {'score': 0.9801319241523743, 'label': 'フォレトス'} フォレトス\n",
      "208 {'score': 0.9701125621795654, 'label': 'チャーレム'} チャーレム\n",
      "209 {'score': 0.907623827457428, 'label': 'ニンフィア'} ニンフィア\n",
      "210 {'score': 0.9725649356842041, 'label': 'バンバドロ'} バンバドロ\n",
      "211 {'score': 0.990209698677063, 'label': 'リククラゲ'} リククラゲ\n",
      "212 {'score': 0.9602450728416443, 'label': 'ゾロアーク'} ゾロアーク\n",
      "213 {'score': 0.9784765839576721, 'label': 'クエスパトラ'} クエスパトラ\n",
      "214 {'score': 0.9247584939002991, 'label': 'ブリムオン'} ブリムオン\n",
      "215 {'score': 0.9291793704032898, 'label': 'イルカマン'} イルカマン\n",
      "216 {'score': 0.8798924684524536, 'label': 'ソウブレイズ'} ソウブレイズ\n",
      "217 {'score': 0.9607637524604797, 'label': 'カバルドン'} カバルドン\n",
      "218 {'score': 0.9792766571044922, 'label': 'デカヌチャン'} デカヌチャン\n",
      "219 {'score': 0.9873901605606079, 'label': 'キノガッサ'} キノガッサ\n",
      "220 {'score': 0.9725649356842041, 'label': 'バンバドロ'} バンバドロ\n",
      "221 {'score': 0.9854265451431274, 'label': 'ヌメルゴン'} ヌメルゴン\n",
      "222 {'score': 0.2793857455253601, 'label': 'ブラッキー'} ブラッキー\n",
      "223 {'score': 0.8482389450073242, 'label': 'アマージョ'} アマージョ\n",
      "224 {'score': 0.9984238147735596, 'label': 'カイリュー'} カイリュー\n",
      "225 {'score': 0.9892550706863403, 'label': 'タギングル'} タギングル\n",
      "226 {'score': 0.9438472986221313, 'label': 'ウインディ'} ウインディ\n",
      "227 {'score': 0.9769557118415833, 'label': 'ドドゲザン'} ドドゲザン\n",
      "228 {'score': 0.966171383857727, 'label': 'グレンアルマ'} グレンアルマ\n",
      "229 {'score': 0.9897493720054626, 'label': 'ハバタクカミ'} ハバタクカミ\n",
      "230 {'score': 0.9707320332527161, 'label': 'エーフィ'} エーフィ\n",
      "231 {'score': 0.9702600240707397, 'label': 'テツノカイナ'} テツノカイナ\n",
      "232 {'score': 0.9926706552505493, 'label': 'ジバコイル'} ジバコイル\n",
      "233 {'score': 0.9524045586585999, 'label': 'ハピナス'} ハピナス\n",
      "234 {'score': 0.9980675578117371, 'label': 'カイリュー'} カイリュー\n",
      "235 {'score': 0.9866719841957092, 'label': 'モロバレル'} モロバレル\n",
      "236 {'score': 0.7308645844459534, 'label': 'トリトドン'} トリトドン\n",
      "237 {'score': 0.9492505788803101, 'label': 'ガブリアス'} ガブリアス\n",
      "238 {'score': 0.9676972031593323, 'label': 'ウォッシュロトム'} ウォッシュロトム\n",
      "239 {'score': 0.985102653503418, 'label': 'イーユイ'} イーユイ\n",
      "240 {'score': 0.8337863087654114, 'label': 'ストリンダー'} ストリンダー\n",
      "241 {'score': 0.9710691571235657, 'label': 'テツノツツミ'} テツノツツミ\n",
      "242 {'score': 0.870220422744751, 'label': 'ハカドッグ'} ハカドッグ\n",
      "243 {'score': 0.9438472986221313, 'label': 'ウインディ'} ウインディ\n",
      "244 {'score': 0.9801319241523743, 'label': 'フォレトス'} フォレトス\n",
      "245 {'score': 0.9427626729011536, 'label': 'スナノケガワ'} スナノケガワ\n",
      "246 {'score': 0.9952306151390076, 'label': 'ハッサム'} ハッサム\n",
      "247 {'score': 0.8970803022384644, 'label': 'オトシドリ'} オトシドリ\n",
      "248 {'score': 0.9033131003379822, 'label': 'オノノクス'} オノノクス\n",
      "249 {'score': 0.9882463812828064, 'label': 'ヌメルゴン'} ヌメルゴン\n",
      "250 {'score': 0.7942618727684021, 'label': 'カットロトム'} カットロトム\n",
      "251 {'score': 0.9516716599464417, 'label': 'イエッサン'} イエッサン\n",
      "252 {'score': 0.8704026937484741, 'label': 'シャワーズ'} シャワーズ\n",
      "253 {'score': 0.9422405362129211, 'label': 'ドンファン'} ドンファン\n",
      "254 {'score': 0.9759929776191711, 'label': 'テツノドクガ'} テツノドクガ\n",
      "255 {'score': 0.9779980182647705, 'label': 'ラウドボーン'} ラウドボーン\n",
      "256 {'score': 0.99565190076828, 'label': 'カイリュー'} カイリュー\n",
      "257 {'score': 0.9633218050003052, 'label': 'ウォッシュロトム'} ウォッシュロトム\n",
      "258 {'score': 0.9866719841957092, 'label': 'モロバレル'} モロバレル\n",
      "259 {'score': 0.9550577998161316, 'label': 'ドオー'} ドオー\n",
      "260 {'score': 0.9198728203773499, 'label': 'セグレイブ'} セグレイブ\n",
      "261 {'score': 0.9522449970245361, 'label': 'ピカチュウ'} ピカチュウ\n",
      "262 {'score': 0.9778363704681396, 'label': 'イーユイ'} イーユイ\n",
      "263 {'score': 0.9805737137794495, 'label': 'テツノドクガ'} テツノドクガ\n",
      "264 {'score': 0.994288444519043, 'label': 'ハッサム'} ハッサム\n",
      "265 {'score': 0.958487868309021, 'label': 'オノノクス'} オノノクス\n",
      "266 {'score': 0.9913924932479858, 'label': 'サーフゴー'} サーフゴー\n",
      "267 {'score': 0.9889408946037292, 'label': 'テツノツツミ'} テツノツツミ\n"
     ]
    }
   ],
   "source": [
    "for idx, _train in enumerate(train_ds):\n",
    "    predict = classifier_pipe(_train['image'])\n",
    "    _label = id2label[_train[\"label\"]]\n",
    "    print(idx, predict[0], _label)"
   ]
  },
  {
   "cell_type": "code",
   "execution_count": 63,
   "id": "87edd2bb",
   "metadata": {
    "ExecuteTime": {
     "end_time": "2023-04-19T12:47:58.864209Z",
     "start_time": "2023-04-19T12:47:57.939551Z"
    }
   },
   "outputs": [
    {
     "data": {
      "text/plain": [
       "'https://huggingface.co/fufufukakaka/pokemon_image_classifier/blob/refs%2Fpr%2F10/config.json'"
      ]
     },
     "execution_count": 63,
     "metadata": {},
     "output_type": "execute_result"
    }
   ],
   "source": [
    "from huggingface_hub import upload_file\n",
    "\n",
    "upload_file(\n",
    "    path_or_fileobj=\"pokemon_image_classifier/config.json\",\n",
    "    path_in_repo=\"config.json\",\n",
    "    repo_id=\"fufufukakaka/pokemon_image_classifier\",\n",
    "    create_pr=1\n",
    ")"
   ]
  },
  {
   "cell_type": "code",
   "execution_count": 64,
   "id": "97d36de9",
   "metadata": {
    "ExecuteTime": {
     "end_time": "2023-04-19T12:53:16.819593Z",
     "start_time": "2023-04-19T12:47:58.899294Z"
    }
   },
   "outputs": [
    {
     "data": {
      "application/vnd.jupyter.widget-view+json": {
       "model_id": "19175bdcb7dd449bbf61aa50a83d696d",
       "version_major": 2,
       "version_minor": 0
      },
      "text/plain": [
       "Upload 1 LFS files:   0%|          | 0/1 [00:00<?, ?it/s]"
      ]
     },
     "metadata": {},
     "output_type": "display_data"
    },
    {
     "data": {
      "application/vnd.jupyter.widget-view+json": {
       "model_id": "a679753c93e34508b0f8ab9adfa10856",
       "version_major": 2,
       "version_minor": 0
      },
      "text/plain": [
       "pytorch_model.bin:   0%|          | 0.00/348M [00:00<?, ?B/s]"
      ]
     },
     "metadata": {},
     "output_type": "display_data"
    },
    {
     "data": {
      "text/plain": [
       "'https://huggingface.co/fufufukakaka/pokemon_image_classifier/blob/refs%2Fpr%2F11/pytorch_model.bin'"
      ]
     },
     "execution_count": 64,
     "metadata": {},
     "output_type": "execute_result"
    }
   ],
   "source": [
    "upload_file(\n",
    "    path_or_fileobj=\"pokemon_image_classifier/pytorch_model.bin\",\n",
    "    path_in_repo=\"pytorch_model.bin\",\n",
    "    repo_id=\"fufufukakaka/pokemon_image_classifier\",\n",
    "    create_pr=1\n",
    ")"
   ]
  },
  {
   "cell_type": "code",
   "execution_count": 65,
   "id": "182adc1a",
   "metadata": {
    "ExecuteTime": {
     "end_time": "2023-04-19T12:53:17.922041Z",
     "start_time": "2023-04-19T12:53:16.854183Z"
    }
   },
   "outputs": [
    {
     "data": {
      "text/plain": [
       "'https://huggingface.co/fufufukakaka/pokemon_image_classifier/blob/refs%2Fpr%2F12/preprocessor_config.json'"
      ]
     },
     "execution_count": 65,
     "metadata": {},
     "output_type": "execute_result"
    }
   ],
   "source": [
    "upload_file(\n",
    "    path_or_fileobj=\"pokemon_image_classifier/preprocessor_config.json\",\n",
    "    path_in_repo=\"preprocessor_config.json\",\n",
    "    repo_id=\"fufufukakaka/pokemon_image_classifier\",\n",
    "    create_pr=1\n",
    ")"
   ]
  }
 ],
 "metadata": {
  "kernelspec": {
   "display_name": "Python 3 (ipykernel)",
   "language": "python",
   "name": "python3"
  },
  "language_info": {
   "codemirror_mode": {
    "name": "ipython",
    "version": 3
   },
   "file_extension": ".py",
   "mimetype": "text/x-python",
   "name": "python",
   "nbconvert_exporter": "python",
   "pygments_lexer": "ipython3",
   "version": "3.10.10"
  },
  "varInspector": {
   "cols": {
    "lenName": 16,
    "lenType": 16,
    "lenVar": 40
   },
   "kernels_config": {
    "python": {
     "delete_cmd_postfix": "",
     "delete_cmd_prefix": "del ",
     "library": "var_list.py",
     "varRefreshCmd": "print(var_dic_list())"
    },
    "r": {
     "delete_cmd_postfix": ") ",
     "delete_cmd_prefix": "rm(",
     "library": "var_list.r",
     "varRefreshCmd": "cat(var_dic_list()) "
    }
   },
   "types_to_exclude": [
    "module",
    "function",
    "builtin_function_or_method",
    "instance",
    "_Feature"
   ],
   "window_display": false
  }
 },
 "nbformat": 4,
 "nbformat_minor": 5
}
