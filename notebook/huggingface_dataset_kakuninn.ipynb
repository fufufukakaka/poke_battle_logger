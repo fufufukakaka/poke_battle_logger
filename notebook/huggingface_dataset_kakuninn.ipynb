{
 "cells": [
  {
   "cell_type": "code",
   "execution_count": 7,
   "id": "3d4adea9",
   "metadata": {},
   "outputs": [],
   "source": [
    "from huggingface_hub import notebook_login\n"
   ]
  },
  {
   "cell_type": "code",
   "execution_count": 8,
   "id": "4fdf6d4a",
   "metadata": {
    "ExecuteTime": {
     "end_time": "2023-07-17T03:47:03.731436Z",
     "start_time": "2023-07-17T03:47:03.597563Z"
    }
   },
   "outputs": [
    {
     "ename": "ImportError",
     "evalue": "The `notebook_login` function can only be used in a notebook (Jupyter or Colab) and you need the `ipywidgets` module: `pip install ipywidgets`.",
     "output_type": "error",
     "traceback": [
      "\u001b[0;31m---------------------------------------------------------------------------\u001b[0m",
      "\u001b[0;31mModuleNotFoundError\u001b[0m                       Traceback (most recent call last)",
      "File \u001b[0;32m~/Library/Caches/pypoetry/virtualenvs/poke-battle-logger-xYV7PrtE-py3.10/lib/python3.10/site-packages/huggingface_hub/_login.py:183\u001b[0m, in \u001b[0;36mnotebook_login\u001b[0;34m()\u001b[0m\n\u001b[1;32m    182\u001b[0m \u001b[39mtry\u001b[39;00m:\n\u001b[0;32m--> 183\u001b[0m     \u001b[39mimport\u001b[39;00m \u001b[39mipywidgets\u001b[39;00m\u001b[39m.\u001b[39;00m\u001b[39mwidgets\u001b[39;00m \u001b[39mas\u001b[39;00m \u001b[39mwidgets\u001b[39;00m  \u001b[39m# type: ignore\u001b[39;00m\n\u001b[1;32m    184\u001b[0m     \u001b[39mfrom\u001b[39;00m \u001b[39mIPython\u001b[39;00m\u001b[39m.\u001b[39;00m\u001b[39mdisplay\u001b[39;00m \u001b[39mimport\u001b[39;00m display  \u001b[39m# type: ignore\u001b[39;00m\n",
      "\u001b[0;31mModuleNotFoundError\u001b[0m: No module named 'ipywidgets'",
      "\nDuring handling of the above exception, another exception occurred:\n",
      "\u001b[0;31mImportError\u001b[0m                               Traceback (most recent call last)",
      "\u001b[1;32m/Users/yusuke-fukasawa/Documents/github/poke_battle_logger/notebook/huggingface_dataset_kakuninn.ipynb Cell 2\u001b[0m line \u001b[0;36m1\n\u001b[0;32m----> <a href='vscode-notebook-cell:/Users/yusuke-fukasawa/Documents/github/poke_battle_logger/notebook/huggingface_dataset_kakuninn.ipynb#X50sZmlsZQ%3D%3D?line=0'>1</a>\u001b[0m notebook_login()\n",
      "File \u001b[0;32m~/Library/Caches/pypoetry/virtualenvs/poke-battle-logger-xYV7PrtE-py3.10/lib/python3.10/site-packages/huggingface_hub/_login.py:186\u001b[0m, in \u001b[0;36mnotebook_login\u001b[0;34m()\u001b[0m\n\u001b[1;32m    184\u001b[0m     \u001b[39mfrom\u001b[39;00m \u001b[39mIPython\u001b[39;00m\u001b[39m.\u001b[39;00m\u001b[39mdisplay\u001b[39;00m \u001b[39mimport\u001b[39;00m display  \u001b[39m# type: ignore\u001b[39;00m\n\u001b[1;32m    185\u001b[0m \u001b[39mexcept\u001b[39;00m \u001b[39mImportError\u001b[39;00m:\n\u001b[0;32m--> 186\u001b[0m     \u001b[39mraise\u001b[39;00m \u001b[39mImportError\u001b[39;00m(\n\u001b[1;32m    187\u001b[0m         \u001b[39m\"\u001b[39m\u001b[39mThe `notebook_login` function can only be used in a notebook (Jupyter or\u001b[39m\u001b[39m\"\u001b[39m\n\u001b[1;32m    188\u001b[0m         \u001b[39m\"\u001b[39m\u001b[39m Colab) and you need the `ipywidgets` module: `pip install ipywidgets`.\u001b[39m\u001b[39m\"\u001b[39m\n\u001b[1;32m    189\u001b[0m     )\n\u001b[1;32m    191\u001b[0m box_layout \u001b[39m=\u001b[39m widgets\u001b[39m.\u001b[39mLayout(display\u001b[39m=\u001b[39m\u001b[39m\"\u001b[39m\u001b[39mflex\u001b[39m\u001b[39m\"\u001b[39m, flex_flow\u001b[39m=\u001b[39m\u001b[39m\"\u001b[39m\u001b[39mcolumn\u001b[39m\u001b[39m\"\u001b[39m, align_items\u001b[39m=\u001b[39m\u001b[39m\"\u001b[39m\u001b[39mcenter\u001b[39m\u001b[39m\"\u001b[39m, width\u001b[39m=\u001b[39m\u001b[39m\"\u001b[39m\u001b[39m50\u001b[39m\u001b[39m%\u001b[39m\u001b[39m\"\u001b[39m)\n\u001b[1;32m    193\u001b[0m token_widget \u001b[39m=\u001b[39m widgets\u001b[39m.\u001b[39mPassword(description\u001b[39m=\u001b[39m\u001b[39m\"\u001b[39m\u001b[39mToken:\u001b[39m\u001b[39m\"\u001b[39m)\n",
      "\u001b[0;31mImportError\u001b[0m: The `notebook_login` function can only be used in a notebook (Jupyter or Colab) and you need the `ipywidgets` module: `pip install ipywidgets`."
     ]
    }
   ],
   "source": [
    "notebook_login()\n"
   ]
  },
  {
   "cell_type": "code",
   "execution_count": 9,
   "id": "8024f4bb",
   "metadata": {
    "ExecuteTime": {
     "end_time": "2023-07-17T03:47:13.482285Z",
     "start_time": "2023-07-17T03:47:13.148819Z"
    }
   },
   "outputs": [],
   "source": [
    "from datasets import load_dataset\n"
   ]
  },
  {
   "cell_type": "code",
   "execution_count": 27,
   "id": "2ef39c48",
   "metadata": {
    "ExecuteTime": {
     "end_time": "2023-07-19T06:02:29.530958Z",
     "start_time": "2023-07-19T06:02:28.234305Z"
    }
   },
   "outputs": [
    {
     "name": "stderr",
     "output_type": "stream",
     "text": [
      "Resolving data files: 100%|██████████| 436/436 [00:00<00:00, 467343.87it/s]\n",
      "Downloading data files: 100%|██████████| 436/436 [00:00<00:00, 65583.01it/s]\n",
      "Downloading data files: 0it [00:00, ?it/s]\n",
      "Extracting data files: 0it [00:00, ?it/s]\n",
      "Generating train split: 436 examples [00:00, 17830.35 examples/s]\n"
     ]
    }
   ],
   "source": [
    "dataset = load_dataset(\"imagefolder\", data_dir=\"../experimental/imgs/\", split='train', drop_labels=False)\n"
   ]
  },
  {
   "cell_type": "code",
   "execution_count": 28,
   "id": "0c38a7fc",
   "metadata": {
    "ExecuteTime": {
     "end_time": "2023-07-19T06:02:32.914444Z",
     "start_time": "2023-07-19T06:02:32.910267Z"
    }
   },
   "outputs": [
    {
     "data": {
      "text/plain": [
       "Dataset({\n",
       "    features: ['image', 'label'],\n",
       "    num_rows: 436\n",
       "})"
      ]
     },
     "execution_count": 28,
     "metadata": {},
     "output_type": "execute_result"
    }
   ],
   "source": [
    "dataset\n"
   ]
  },
  {
   "cell_type": "code",
   "execution_count": 29,
   "id": "00a21e40",
   "metadata": {
    "ExecuteTime": {
     "end_time": "2023-07-19T06:02:34.595980Z",
     "start_time": "2023-07-19T06:02:34.579335Z"
    }
   },
   "outputs": [],
   "source": [
    "split_dataset = dataset.train_test_split(test_size=0.1)\n"
   ]
  },
  {
   "cell_type": "code",
   "execution_count": 13,
   "id": "2660c0da",
   "metadata": {
    "ExecuteTime": {
     "end_time": "2023-07-18T23:43:30.449488Z",
     "start_time": "2023-07-18T23:43:30.445710Z"
    }
   },
   "outputs": [],
   "source": [
    "from transformers import SwinForImageClassification, SwinConfig, TrainingArguments, Trainer\n"
   ]
  },
  {
   "cell_type": "code",
   "execution_count": 14,
   "id": "6939f801",
   "metadata": {
    "ExecuteTime": {
     "end_time": "2023-07-19T06:02:38.592404Z",
     "start_time": "2023-07-19T06:02:37.484624Z"
    }
   },
   "outputs": [
    {
     "name": "stderr",
     "output_type": "stream",
     "text": [
      "/var/folders/tf/xcqcrf2n4kqgmmsn4w_t22b80000gn/T/ipykernel_63355/99795553.py:3: FutureWarning: load_metric is deprecated and will be removed in the next major version of datasets. Use 'evaluate.load' instead, from the new library 🤗 Evaluate: https://huggingface.co/docs/evaluate\n",
      "  metric = load_metric(\"accuracy\")\n",
      "Downloading builder script: 4.21kB [00:00, 7.42MB/s]                   \n"
     ]
    }
   ],
   "source": [
    "from datasets import load_metric\n",
    "\n",
    "metric = load_metric(\"accuracy\")\n"
   ]
  },
  {
   "cell_type": "code",
   "execution_count": 21,
   "id": "94cdd580",
   "metadata": {
    "ExecuteTime": {
     "end_time": "2023-07-18T23:43:33.893387Z",
     "start_time": "2023-07-18T23:43:33.885455Z"
    }
   },
   "outputs": [
    {
     "data": {
      "text/plain": [
       "{'image': <PIL.PngImagePlugin.PngImageFile image mode=RGB size=70x60>}"
      ]
     },
     "execution_count": 21,
     "metadata": {},
     "output_type": "execute_result"
    }
   ],
   "source": [
    "example = split_dataset[\"train\"][10]\n",
    "example\n"
   ]
  },
  {
   "cell_type": "code",
   "execution_count": 20,
   "id": "21fd1b0d",
   "metadata": {
    "ExecuteTime": {
     "end_time": "2023-07-19T06:02:40.883931Z",
     "start_time": "2023-07-19T06:02:40.623774Z"
    }
   },
   "outputs": [
    {
     "data": {
      "text/plain": [
       "ViTFeatureExtractor {\n",
       "  \"do_normalize\": true,\n",
       "  \"do_rescale\": true,\n",
       "  \"do_resize\": true,\n",
       "  \"feature_extractor_type\": \"ViTFeatureExtractor\",\n",
       "  \"image_mean\": [\n",
       "    0.485,\n",
       "    0.456,\n",
       "    0.406\n",
       "  ],\n",
       "  \"image_processor_type\": \"ViTFeatureExtractor\",\n",
       "  \"image_std\": [\n",
       "    0.229,\n",
       "    0.224,\n",
       "    0.225\n",
       "  ],\n",
       "  \"resample\": 3,\n",
       "  \"rescale_factor\": 0.00392156862745098,\n",
       "  \"size\": {\n",
       "    \"height\": 224,\n",
       "    \"width\": 224\n",
       "  }\n",
       "}"
      ]
     },
     "execution_count": 20,
     "metadata": {},
     "output_type": "execute_result"
    }
   ],
   "source": [
    "from transformers import AutoFeatureExtractor\n",
    "\n",
    "feature_extractor = AutoFeatureExtractor.from_pretrained(\"microsoft/swin-base-patch4-window7-224-in22k\")\n",
    "feature_extractor\n"
   ]
  },
  {
   "cell_type": "code",
   "execution_count": 17,
   "id": "5501c965",
   "metadata": {
    "ExecuteTime": {
     "end_time": "2023-07-19T06:02:42.913762Z",
     "start_time": "2023-07-19T06:02:42.908932Z"
    }
   },
   "outputs": [],
   "source": [
    "from torchvision.transforms import (\n",
    "    CenterCrop,\n",
    "    Compose,\n",
    "    Normalize,\n",
    "    RandomHorizontalFlip,\n",
    "    RandomResizedCrop,\n",
    "    Resize,\n",
    "    ToTensor,\n",
    ")\n",
    "\n",
    "normalize = Normalize(mean=feature_extractor.image_mean, std=feature_extractor.image_std)\n",
    "train_transforms = Compose(\n",
    "        [\n",
    "            RandomResizedCrop((feature_extractor.size[\"width\"], feature_extractor.size[\"height\"])),\n",
    "            RandomHorizontalFlip(),\n",
    "            ToTensor(),\n",
    "            normalize,\n",
    "        ]\n",
    "    )\n",
    "\n",
    "val_transforms = Compose(\n",
    "        [\n",
    "            Resize((feature_extractor.size[\"width\"], feature_extractor.size[\"height\"])),\n",
    "            CenterCrop((feature_extractor.size[\"width\"], feature_extractor.size[\"height\"])),\n",
    "            ToTensor(),\n",
    "            normalize,\n",
    "        ]\n",
    "    )\n",
    "\n",
    "def preprocess_train(example_batch):\n",
    "    \"\"\"Apply train_transforms across a batch.\"\"\"\n",
    "    example_batch[\"pixel_values\"] = [\n",
    "        train_transforms(image.convert(\"RGB\")) for image in example_batch[\"image\"]\n",
    "    ]\n",
    "    return example_batch\n",
    "\n",
    "def preprocess_val(example_batch):\n",
    "    \"\"\"Apply val_transforms across a batch.\"\"\"\n",
    "    example_batch[\"pixel_values\"] = [val_transforms(image.convert(\"RGB\")) for image in example_batch[\"image\"]]\n",
    "    return example_batch\n"
   ]
  },
  {
   "cell_type": "code",
   "execution_count": 30,
   "id": "6e854362",
   "metadata": {
    "ExecuteTime": {
     "end_time": "2023-07-19T06:02:45.113480Z",
     "start_time": "2023-07-19T06:02:45.110641Z"
    }
   },
   "outputs": [
    {
     "data": {
      "text/plain": [
       "'アラブルタケ'"
      ]
     },
     "execution_count": 30,
     "metadata": {},
     "output_type": "execute_result"
    }
   ],
   "source": [
    "labels = split_dataset[\"train\"].features[\"label\"].names\n",
    "label2id, id2label = dict(), dict()\n",
    "for i, label in enumerate(labels):\n",
    "    label2id[label] = i\n",
    "    id2label[i] = label\n",
    "\n",
    "id2label[2]\n"
   ]
  },
  {
   "cell_type": "code",
   "execution_count": 31,
   "id": "55c17531",
   "metadata": {
    "ExecuteTime": {
     "end_time": "2023-07-19T06:02:46.826231Z",
     "start_time": "2023-07-19T06:02:46.820110Z"
    }
   },
   "outputs": [],
   "source": [
    "train_ds = split_dataset['train']\n",
    "val_ds = split_dataset['test']\n",
    "\n",
    "train_ds.set_transform(preprocess_train)\n",
    "val_ds.set_transform(preprocess_val)\n"
   ]
  },
  {
   "cell_type": "code",
   "execution_count": 32,
   "id": "f2f45568",
   "metadata": {
    "ExecuteTime": {
     "end_time": "2023-07-19T06:02:48.455752Z",
     "start_time": "2023-07-19T06:02:47.514617Z"
    }
   },
   "outputs": [
    {
     "name": "stderr",
     "output_type": "stream",
     "text": [
      "Some weights of SwinForImageClassification were not initialized from the model checkpoint at microsoft/swin-base-patch4-window7-224-in22k and are newly initialized because the shapes did not match:\n",
      "- classifier.weight: found shape torch.Size([21841, 1024]) in the checkpoint and torch.Size([152, 1024]) in the model instantiated\n",
      "- classifier.bias: found shape torch.Size([21841]) in the checkpoint and torch.Size([152]) in the model instantiated\n",
      "You should probably TRAIN this model on a down-stream task to be able to use it for predictions and inference.\n"
     ]
    }
   ],
   "source": [
    "from transformers import AutoFeatureExtractor, AutoModelForImageClassification\n",
    "\n",
    "model = AutoModelForImageClassification.from_pretrained(\"microsoft/swin-base-patch4-window7-224-in22k\",\n",
    "    label2id=label2id,\n",
    "    id2label=id2label,\n",
    "    ignore_mismatched_sizes = True)\n"
   ]
  },
  {
   "cell_type": "code",
   "execution_count": 33,
   "id": "f10929fb",
   "metadata": {
    "ExecuteTime": {
     "end_time": "2023-07-19T06:02:48.486189Z",
     "start_time": "2023-07-19T06:02:48.480578Z"
    }
   },
   "outputs": [],
   "source": [
    "model_name = \"pokemon_image_classifier\"\n",
    "batch_size = 16\n",
    "\n",
    "args = TrainingArguments(\n",
    "    model_name,\n",
    "    remove_unused_columns=False,\n",
    "    evaluation_strategy = \"epoch\",\n",
    "    save_strategy = \"epoch\",\n",
    "    learning_rate=5e-5,\n",
    "    per_device_train_batch_size=batch_size,\n",
    "    gradient_accumulation_steps=4,\n",
    "    per_device_eval_batch_size=batch_size,\n",
    "    num_train_epochs=20,\n",
    "    warmup_ratio=0.1,\n",
    "    logging_steps=10,\n",
    "    load_best_model_at_end=True,\n",
    "    metric_for_best_model=\"accuracy\",\n",
    ")\n"
   ]
  },
  {
   "cell_type": "code",
   "execution_count": 34,
   "id": "017ad54d",
   "metadata": {
    "ExecuteTime": {
     "end_time": "2023-07-19T06:02:48.957459Z",
     "start_time": "2023-07-19T06:02:48.953346Z"
    }
   },
   "outputs": [],
   "source": [
    "import numpy as np\n",
    "\n",
    "# the compute_metrics function takes a Named Tuple as input:\n",
    "# predictions, which are the logits of the model as Numpy arrays,\n",
    "# and label_ids, which are the ground-truth labels as Numpy arrays.\n",
    "def compute_metrics(eval_pred):\n",
    "    \"\"\"Computes accuracy on a batch of predictions\"\"\"\n",
    "    predictions = np.argmax(eval_pred.predictions, axis=1)\n",
    "    return metric.compute(predictions=predictions, references=eval_pred.label_ids)\n"
   ]
  },
  {
   "cell_type": "code",
   "execution_count": 35,
   "id": "3befac84",
   "metadata": {
    "ExecuteTime": {
     "end_time": "2023-07-19T06:02:49.564920Z",
     "start_time": "2023-07-19T06:02:49.561408Z"
    }
   },
   "outputs": [],
   "source": [
    "import torch\n",
    "\n",
    "def collate_fn(examples):\n",
    "    pixel_values = torch.stack([example[\"pixel_values\"] for example in examples])\n",
    "    labels = torch.tensor([example[\"label\"] for example in examples])\n",
    "    return {\"pixel_values\": pixel_values, \"labels\": labels}\n"
   ]
  },
  {
   "cell_type": "code",
   "execution_count": 36,
   "id": "ce336fa6",
   "metadata": {
    "ExecuteTime": {
     "end_time": "2023-07-19T06:02:50.241992Z",
     "start_time": "2023-07-19T06:02:50.182776Z"
    }
   },
   "outputs": [],
   "source": [
    "trainer = Trainer(\n",
    "    model,\n",
    "    args,\n",
    "    train_dataset=train_ds,\n",
    "    eval_dataset=val_ds,\n",
    "    tokenizer=feature_extractor,\n",
    "    compute_metrics=compute_metrics,\n",
    "    data_collator=collate_fn,\n",
    ")\n"
   ]
  },
  {
   "cell_type": "code",
   "execution_count": 37,
   "id": "8fdbc9bc",
   "metadata": {
    "ExecuteTime": {
     "end_time": "2023-07-19T06:28:40.321480Z",
     "start_time": "2023-07-19T06:02:51.044901Z"
    }
   },
   "outputs": [
    {
     "name": "stderr",
     "output_type": "stream",
     "text": [
      "/Users/yusuke-fukasawa/Library/Caches/pypoetry/virtualenvs/poke-battle-logger-xYV7PrtE-py3.10/lib/python3.10/site-packages/transformers/optimization.py:407: FutureWarning: This implementation of AdamW is deprecated and will be removed in a future version. Use the PyTorch implementation torch.optim.AdamW instead, or set `no_deprecation_warning=True` to disable this warning\n",
      "  warnings.warn(\n",
      "                                               \n",
      "  5%|▌         | 6/120 [01:47<31:45, 16.71s/it]"
     ]
    },
    {
     "name": "stdout",
     "output_type": "stream",
     "text": [
      "{'eval_loss': 4.951968669891357, 'eval_accuracy': 0.022727272727272728, 'eval_runtime': 4.527, 'eval_samples_per_second': 9.72, 'eval_steps_per_second': 0.663, 'epoch': 0.96}\n"
     ]
    },
    {
     "name": "stderr",
     "output_type": "stream",
     "text": [
      "  8%|▊         | 10/120 [02:52<31:35, 17.23s/it]"
     ]
    },
    {
     "name": "stdout",
     "output_type": "stream",
     "text": [
      "{'loss': 4.9945, 'learning_rate': 4.166666666666667e-05, 'epoch': 1.6}\n"
     ]
    },
    {
     "name": "stderr",
     "output_type": "stream",
     "text": [
      "                                                \n",
      " 10%|█         | 12/120 [03:36<30:30, 16.95s/it]"
     ]
    },
    {
     "name": "stdout",
     "output_type": "stream",
     "text": [
      "{'eval_loss': 4.551794052124023, 'eval_accuracy': 0.13636363636363635, 'eval_runtime': 4.504, 'eval_samples_per_second': 9.769, 'eval_steps_per_second': 0.666, 'epoch': 1.92}\n"
     ]
    },
    {
     "name": "stderr",
     "output_type": "stream",
     "text": [
      "                                                \n",
      " 15%|█▌        | 18/120 [05:24<28:33, 16.79s/it]"
     ]
    },
    {
     "name": "stdout",
     "output_type": "stream",
     "text": [
      "{'eval_loss': 3.9259047508239746, 'eval_accuracy': 0.29545454545454547, 'eval_runtime': 4.7184, 'eval_samples_per_second': 9.325, 'eval_steps_per_second': 0.636, 'epoch': 2.88}\n"
     ]
    },
    {
     "name": "stderr",
     "output_type": "stream",
     "text": [
      " 17%|█▋        | 20/120 [05:46<29:24, 17.65s/it]"
     ]
    },
    {
     "name": "stdout",
     "output_type": "stream",
     "text": [
      "{'loss': 4.2877, 'learning_rate': 4.62962962962963e-05, 'epoch': 3.2}\n"
     ]
    },
    {
     "name": "stderr",
     "output_type": "stream",
     "text": [
      "                                                \n",
      " 21%|██        | 25/120 [07:11<25:16, 15.96s/it]"
     ]
    },
    {
     "name": "stdout",
     "output_type": "stream",
     "text": [
      "{'eval_loss': 3.0556862354278564, 'eval_accuracy': 0.4090909090909091, 'eval_runtime': 4.6388, 'eval_samples_per_second': 9.485, 'eval_steps_per_second': 0.647, 'epoch': 4.0}\n"
     ]
    },
    {
     "name": "stderr",
     "output_type": "stream",
     "text": [
      " 25%|██▌       | 30/120 [08:34<25:12, 16.81s/it]"
     ]
    },
    {
     "name": "stdout",
     "output_type": "stream",
     "text": [
      "{'loss': 2.9252, 'learning_rate': 4.166666666666667e-05, 'epoch': 4.8}\n"
     ]
    },
    {
     "name": "stderr",
     "output_type": "stream",
     "text": [
      "                                                \n",
      " 26%|██▌       | 31/120 [08:57<24:37, 16.60s/it]"
     ]
    },
    {
     "name": "stdout",
     "output_type": "stream",
     "text": [
      "{'eval_loss': 2.430053949356079, 'eval_accuracy': 0.5681818181818182, 'eval_runtime': 4.5072, 'eval_samples_per_second': 9.762, 'eval_steps_per_second': 0.666, 'epoch': 4.96}\n"
     ]
    },
    {
     "name": "stderr",
     "output_type": "stream",
     "text": [
      "                                                \n",
      " 31%|███       | 37/120 [10:42<22:44, 16.44s/it]"
     ]
    },
    {
     "name": "stdout",
     "output_type": "stream",
     "text": [
      "{'eval_loss': 1.9038513898849487, 'eval_accuracy': 0.6818181818181818, 'eval_runtime': 4.5083, 'eval_samples_per_second': 9.76, 'eval_steps_per_second': 0.665, 'epoch': 5.92}\n"
     ]
    },
    {
     "name": "stderr",
     "output_type": "stream",
     "text": [
      " 33%|███▎      | 40/120 [11:25<22:37, 16.97s/it]"
     ]
    },
    {
     "name": "stdout",
     "output_type": "stream",
     "text": [
      "{'loss': 1.8728, 'learning_rate': 3.7037037037037037e-05, 'epoch': 6.4}\n"
     ]
    },
    {
     "name": "stderr",
     "output_type": "stream",
     "text": [
      "                                                \n",
      " 36%|███▌      | 43/120 [12:28<21:03, 16.41s/it]"
     ]
    },
    {
     "name": "stdout",
     "output_type": "stream",
     "text": [
      "{'eval_loss': 1.5274890661239624, 'eval_accuracy': 0.7954545454545454, 'eval_runtime': 4.491, 'eval_samples_per_second': 9.797, 'eval_steps_per_second': 0.668, 'epoch': 6.88}\n"
     ]
    },
    {
     "name": "stderr",
     "output_type": "stream",
     "text": [
      " 42%|████▏     | 50/120 [14:09<18:26, 15.81s/it]"
     ]
    },
    {
     "name": "stdout",
     "output_type": "stream",
     "text": [
      "{'loss': 1.2156, 'learning_rate': 3.240740740740741e-05, 'epoch': 8.0}\n"
     ]
    },
    {
     "name": "stderr",
     "output_type": "stream",
     "text": [
      "                                                \n",
      " 42%|████▏     | 50/120 [14:14<18:26, 15.81s/it]"
     ]
    },
    {
     "name": "stdout",
     "output_type": "stream",
     "text": [
      "{'eval_loss': 1.2410820722579956, 'eval_accuracy': 0.8409090909090909, 'eval_runtime': 4.6489, 'eval_samples_per_second': 9.465, 'eval_steps_per_second': 0.645, 'epoch': 8.0}\n"
     ]
    },
    {
     "name": "stderr",
     "output_type": "stream",
     "text": [
      "                                                \n",
      " 47%|████▋     | 56/120 [16:00<17:35, 16.49s/it]"
     ]
    },
    {
     "name": "stdout",
     "output_type": "stream",
     "text": [
      "{'eval_loss': 1.050150752067566, 'eval_accuracy': 0.8636363636363636, 'eval_runtime': 4.4903, 'eval_samples_per_second': 9.799, 'eval_steps_per_second': 0.668, 'epoch': 8.96}\n"
     ]
    },
    {
     "name": "stderr",
     "output_type": "stream",
     "text": [
      " 50%|█████     | 60/120 [17:02<16:41, 16.70s/it]"
     ]
    },
    {
     "name": "stdout",
     "output_type": "stream",
     "text": [
      "{'loss': 0.7054, 'learning_rate': 2.777777777777778e-05, 'epoch': 9.6}\n"
     ]
    },
    {
     "name": "stderr",
     "output_type": "stream",
     "text": [
      "                                                \n",
      " 52%|█████▏    | 62/120 [17:45<15:54, 16.46s/it]"
     ]
    },
    {
     "name": "stdout",
     "output_type": "stream",
     "text": [
      "{'eval_loss': 0.9213514924049377, 'eval_accuracy': 0.9090909090909091, 'eval_runtime': 4.4575, 'eval_samples_per_second': 9.871, 'eval_steps_per_second': 0.673, 'epoch': 9.92}\n"
     ]
    },
    {
     "name": "stderr",
     "output_type": "stream",
     "text": [
      "                                                \n",
      " 57%|█████▋    | 68/120 [19:32<14:17, 16.49s/it]"
     ]
    },
    {
     "name": "stdout",
     "output_type": "stream",
     "text": [
      "{'eval_loss': 0.8220176100730896, 'eval_accuracy': 0.9318181818181818, 'eval_runtime': 4.4549, 'eval_samples_per_second': 9.877, 'eval_steps_per_second': 0.673, 'epoch': 10.88}\n"
     ]
    },
    {
     "name": "stderr",
     "output_type": "stream",
     "text": [
      " 58%|█████▊    | 70/120 [19:54<14:21, 17.23s/it]"
     ]
    },
    {
     "name": "stdout",
     "output_type": "stream",
     "text": [
      "{'loss': 0.4799, 'learning_rate': 2.314814814814815e-05, 'epoch': 11.2}\n"
     ]
    },
    {
     "name": "stderr",
     "output_type": "stream",
     "text": [
      "                                                \n",
      " 62%|██████▎   | 75/120 [21:17<11:50, 15.78s/it]"
     ]
    },
    {
     "name": "stdout",
     "output_type": "stream",
     "text": [
      "{'eval_loss': 0.7392436861991882, 'eval_accuracy': 0.9318181818181818, 'eval_runtime': 4.6533, 'eval_samples_per_second': 9.456, 'eval_steps_per_second': 0.645, 'epoch': 12.0}\n"
     ]
    },
    {
     "name": "stderr",
     "output_type": "stream",
     "text": [
      " 67%|██████▋   | 80/120 [22:41<11:05, 16.64s/it]"
     ]
    },
    {
     "name": "stdout",
     "output_type": "stream",
     "text": [
      "{'loss': 0.371, 'learning_rate': 1.8518518518518518e-05, 'epoch': 12.8}\n"
     ]
    },
    {
     "name": "stderr",
     "output_type": "stream",
     "text": [
      "                                                \n",
      " 68%|██████▊   | 81/120 [23:03<10:42, 16.48s/it]"
     ]
    },
    {
     "name": "stdout",
     "output_type": "stream",
     "text": [
      "{'eval_loss': 0.6964021325111389, 'eval_accuracy': 0.9318181818181818, 'eval_runtime': 4.5039, 'eval_samples_per_second': 9.769, 'eval_steps_per_second': 0.666, 'epoch': 12.96}\n"
     ]
    },
    {
     "name": "stderr",
     "output_type": "stream",
     "text": [
      "                                                \n",
      " 72%|███████▎  | 87/120 [24:49<09:04, 16.51s/it]"
     ]
    },
    {
     "name": "stdout",
     "output_type": "stream",
     "text": [
      "{'eval_loss': 0.6846140623092651, 'eval_accuracy': 0.9318181818181818, 'eval_runtime': 4.3748, 'eval_samples_per_second': 10.058, 'eval_steps_per_second': 0.686, 'epoch': 13.92}\n"
     ]
    },
    {
     "name": "stderr",
     "output_type": "stream",
     "text": [
      " 75%|███████▌  | 90/120 [25:32<08:29, 17.00s/it]"
     ]
    },
    {
     "name": "stdout",
     "output_type": "stream",
     "text": [
      "{'loss': 0.4087, 'learning_rate': 1.388888888888889e-05, 'epoch': 14.4}\n"
     ]
    },
    {
     "name": "stderr",
     "output_type": "stream",
     "text": [
      "                                                \n",
      " 78%|███████▊  | 93/120 [26:36<07:26, 16.52s/it]"
     ]
    },
    {
     "name": "stdout",
     "output_type": "stream",
     "text": [
      "{'eval_loss': 0.6801443696022034, 'eval_accuracy': 0.9318181818181818, 'eval_runtime': 4.5678, 'eval_samples_per_second': 9.633, 'eval_steps_per_second': 0.657, 'epoch': 14.88}\n"
     ]
    },
    {
     "name": "stderr",
     "output_type": "stream",
     "text": [
      " 83%|████████▎ | 100/120 [28:17<05:17, 15.85s/it]"
     ]
    },
    {
     "name": "stdout",
     "output_type": "stream",
     "text": [
      "{'loss': 0.3756, 'learning_rate': 9.259259259259259e-06, 'epoch': 16.0}\n"
     ]
    },
    {
     "name": "stderr",
     "output_type": "stream",
     "text": [
      "                                                 \n",
      " 83%|████████▎ | 100/120 [28:22<05:17, 15.85s/it]"
     ]
    },
    {
     "name": "stdout",
     "output_type": "stream",
     "text": [
      "{'eval_loss': 0.6756999492645264, 'eval_accuracy': 0.9318181818181818, 'eval_runtime': 4.9748, 'eval_samples_per_second': 8.845, 'eval_steps_per_second': 0.603, 'epoch': 16.0}\n"
     ]
    },
    {
     "name": "stderr",
     "output_type": "stream",
     "text": [
      "                                                 \n",
      " 88%|████████▊ | 106/120 [30:07<03:51, 16.52s/it]"
     ]
    },
    {
     "name": "stdout",
     "output_type": "stream",
     "text": [
      "{'eval_loss': 0.6735906600952148, 'eval_accuracy': 0.9318181818181818, 'eval_runtime': 4.5373, 'eval_samples_per_second': 9.697, 'eval_steps_per_second': 0.661, 'epoch': 16.96}\n"
     ]
    },
    {
     "name": "stderr",
     "output_type": "stream",
     "text": [
      " 92%|█████████▏| 110/120 [31:10<02:47, 16.79s/it]"
     ]
    },
    {
     "name": "stdout",
     "output_type": "stream",
     "text": [
      "{'loss': 0.3268, 'learning_rate': 4.6296296296296296e-06, 'epoch': 17.6}\n"
     ]
    },
    {
     "name": "stderr",
     "output_type": "stream",
     "text": [
      "                                                 \n",
      " 93%|█████████▎| 112/120 [31:53<02:11, 16.44s/it]"
     ]
    },
    {
     "name": "stdout",
     "output_type": "stream",
     "text": [
      "{'eval_loss': 0.6670541763305664, 'eval_accuracy': 0.9318181818181818, 'eval_runtime': 4.5011, 'eval_samples_per_second': 9.775, 'eval_steps_per_second': 0.667, 'epoch': 17.92}\n"
     ]
    },
    {
     "name": "stderr",
     "output_type": "stream",
     "text": [
      "                                                 \n",
      " 98%|█████████▊| 118/120 [33:39<00:32, 16.47s/it]"
     ]
    },
    {
     "name": "stdout",
     "output_type": "stream",
     "text": [
      "{'eval_loss': 0.6629387140274048, 'eval_accuracy': 0.9318181818181818, 'eval_runtime': 4.5495, 'eval_samples_per_second': 9.671, 'eval_steps_per_second': 0.659, 'epoch': 18.88}\n"
     ]
    },
    {
     "name": "stderr",
     "output_type": "stream",
     "text": [
      "100%|██████████| 120/120 [34:02<00:00, 17.38s/it]"
     ]
    },
    {
     "name": "stdout",
     "output_type": "stream",
     "text": [
      "{'loss': 0.3425, 'learning_rate': 0.0, 'epoch': 19.2}\n"
     ]
    },
    {
     "name": "stderr",
     "output_type": "stream",
     "text": [
      "                                                 \n",
      "100%|██████████| 120/120 [34:07<00:00, 17.38s/it]"
     ]
    },
    {
     "name": "stdout",
     "output_type": "stream",
     "text": [
      "{'eval_loss': 0.662424623966217, 'eval_accuracy': 0.9318181818181818, 'eval_runtime': 4.7156, 'eval_samples_per_second': 9.331, 'eval_steps_per_second': 0.636, 'epoch': 19.2}\n"
     ]
    },
    {
     "name": "stderr",
     "output_type": "stream",
     "text": [
      "100%|██████████| 120/120 [34:09<00:00, 17.08s/it]\n"
     ]
    },
    {
     "name": "stdout",
     "output_type": "stream",
     "text": [
      "{'train_runtime': 2049.1828, 'train_samples_per_second': 3.826, 'train_steps_per_second': 0.059, 'train_loss': 1.5254860500494638, 'epoch': 19.2}\n",
      "***** train metrics *****\n",
      "  epoch                    =       19.2\n",
      "  train_loss               =     1.5255\n",
      "  train_runtime            = 0:34:09.18\n",
      "  train_samples_per_second =      3.826\n",
      "  train_steps_per_second   =      0.059\n"
     ]
    }
   ],
   "source": [
    "train_results = trainer.train()\n",
    "# rest is optional but nice to have\n",
    "trainer.save_model()\n",
    "trainer.log_metrics(\"train\", train_results.metrics)\n",
    "trainer.save_metrics(\"train\", train_results.metrics)\n",
    "trainer.save_state()\n"
   ]
  },
  {
   "cell_type": "code",
   "execution_count": 38,
   "id": "88908552",
   "metadata": {
    "ExecuteTime": {
     "end_time": "2023-07-19T06:32:03.046627Z",
     "start_time": "2023-07-19T06:31:59.272752Z"
    }
   },
   "outputs": [
    {
     "name": "stderr",
     "output_type": "stream",
     "text": [
      "100%|██████████| 3/3 [00:02<00:00,  1.00it/s]"
     ]
    },
    {
     "name": "stdout",
     "output_type": "stream",
     "text": [
      "***** eval metrics *****\n",
      "  epoch                   =       19.2\n",
      "  eval_accuracy           =     0.9318\n",
      "  eval_loss               =      0.822\n",
      "  eval_runtime            = 0:00:04.84\n",
      "  eval_samples_per_second =      9.075\n",
      "  eval_steps_per_second   =      0.619\n"
     ]
    },
    {
     "name": "stderr",
     "output_type": "stream",
     "text": [
      "\n"
     ]
    }
   ],
   "source": [
    "metrics = trainer.evaluate()\n",
    "# some nice to haves:\n",
    "trainer.log_metrics(\"eval\", metrics)\n",
    "trainer.save_metrics(\"eval\", metrics)\n"
   ]
  },
  {
   "cell_type": "code",
   "execution_count": 39,
   "id": "b519d128",
   "metadata": {
    "ExecuteTime": {
     "end_time": "2023-07-19T06:33:09.590437Z",
     "start_time": "2023-07-19T06:33:09.388008Z"
    }
   },
   "outputs": [
    {
     "data": {
      "text/plain": [
       "[{'score': 0.9919895529747009, 'label': 'ヒスイヌメルゴン'},\n",
       " {'score': 0.0007619492243975401, 'label': 'ヒスイウォーグル'},\n",
       " {'score': 0.0003471301752142608, 'label': 'ドヒドイデ'},\n",
       " {'score': 0.00028295285301283, 'label': 'ブリムオン'},\n",
       " {'score': 0.00027114013209939003, 'label': 'デカヌチャン'}]"
      ]
     },
     "execution_count": 39,
     "metadata": {},
     "output_type": "execute_result"
    }
   ],
   "source": [
    "# 推論テスト\n",
    "import cv2\n",
    "from PIL import Image\n",
    "from transformers import pipeline\n",
    "\n",
    "classifier_pipe = pipeline(task=\"image-classification\", model=trainer.model, feature_extractor=feature_extractor)\n",
    "pokemon_image = cv2.imread(\"../template_images/user_labeled_pokemon_templates/ヒスイヌメルゴン/20230719104544.png\")\n",
    "pokemon_image2 = cv2.cvtColor(pokemon_image, cv2.COLOR_BGR2RGB)\n",
    "pokemon_image3 = Image.fromarray(pokemon_image2)\n",
    "classifier_pipe(pokemon_image3)\n"
   ]
  },
  {
   "cell_type": "code",
   "execution_count": 40,
   "id": "19b00adc",
   "metadata": {
    "ExecuteTime": {
     "end_time": "2023-07-17T04:17:15.362675Z",
     "start_time": "2023-07-17T04:17:15.356123Z"
    }
   },
   "outputs": [
    {
     "data": {
      "image/jpeg": "[encoded data removed]",
      "image/png": "[encoded data removed]",
      "text/plain": [
       "<PIL.PngImagePlugin.PngImageFile image mode=RGB size=70x60>"
      ]
     },
     "execution_count": 40,
     "metadata": {},
     "output_type": "execute_result"
    }
   ],
   "source": [
    "val_ds[0]['image']\n"
   ]
  },
  {
   "cell_type": "code",
   "execution_count": 41,
   "id": "4a9472e4",
   "metadata": {
    "ExecuteTime": {
     "end_time": "2023-07-17T04:17:17.894956Z",
     "start_time": "2023-07-17T04:17:17.633485Z"
    }
   },
   "outputs": [
    {
     "data": {
      "text/plain": [
       "[{'score': 0.9889816045761108, 'label': 'ハバタクカミ'},\n",
       " {'score': 0.0007592097390443087, 'label': 'サザンドラ'},\n",
       " {'score': 0.0005425364361144602, 'label': 'ゴチルゼル'},\n",
       " {'score': 0.00048544767196290195, 'label': 'キノガッサ'},\n",
       " {'score': 0.00046275006025098264, 'label': 'ガブリアス'}]"
      ]
     },
     "execution_count": 41,
     "metadata": {},
     "output_type": "execute_result"
    }
   ],
   "source": [
    "classifier_pipe(val_ds[0]['image'])\n"
   ]
  },
  {
   "cell_type": "code",
   "execution_count": 42,
   "id": "9ba23306",
   "metadata": {
    "ExecuteTime": {
     "end_time": "2023-07-17T04:17:28.333055Z",
     "start_time": "2023-07-17T04:17:20.165758Z"
    }
   },
   "outputs": [
    {
     "name": "stdout",
     "output_type": "stream",
     "text": [
      "0 {'score': 0.9889816045761108, 'label': 'ハバタクカミ'} ハバタクカミ\n",
      "1 {'score': 0.35072195529937744, 'label': 'カラミンゴ'} カラミンゴ\n",
      "2 {'score': 0.9937918782234192, 'label': 'ハッサム'} ハッサム\n",
      "3 {'score': 0.8469821810722351, 'label': 'ミミズズ'} ミミズズ\n",
      "4 {'score': 0.3709721267223358, 'label': 'ドヒドイデ'} ドヒドイデ\n",
      "5 {'score': 0.9871374368667603, 'label': 'ミミズズ'} ミミズズ\n",
      "6 {'score': 0.9710473418235779, 'label': '炎オーガポン'} 炎オーガポン\n",
      "7 {'score': 0.2450817972421646, 'label': 'ゾロアーク'} イダイトウ・オス\n",
      "8 {'score': 0.08239905536174774, 'label': 'ウインディ'} ペルシアン\n",
      "9 {'score': 0.9908022880554199, 'label': 'コノヨザル'} コノヨザル\n",
      "10 {'score': 0.9832325577735901, 'label': 'サザンドラ'} サザンドラ\n",
      "11 {'score': 0.9896446466445923, 'label': 'ヌメルゴン'} ヌメルゴン\n",
      "12 {'score': 0.18802648782730103, 'label': 'オーロンゲ'} オーロンゲ\n",
      "13 {'score': 0.9483135342597961, 'label': 'ヒスイドレディア'} ヒスイドレディア\n",
      "14 {'score': 0.9495557546615601, 'label': 'バサギリ'} バサギリ\n",
      "15 {'score': 0.43565312027931213, 'label': 'チヲハウハネ'} チヲハウハネ\n",
      "16 {'score': 0.9257558584213257, 'label': 'ヒスイウォーグル'} ヒスイウォーグル\n",
      "17 {'score': 0.995822548866272, 'label': 'ヒードラン'} ヒードラン\n",
      "18 {'score': 0.0911581814289093, 'label': 'オノノクス'} オノノクス\n",
      "19 {'score': 0.9945052266120911, 'label': 'ウーラオス'} ウーラオス\n",
      "20 {'score': 0.9899181723594666, 'label': 'ヒスイドレディア'} ヒスイドレディア\n",
      "21 {'score': 0.9841110706329346, 'label': 'ディンルー'} ディンルー\n",
      "22 {'score': 0.9905946254730225, 'label': 'ディンルー'} ディンルー\n",
      "23 {'score': 0.5525420904159546, 'label': 'バンギラス'} バンギラス\n",
      "24 {'score': 0.988311231136322, 'label': 'ミミズズ'} ミミズズ\n",
      "25 {'score': 0.8503235578536987, 'label': 'イイネイヌ'} イイネイヌ\n",
      "26 {'score': 0.2734435200691223, 'label': 'ドオー'} ドオー\n",
      "27 {'score': 0.9827562570571899, 'label': '炎オーガポン'} 炎オーガポン\n",
      "28 {'score': 0.672686755657196, 'label': 'ピクシー'} ピクシー\n",
      "29 {'score': 0.8873189091682434, 'label': 'ヒスイダイケンキ'} ヒスイダイケンキ\n",
      "30 {'score': 0.9912205338478088, 'label': 'ヒードラン'} ヒードラン\n",
      "31 {'score': 0.9539418816566467, 'label': 'パオジアン'} パオジアン\n",
      "32 {'score': 0.9776817560195923, 'label': 'バサギリ'} バサギリ\n",
      "33 {'score': 0.5591785311698914, 'label': 'チオンジェン'} チオンジェン\n",
      "34 {'score': 0.9694017171859741, 'label': 'ニンフィア'} ニンフィア\n",
      "35 {'score': 0.9308396577835083, 'label': 'サンダー'} サンダー\n",
      "36 {'score': 0.5116556286811829, 'label': 'シャワーズ'} シャワーズ\n",
      "37 {'score': 0.9837137460708618, 'label': 'サンダー'} サンダー\n",
      "38 {'score': 0.9244252443313599, 'label': 'アマージョ'} アマージョ\n",
      "39 {'score': 0.09283208847045898, 'label': 'ウェーニバル'} 霊獣ボルトロス\n",
      "40 {'score': 0.8673049211502075, 'label': 'デカヌチャン'} デカヌチャン\n",
      "41 {'score': 0.8321730494499207, 'label': 'マスカーニャ'} マスカーニャ\n",
      "42 {'score': 0.544736385345459, 'label': 'ヤミラミ'} ヤミラミ\n",
      "43 {'score': 0.6635203957557678, 'label': 'モロバレル'} モロバレル\n"
     ]
    }
   ],
   "source": [
    "for idx, _val in enumerate(val_ds):\n",
    "    predict = classifier_pipe(_val['image'])\n",
    "    _label = id2label[_val[\"label\"]]\n",
    "    print(idx, predict[0], _label)\n"
   ]
  },
  {
   "cell_type": "code",
   "execution_count": 43,
   "id": "87edd2bb",
   "metadata": {
    "ExecuteTime": {
     "end_time": "2023-07-19T00:12:14.927173Z",
     "start_time": "2023-07-19T00:12:14.148611Z"
    }
   },
   "outputs": [
    {
     "data": {
      "text/plain": [
       "'https://huggingface.co/fufufukakaka/pokemon_image_classifier/blob/refs%2Fpr%2F30/config.json'"
      ]
     },
     "execution_count": 43,
     "metadata": {},
     "output_type": "execute_result"
    }
   ],
   "source": [
    "from huggingface_hub import upload_file\n",
    "\n",
    "upload_file(\n",
    "    path_or_fileobj=\"pokemon_image_classifier/config.json\",\n",
    "    path_in_repo=\"config.json\",\n",
    "    repo_id=\"fufufukakaka/pokemon_image_classifier\",\n",
    "    create_pr=1\n",
    ")\n"
   ]
  },
  {
   "cell_type": "code",
   "execution_count": 45,
   "id": "97d36de9",
   "metadata": {
    "ExecuteTime": {
     "end_time": "2023-07-19T06:34:47.500724Z",
     "start_time": "2023-07-19T06:33:32.579118Z"
    }
   },
   "outputs": [
    {
     "data": {
      "text/plain": [
       "'https://huggingface.co/fufufukakaka/pokemon_image_classifier/blob/refs%2Fpr%2F31/pytorch_model.bin'"
      ]
     },
     "execution_count": 45,
     "metadata": {},
     "output_type": "execute_result"
    }
   ],
   "source": [
    "upload_file(\n",
    "    path_or_fileobj=\"pokemon_image_classifier/pytorch_model.bin\",\n",
    "    path_in_repo=\"pytorch_model.bin\",\n",
    "    repo_id=\"fufufukakaka/pokemon_image_classifier\",\n",
    "    create_pr=1\n",
    ")\n"
   ]
  },
  {
   "cell_type": "code",
   "execution_count": 26,
   "id": "182adc1a",
   "metadata": {
    "ExecuteTime": {
     "end_time": "2023-07-19T01:14:18.780507Z",
     "start_time": "2023-07-19T01:14:18.114147Z"
    }
   },
   "outputs": [
    {
     "data": {
      "text/plain": [
       "'https://huggingface.co/fufufukakaka/pokemon_image_classifier/blob/refs%2Fpr%2F29/preprocessor_config.json'"
      ]
     },
     "execution_count": 26,
     "metadata": {},
     "output_type": "execute_result"
    }
   ],
   "source": [
    "upload_file(\n",
    "    path_or_fileobj=\"pokemon_image_classifier/preprocessor_config.json\",\n",
    "    path_in_repo=\"preprocessor_config.json\",\n",
    "    repo_id=\"fufufukakaka/pokemon_image_classifier\",\n",
    "    create_pr=1\n",
    ")\n"
   ]
  }
 ],
 "metadata": {
  "kernelspec": {
   "display_name": "Python 3 (ipykernel)",
   "language": "python",
   "name": "python3"
  },
  "language_info": {
   "codemirror_mode": {
    "name": "ipython",
    "version": 3
   },
   "file_extension": ".py",
   "mimetype": "text/x-python",
   "name": "python",
   "nbconvert_exporter": "python",
   "pygments_lexer": "ipython3",
   "version": "3.10.10"
  },
  "varInspector": {
   "cols": {
    "lenName": 16,
    "lenType": 16,
    "lenVar": 40
   },
   "kernels_config": {
    "python": {
     "delete_cmd_postfix": "",
     "delete_cmd_prefix": "del ",
     "library": "var_list.py",
     "varRefreshCmd": "print(var_dic_list())"
    },
    "r": {
     "delete_cmd_postfix": ") ",
     "delete_cmd_prefix": "rm(",
     "library": "var_list.r",
     "varRefreshCmd": "cat(var_dic_list()) "
    }
   },
   "types_to_exclude": [
    "module",
    "function",
    "builtin_function_or_method",
    "instance",
    "_Feature"
   ],
   "window_display": false
  }
 },
 "nbformat": 4,
 "nbformat_minor": 5
}
