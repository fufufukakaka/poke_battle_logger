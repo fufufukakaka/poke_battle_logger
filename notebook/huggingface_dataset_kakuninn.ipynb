{
 "cells": [
  {
   "cell_type": "code",
   "execution_count": 22,
   "id": "3d4adea9",
   "metadata": {},
   "outputs": [],
   "source": [
    "from huggingface_hub import notebook_login\n"
   ]
  },
  {
   "cell_type": "code",
   "execution_count": 23,
   "id": "4fdf6d4a",
   "metadata": {
    "ExecuteTime": {
     "end_time": "2023-07-17T03:47:03.731436Z",
     "start_time": "2023-07-17T03:47:03.597563Z"
    }
   },
   "outputs": [
    {
     "data": {
      "application/vnd.jupyter.widget-view+json": {
       "model_id": "7fd26d87785840e1a32d4e59ff8a93b7",
       "version_major": 2,
       "version_minor": 0
      },
      "text/plain": [
       "VBox(children=(HTML(value='<center> <img\\nsrc=https://huggingface.co/front/assets/huggingface_logo-noborder.sv…"
      ]
     },
     "metadata": {},
     "output_type": "display_data"
    }
   ],
   "source": [
    "notebook_login()\n"
   ]
  },
  {
   "cell_type": "code",
   "execution_count": 1,
   "id": "8024f4bb",
   "metadata": {
    "ExecuteTime": {
     "end_time": "2023-07-17T03:47:13.482285Z",
     "start_time": "2023-07-17T03:47:13.148819Z"
    }
   },
   "outputs": [],
   "source": [
    "from datasets import load_dataset\n"
   ]
  },
  {
   "cell_type": "code",
   "execution_count": 2,
   "id": "2ef39c48",
   "metadata": {
    "ExecuteTime": {
     "end_time": "2023-07-19T06:02:29.530958Z",
     "start_time": "2023-07-19T06:02:28.234305Z"
    }
   },
   "outputs": [
    {
     "data": {
      "application/vnd.jupyter.widget-view+json": {
       "model_id": "8eb04d54beac4f59909388a95dadf6df",
       "version_major": 2,
       "version_minor": 0
      },
      "text/plain": [
       "Resolving data files:   0%|          | 0/937 [00:00<?, ?it/s]"
      ]
     },
     "metadata": {},
     "output_type": "display_data"
    }
   ],
   "source": [
    "dataset = load_dataset(\"imagefolder\", data_dir=\"../experimental/imgs/\", split='train', drop_labels=False)\n"
   ]
  },
  {
   "cell_type": "code",
   "execution_count": 3,
   "id": "0c38a7fc",
   "metadata": {
    "ExecuteTime": {
     "end_time": "2023-07-19T06:02:32.914444Z",
     "start_time": "2023-07-19T06:02:32.910267Z"
    }
   },
   "outputs": [
    {
     "data": {
      "text/plain": [
       "Dataset({\n",
       "    features: ['image', 'label'],\n",
       "    num_rows: 937\n",
       "})"
      ]
     },
     "execution_count": 3,
     "metadata": {},
     "output_type": "execute_result"
    }
   ],
   "source": [
    "dataset\n"
   ]
  },
  {
   "cell_type": "code",
   "execution_count": 4,
   "id": "00a21e40",
   "metadata": {
    "ExecuteTime": {
     "end_time": "2023-07-19T06:02:34.595980Z",
     "start_time": "2023-07-19T06:02:34.579335Z"
    }
   },
   "outputs": [],
   "source": [
    "split_dataset = dataset.train_test_split(test_size=0.1)\n"
   ]
  },
  {
   "cell_type": "code",
   "execution_count": 5,
   "id": "2660c0da",
   "metadata": {
    "ExecuteTime": {
     "end_time": "2023-07-18T23:43:30.449488Z",
     "start_time": "2023-07-18T23:43:30.445710Z"
    }
   },
   "outputs": [],
   "source": [
    "from transformers import SwinForImageClassification, SwinConfig, TrainingArguments, Trainer\n"
   ]
  },
  {
   "cell_type": "code",
   "execution_count": 6,
   "id": "6939f801",
   "metadata": {
    "ExecuteTime": {
     "end_time": "2023-07-19T06:02:38.592404Z",
     "start_time": "2023-07-19T06:02:37.484624Z"
    }
   },
   "outputs": [
    {
     "name": "stderr",
     "output_type": "stream",
     "text": [
      "/var/folders/cn/l_vdrfmd0pxbx3p33nvb68wr0000gn/T/ipykernel_52305/884234914.py:3: FutureWarning: load_metric is deprecated and will be removed in the next major version of datasets. Use 'evaluate.load' instead, from the new library 🤗 Evaluate: https://huggingface.co/docs/evaluate\n",
      "  metric = load_metric(\"accuracy\", trust_remote_code=True)\n"
     ]
    }
   ],
   "source": [
    "from datasets import load_metric\n",
    "\n",
    "metric = load_metric(\"accuracy\", trust_remote_code=True)\n"
   ]
  },
  {
   "cell_type": "code",
   "execution_count": 7,
   "id": "94cdd580",
   "metadata": {
    "ExecuteTime": {
     "end_time": "2023-07-18T23:43:33.893387Z",
     "start_time": "2023-07-18T23:43:33.885455Z"
    }
   },
   "outputs": [
    {
     "data": {
      "text/plain": [
       "{'image': <PIL.PngImagePlugin.PngImageFile image mode=RGB size=105x100>,\n",
       " 'label': 45}"
      ]
     },
     "execution_count": 7,
     "metadata": {},
     "output_type": "execute_result"
    }
   ],
   "source": [
    "example = split_dataset[\"train\"][10]\n",
    "example\n"
   ]
  },
  {
   "cell_type": "code",
   "execution_count": 8,
   "id": "21fd1b0d",
   "metadata": {
    "ExecuteTime": {
     "end_time": "2023-07-19T06:02:40.883931Z",
     "start_time": "2023-07-19T06:02:40.623774Z"
    }
   },
   "outputs": [
    {
     "name": "stderr",
     "output_type": "stream",
     "text": [
      "/Users/yusuke_fukasawa/Documents/github/poke_battle_logger/.venv/lib/python3.12/site-packages/transformers/models/vit/feature_extraction_vit.py:28: FutureWarning: The class ViTFeatureExtractor is deprecated and will be removed in version 5 of Transformers. Please use ViTImageProcessor instead.\n",
      "  warnings.warn(\n"
     ]
    },
    {
     "data": {
      "text/plain": [
       "ViTFeatureExtractor {\n",
       "  \"do_normalize\": true,\n",
       "  \"do_rescale\": true,\n",
       "  \"do_resize\": true,\n",
       "  \"image_mean\": [\n",
       "    0.485,\n",
       "    0.456,\n",
       "    0.406\n",
       "  ],\n",
       "  \"image_processor_type\": \"ViTFeatureExtractor\",\n",
       "  \"image_std\": [\n",
       "    0.229,\n",
       "    0.224,\n",
       "    0.225\n",
       "  ],\n",
       "  \"resample\": 3,\n",
       "  \"rescale_factor\": 0.00392156862745098,\n",
       "  \"size\": {\n",
       "    \"height\": 256,\n",
       "    \"width\": 256\n",
       "  }\n",
       "}"
      ]
     },
     "execution_count": 8,
     "metadata": {},
     "output_type": "execute_result"
    }
   ],
   "source": [
    "from transformers import AutoFeatureExtractor\n",
    "\n",
    "feature_extractor = AutoFeatureExtractor.from_pretrained(\"microsoft/swinv2-base-patch4-window8-256\")\n",
    "feature_extractor\n"
   ]
  },
  {
   "cell_type": "code",
   "execution_count": 9,
   "id": "5501c965",
   "metadata": {
    "ExecuteTime": {
     "end_time": "2023-07-19T06:02:42.913762Z",
     "start_time": "2023-07-19T06:02:42.908932Z"
    }
   },
   "outputs": [],
   "source": [
    "from torchvision.transforms import (\n",
    "    CenterCrop,\n",
    "    Compose,\n",
    "    Normalize,\n",
    "    RandomHorizontalFlip,\n",
    "    RandomResizedCrop,\n",
    "    Resize,\n",
    "    ToTensor,\n",
    ")\n",
    "\n",
    "normalize = Normalize(mean=feature_extractor.image_mean, std=feature_extractor.image_std)\n",
    "train_transforms = Compose(\n",
    "        [\n",
    "            RandomResizedCrop((feature_extractor.size[\"width\"], feature_extractor.size[\"height\"])),\n",
    "            RandomHorizontalFlip(),\n",
    "            ToTensor(),\n",
    "            normalize,\n",
    "        ]\n",
    "    )\n",
    "\n",
    "val_transforms = Compose(\n",
    "        [\n",
    "            Resize((feature_extractor.size[\"width\"], feature_extractor.size[\"height\"])),\n",
    "            CenterCrop((feature_extractor.size[\"width\"], feature_extractor.size[\"height\"])),\n",
    "            ToTensor(),\n",
    "            normalize,\n",
    "        ]\n",
    "    )\n",
    "\n",
    "def preprocess_train(example_batch):\n",
    "    \"\"\"Apply train_transforms across a batch.\"\"\"\n",
    "    example_batch[\"pixel_values\"] = [\n",
    "        train_transforms(image.convert(\"RGB\")) for image in example_batch[\"image\"]\n",
    "    ]\n",
    "    return example_batch\n",
    "\n",
    "def preprocess_val(example_batch):\n",
    "    \"\"\"Apply val_transforms across a batch.\"\"\"\n",
    "    example_batch[\"pixel_values\"] = [val_transforms(image.convert(\"RGB\")) for image in example_batch[\"image\"]]\n",
    "    return example_batch\n"
   ]
  },
  {
   "cell_type": "code",
   "execution_count": 10,
   "id": "6e854362",
   "metadata": {
    "ExecuteTime": {
     "end_time": "2023-07-19T06:02:45.113480Z",
     "start_time": "2023-07-19T06:02:45.110641Z"
    }
   },
   "outputs": [
    {
     "data": {
      "text/plain": [
       "'アシレーヌ'"
      ]
     },
     "execution_count": 10,
     "metadata": {},
     "output_type": "execute_result"
    }
   ],
   "source": [
    "labels = split_dataset[\"train\"].features[\"label\"].names\n",
    "label2id, id2label = dict(), dict()\n",
    "for i, label in enumerate(labels):\n",
    "    label2id[label] = i\n",
    "    id2label[i] = label\n",
    "\n",
    "id2label[2]\n"
   ]
  },
  {
   "cell_type": "code",
   "execution_count": 11,
   "id": "55c17531",
   "metadata": {
    "ExecuteTime": {
     "end_time": "2023-07-19T06:02:46.826231Z",
     "start_time": "2023-07-19T06:02:46.820110Z"
    }
   },
   "outputs": [],
   "source": [
    "train_ds = split_dataset['train']\n",
    "val_ds = split_dataset['test']\n",
    "\n",
    "train_ds.set_transform(preprocess_train)\n",
    "val_ds.set_transform(preprocess_val)\n"
   ]
  },
  {
   "cell_type": "code",
   "execution_count": 12,
   "id": "f2f45568",
   "metadata": {
    "ExecuteTime": {
     "end_time": "2023-07-19T06:02:48.455752Z",
     "start_time": "2023-07-19T06:02:47.514617Z"
    }
   },
   "outputs": [
    {
     "name": "stderr",
     "output_type": "stream",
     "text": [
      "Some weights of Swinv2ForImageClassification were not initialized from the model checkpoint at microsoft/swinv2-base-patch4-window8-256 and are newly initialized because the shapes did not match:\n",
      "- classifier.weight: found shape torch.Size([1000, 1024]) in the checkpoint and torch.Size([301, 1024]) in the model instantiated\n",
      "- classifier.bias: found shape torch.Size([1000]) in the checkpoint and torch.Size([301]) in the model instantiated\n",
      "You should probably TRAIN this model on a down-stream task to be able to use it for predictions and inference.\n"
     ]
    }
   ],
   "source": [
    "from transformers import AutoFeatureExtractor, AutoModelForImageClassification\n",
    "\n",
    "model = AutoModelForImageClassification.from_pretrained(\"microsoft/swinv2-base-patch4-window8-256\",\n",
    "    label2id=label2id,\n",
    "    id2label=id2label,\n",
    "    ignore_mismatched_sizes = True)\n"
   ]
  },
  {
   "cell_type": "code",
   "execution_count": 13,
   "id": "f10929fb",
   "metadata": {
    "ExecuteTime": {
     "end_time": "2023-07-19T06:02:48.486189Z",
     "start_time": "2023-07-19T06:02:48.480578Z"
    }
   },
   "outputs": [
    {
     "name": "stderr",
     "output_type": "stream",
     "text": [
      "/Users/yusuke_fukasawa/Documents/github/poke_battle_logger/.venv/lib/python3.12/site-packages/transformers/training_args.py:1494: FutureWarning: `evaluation_strategy` is deprecated and will be removed in version 4.46 of 🤗 Transformers. Use `eval_strategy` instead\n",
      "  warnings.warn(\n",
      "/Users/yusuke_fukasawa/Documents/github/poke_battle_logger/.venv/lib/python3.12/site-packages/transformers/training_args.py:1509: FutureWarning: using `no_cuda` is deprecated and will be removed in version 5.0 of 🤗 Transformers. Use `use_cpu` instead\n",
      "  warnings.warn(\n"
     ]
    }
   ],
   "source": [
    "model_name = \"pokemon_image_classifier\"\n",
    "batch_size = 16\n",
    "\n",
    "args = TrainingArguments(\n",
    "    model_name,\n",
    "    remove_unused_columns=False,\n",
    "    evaluation_strategy = \"epoch\",\n",
    "    save_strategy = \"epoch\",\n",
    "    learning_rate=5e-5,\n",
    "    per_device_train_batch_size=batch_size,\n",
    "    gradient_accumulation_steps=4,\n",
    "    per_device_eval_batch_size=batch_size,\n",
    "    num_train_epochs=20,\n",
    "    warmup_ratio=0.1,\n",
    "    logging_steps=10,\n",
    "    load_best_model_at_end=True,\n",
    "    metric_for_best_model=\"accuracy\",\n",
    "    no_cuda=True\n",
    ")\n"
   ]
  },
  {
   "cell_type": "code",
   "execution_count": 14,
   "id": "017ad54d",
   "metadata": {
    "ExecuteTime": {
     "end_time": "2023-07-19T06:02:48.957459Z",
     "start_time": "2023-07-19T06:02:48.953346Z"
    }
   },
   "outputs": [],
   "source": [
    "import numpy as np\n",
    "\n",
    "# the compute_metrics function takes a Named Tuple as input:\n",
    "# predictions, which are the logits of the model as Numpy arrays,\n",
    "# and label_ids, which are the ground-truth labels as Numpy arrays.\n",
    "def compute_metrics(eval_pred):\n",
    "    \"\"\"Computes accuracy on a batch of predictions\"\"\"\n",
    "    predictions = np.argmax(eval_pred.predictions, axis=1)\n",
    "    return metric.compute(predictions=predictions, references=eval_pred.label_ids)\n"
   ]
  },
  {
   "cell_type": "code",
   "execution_count": 15,
   "id": "3befac84",
   "metadata": {
    "ExecuteTime": {
     "end_time": "2023-07-19T06:02:49.564920Z",
     "start_time": "2023-07-19T06:02:49.561408Z"
    }
   },
   "outputs": [],
   "source": [
    "import torch\n",
    "\n",
    "def collate_fn(examples):\n",
    "    pixel_values = torch.stack([example[\"pixel_values\"] for example in examples])\n",
    "    labels = torch.tensor([example[\"label\"] for example in examples])\n",
    "    return {\"pixel_values\": pixel_values, \"labels\": labels}\n"
   ]
  },
  {
   "cell_type": "code",
   "execution_count": 16,
   "id": "ce336fa6",
   "metadata": {
    "ExecuteTime": {
     "end_time": "2023-07-19T06:02:50.241992Z",
     "start_time": "2023-07-19T06:02:50.182776Z"
    }
   },
   "outputs": [],
   "source": [
    "trainer = Trainer(\n",
    "    model,\n",
    "    args,\n",
    "    train_dataset=train_ds,\n",
    "    eval_dataset=val_ds,\n",
    "    tokenizer=feature_extractor,\n",
    "    compute_metrics=compute_metrics,\n",
    "    data_collator=collate_fn,\n",
    ")\n"
   ]
  },
  {
   "cell_type": "code",
   "execution_count": 17,
   "id": "8fdbc9bc",
   "metadata": {
    "ExecuteTime": {
     "end_time": "2023-07-19T06:28:40.321480Z",
     "start_time": "2023-07-19T06:02:51.044901Z"
    }
   },
   "outputs": [
    {
     "data": {
      "application/vnd.jupyter.widget-view+json": {
       "model_id": "96d295ed7f6240a3bda3f2ac2b872b91",
       "version_major": 2,
       "version_minor": 0
      },
      "text/plain": [
       "  0%|          | 0/260 [00:00<?, ?it/s]"
      ]
     },
     "metadata": {},
     "output_type": "display_data"
    },
    {
     "name": "stdout",
     "output_type": "stream",
     "text": [
      "{'loss': 5.7584, 'grad_norm': 4.771859169006348, 'learning_rate': 1.923076923076923e-05, 'epoch': 0.75}\n"
     ]
    },
    {
     "data": {
      "application/vnd.jupyter.widget-view+json": {
       "model_id": "582e4ab614a0448b8e51c4565fdd1339",
       "version_major": 2,
       "version_minor": 0
      },
      "text/plain": [
       "  0%|          | 0/6 [00:00<?, ?it/s]"
      ]
     },
     "metadata": {},
     "output_type": "display_data"
    },
    {
     "name": "stdout",
     "output_type": "stream",
     "text": [
      "{'eval_loss': 5.671351432800293, 'eval_accuracy': 0.02127659574468085, 'eval_runtime': 10.1425, 'eval_samples_per_second': 9.268, 'eval_steps_per_second': 0.592, 'epoch': 0.98}\n",
      "{'loss': 5.6309, 'grad_norm': 3.609926700592041, 'learning_rate': 3.846153846153846e-05, 'epoch': 1.51}\n"
     ]
    },
    {
     "data": {
      "application/vnd.jupyter.widget-view+json": {
       "model_id": "b632f9c1bb2c416db26d314a7dc3a768",
       "version_major": 2,
       "version_minor": 0
      },
      "text/plain": [
       "  0%|          | 0/6 [00:00<?, ?it/s]"
      ]
     },
     "metadata": {},
     "output_type": "display_data"
    },
    {
     "name": "stdout",
     "output_type": "stream",
     "text": [
      "{'eval_loss': 5.385910511016846, 'eval_accuracy': 0.02127659574468085, 'eval_runtime': 11.4649, 'eval_samples_per_second': 8.199, 'eval_steps_per_second': 0.523, 'epoch': 1.96}\n",
      "{'loss': 5.3585, 'grad_norm': 4.7384867668151855, 'learning_rate': 4.9145299145299147e-05, 'epoch': 2.26}\n"
     ]
    },
    {
     "data": {
      "application/vnd.jupyter.widget-view+json": {
       "model_id": "2d78bfce9a0448b59ff0e2746738dbdb",
       "version_major": 2,
       "version_minor": 0
      },
      "text/plain": [
       "  0%|          | 0/6 [00:00<?, ?it/s]"
      ]
     },
     "metadata": {},
     "output_type": "display_data"
    },
    {
     "name": "stdout",
     "output_type": "stream",
     "text": [
      "{'eval_loss': 4.615903377532959, 'eval_accuracy': 0.2553191489361702, 'eval_runtime': 12.5344, 'eval_samples_per_second': 7.499, 'eval_steps_per_second': 0.479, 'epoch': 2.94}\n",
      "{'loss': 4.8572, 'grad_norm': 9.58281135559082, 'learning_rate': 4.700854700854701e-05, 'epoch': 3.02}\n",
      "{'loss': 4.1523, 'grad_norm': 10.519486427307129, 'learning_rate': 4.4871794871794874e-05, 'epoch': 3.77}\n"
     ]
    },
    {
     "data": {
      "application/vnd.jupyter.widget-view+json": {
       "model_id": "0d98f549bbd94c47987f8d3828678584",
       "version_major": 2,
       "version_minor": 0
      },
      "text/plain": [
       "  0%|          | 0/6 [00:00<?, ?it/s]"
      ]
     },
     "metadata": {},
     "output_type": "display_data"
    },
    {
     "name": "stdout",
     "output_type": "stream",
     "text": [
      "{'eval_loss': 3.5460474491119385, 'eval_accuracy': 0.4148936170212766, 'eval_runtime': 12.4722, 'eval_samples_per_second': 7.537, 'eval_steps_per_second': 0.481, 'epoch': 4.0}\n",
      "{'loss': 3.3037, 'grad_norm': 11.443527221679688, 'learning_rate': 4.2735042735042735e-05, 'epoch': 4.53}\n"
     ]
    },
    {
     "data": {
      "application/vnd.jupyter.widget-view+json": {
       "model_id": "36ad1f0b522f41959e75038bc74eaec1",
       "version_major": 2,
       "version_minor": 0
      },
      "text/plain": [
       "  0%|          | 0/6 [00:00<?, ?it/s]"
      ]
     },
     "metadata": {},
     "output_type": "display_data"
    },
    {
     "name": "stdout",
     "output_type": "stream",
     "text": [
      "{'eval_loss': 2.7778232097625732, 'eval_accuracy': 0.574468085106383, 'eval_runtime': 12.2246, 'eval_samples_per_second': 7.689, 'eval_steps_per_second': 0.491, 'epoch': 4.98}\n",
      "{'loss': 2.6911, 'grad_norm': 11.958502769470215, 'learning_rate': 4.05982905982906e-05, 'epoch': 5.28}\n"
     ]
    },
    {
     "data": {
      "application/vnd.jupyter.widget-view+json": {
       "model_id": "a654384fc7ac41339d682e9b6c9c4807",
       "version_major": 2,
       "version_minor": 0
      },
      "text/plain": [
       "  0%|          | 0/6 [00:00<?, ?it/s]"
      ]
     },
     "metadata": {},
     "output_type": "display_data"
    },
    {
     "name": "stdout",
     "output_type": "stream",
     "text": [
      "{'eval_loss': 2.1879918575286865, 'eval_accuracy': 0.6170212765957447, 'eval_runtime': 11.6293, 'eval_samples_per_second': 8.083, 'eval_steps_per_second': 0.516, 'epoch': 5.96}\n",
      "{'loss': 2.282, 'grad_norm': 12.227787971496582, 'learning_rate': 3.846153846153846e-05, 'epoch': 6.04}\n",
      "{'loss': 1.7291, 'grad_norm': 10.680749893188477, 'learning_rate': 3.6324786324786323e-05, 'epoch': 6.79}\n"
     ]
    },
    {
     "data": {
      "application/vnd.jupyter.widget-view+json": {
       "model_id": "a8fa85b3b626491298d00ffc654e6efa",
       "version_major": 2,
       "version_minor": 0
      },
      "text/plain": [
       "  0%|          | 0/6 [00:00<?, ?it/s]"
      ]
     },
     "metadata": {},
     "output_type": "display_data"
    },
    {
     "name": "stdout",
     "output_type": "stream",
     "text": [
      "{'eval_loss': 1.8558681011199951, 'eval_accuracy': 0.7127659574468085, 'eval_runtime': 11.0561, 'eval_samples_per_second': 8.502, 'eval_steps_per_second': 0.543, 'epoch': 6.94}\n",
      "{'loss': 1.5736, 'grad_norm': 8.294869422912598, 'learning_rate': 3.418803418803419e-05, 'epoch': 7.55}\n"
     ]
    },
    {
     "data": {
      "application/vnd.jupyter.widget-view+json": {
       "model_id": "944b57081eaa4b0da25adf293458ddb7",
       "version_major": 2,
       "version_minor": 0
      },
      "text/plain": [
       "  0%|          | 0/6 [00:00<?, ?it/s]"
      ]
     },
     "metadata": {},
     "output_type": "display_data"
    },
    {
     "name": "stdout",
     "output_type": "stream",
     "text": [
      "{'eval_loss': 1.609816551208496, 'eval_accuracy': 0.7872340425531915, 'eval_runtime': 12.0964, 'eval_samples_per_second': 7.771, 'eval_steps_per_second': 0.496, 'epoch': 8.0}\n",
      "{'loss': 1.2275, 'grad_norm': 9.884180068969727, 'learning_rate': 3.205128205128206e-05, 'epoch': 8.3}\n"
     ]
    },
    {
     "data": {
      "application/vnd.jupyter.widget-view+json": {
       "model_id": "12bb91c14f1848e08649d694abbbe463",
       "version_major": 2,
       "version_minor": 0
      },
      "text/plain": [
       "  0%|          | 0/6 [00:00<?, ?it/s]"
      ]
     },
     "metadata": {},
     "output_type": "display_data"
    },
    {
     "name": "stdout",
     "output_type": "stream",
     "text": [
      "{'eval_loss': 1.404447078704834, 'eval_accuracy': 0.7978723404255319, 'eval_runtime': 10.5015, 'eval_samples_per_second': 8.951, 'eval_steps_per_second': 0.571, 'epoch': 8.98}\n",
      "{'loss': 1.1316, 'grad_norm': 7.7315897941589355, 'learning_rate': 2.9914529914529915e-05, 'epoch': 9.06}\n",
      "{'loss': 0.9186, 'grad_norm': 7.006025791168213, 'learning_rate': 2.777777777777778e-05, 'epoch': 9.81}\n"
     ]
    },
    {
     "data": {
      "application/vnd.jupyter.widget-view+json": {
       "model_id": "d5535295471843b9be4c4a11fa1f6407",
       "version_major": 2,
       "version_minor": 0
      },
      "text/plain": [
       "  0%|          | 0/6 [00:00<?, ?it/s]"
      ]
     },
     "metadata": {},
     "output_type": "display_data"
    },
    {
     "name": "stdout",
     "output_type": "stream",
     "text": [
      "{'eval_loss': 1.2606635093688965, 'eval_accuracy': 0.8404255319148937, 'eval_runtime': 11.0361, 'eval_samples_per_second': 8.517, 'eval_steps_per_second': 0.544, 'epoch': 9.96}\n",
      "{'loss': 0.7904, 'grad_norm': 6.339583873748779, 'learning_rate': 2.564102564102564e-05, 'epoch': 10.57}\n"
     ]
    },
    {
     "data": {
      "application/vnd.jupyter.widget-view+json": {
       "model_id": "ef8c6d506a2b4717903e3ce3e1733172",
       "version_major": 2,
       "version_minor": 0
      },
      "text/plain": [
       "  0%|          | 0/6 [00:00<?, ?it/s]"
      ]
     },
     "metadata": {},
     "output_type": "display_data"
    },
    {
     "name": "stdout",
     "output_type": "stream",
     "text": [
      "{'eval_loss': 1.1749556064605713, 'eval_accuracy': 0.8617021276595744, 'eval_runtime': 11.1867, 'eval_samples_per_second': 8.403, 'eval_steps_per_second': 0.536, 'epoch': 10.94}\n",
      "{'loss': 0.7375, 'grad_norm': 6.375482082366943, 'learning_rate': 2.3504273504273504e-05, 'epoch': 11.32}\n"
     ]
    },
    {
     "data": {
      "application/vnd.jupyter.widget-view+json": {
       "model_id": "4f04e46d54fb4f4f82f34329b2459d64",
       "version_major": 2,
       "version_minor": 0
      },
      "text/plain": [
       "  0%|          | 0/6 [00:00<?, ?it/s]"
      ]
     },
     "metadata": {},
     "output_type": "display_data"
    },
    {
     "name": "stdout",
     "output_type": "stream",
     "text": [
      "{'eval_loss': 1.066470980644226, 'eval_accuracy': 0.8723404255319149, 'eval_runtime': 10.1186, 'eval_samples_per_second': 9.29, 'eval_steps_per_second': 0.593, 'epoch': 12.0}\n",
      "{'loss': 0.687, 'grad_norm': 6.639621257781982, 'learning_rate': 2.1367521367521368e-05, 'epoch': 12.08}\n",
      "{'loss': 0.611, 'grad_norm': 6.168306350708008, 'learning_rate': 1.923076923076923e-05, 'epoch': 12.83}\n"
     ]
    },
    {
     "data": {
      "application/vnd.jupyter.widget-view+json": {
       "model_id": "dba2025342b045b3a35c0bdf94b3548c",
       "version_major": 2,
       "version_minor": 0
      },
      "text/plain": [
       "  0%|          | 0/6 [00:00<?, ?it/s]"
      ]
     },
     "metadata": {},
     "output_type": "display_data"
    },
    {
     "name": "stdout",
     "output_type": "stream",
     "text": [
      "{'eval_loss': 1.0520755052566528, 'eval_accuracy': 0.8829787234042553, 'eval_runtime': 9.024, 'eval_samples_per_second': 10.417, 'eval_steps_per_second': 0.665, 'epoch': 12.98}\n",
      "{'loss': 0.5002, 'grad_norm': 4.111606121063232, 'learning_rate': 1.7094017094017095e-05, 'epoch': 13.58}\n"
     ]
    },
    {
     "data": {
      "application/vnd.jupyter.widget-view+json": {
       "model_id": "e6027402feb54879b5810254533afe93",
       "version_major": 2,
       "version_minor": 0
      },
      "text/plain": [
       "  0%|          | 0/6 [00:00<?, ?it/s]"
      ]
     },
     "metadata": {},
     "output_type": "display_data"
    },
    {
     "name": "stdout",
     "output_type": "stream",
     "text": [
      "{'eval_loss': 1.0372234582901, 'eval_accuracy': 0.8829787234042553, 'eval_runtime': 9.2279, 'eval_samples_per_second': 10.187, 'eval_steps_per_second': 0.65, 'epoch': 13.96}\n",
      "{'loss': 0.4759, 'grad_norm': 4.218101501464844, 'learning_rate': 1.4957264957264958e-05, 'epoch': 14.34}\n"
     ]
    },
    {
     "data": {
      "application/vnd.jupyter.widget-view+json": {
       "model_id": "2fc23847470d49c793bc76344d8006c2",
       "version_major": 2,
       "version_minor": 0
      },
      "text/plain": [
       "  0%|          | 0/6 [00:00<?, ?it/s]"
      ]
     },
     "metadata": {},
     "output_type": "display_data"
    },
    {
     "name": "stdout",
     "output_type": "stream",
     "text": [
      "{'eval_loss': 1.01197350025177, 'eval_accuracy': 0.8829787234042553, 'eval_runtime': 9.4495, 'eval_samples_per_second': 9.948, 'eval_steps_per_second': 0.635, 'epoch': 14.94}\n",
      "{'loss': 0.5074, 'grad_norm': 6.960679531097412, 'learning_rate': 1.282051282051282e-05, 'epoch': 15.09}\n",
      "{'loss': 0.4612, 'grad_norm': 7.316905498504639, 'learning_rate': 1.0683760683760684e-05, 'epoch': 15.85}\n"
     ]
    },
    {
     "data": {
      "application/vnd.jupyter.widget-view+json": {
       "model_id": "4bf4545dda674b5bbdaed93e760cece5",
       "version_major": 2,
       "version_minor": 0
      },
      "text/plain": [
       "  0%|          | 0/6 [00:00<?, ?it/s]"
      ]
     },
     "metadata": {},
     "output_type": "display_data"
    },
    {
     "name": "stdout",
     "output_type": "stream",
     "text": [
      "{'eval_loss': 1.0013195276260376, 'eval_accuracy': 0.8829787234042553, 'eval_runtime': 10.3109, 'eval_samples_per_second': 9.117, 'eval_steps_per_second': 0.582, 'epoch': 16.0}\n",
      "{'loss': 0.4635, 'grad_norm': 7.071527004241943, 'learning_rate': 8.547008547008548e-06, 'epoch': 16.6}\n"
     ]
    },
    {
     "data": {
      "application/vnd.jupyter.widget-view+json": {
       "model_id": "76579ece548346b0a8dc561276ef949a",
       "version_major": 2,
       "version_minor": 0
      },
      "text/plain": [
       "  0%|          | 0/6 [00:00<?, ?it/s]"
      ]
     },
     "metadata": {},
     "output_type": "display_data"
    },
    {
     "name": "stdout",
     "output_type": "stream",
     "text": [
      "{'eval_loss': 0.9854071736335754, 'eval_accuracy': 0.8829787234042553, 'eval_runtime': 9.0656, 'eval_samples_per_second': 10.369, 'eval_steps_per_second': 0.662, 'epoch': 16.98}\n",
      "{'loss': 0.4809, 'grad_norm': 6.130165100097656, 'learning_rate': 6.41025641025641e-06, 'epoch': 17.36}\n"
     ]
    },
    {
     "data": {
      "application/vnd.jupyter.widget-view+json": {
       "model_id": "2acb7d9881954dd5b707169758b19760",
       "version_major": 2,
       "version_minor": 0
      },
      "text/plain": [
       "  0%|          | 0/6 [00:00<?, ?it/s]"
      ]
     },
     "metadata": {},
     "output_type": "display_data"
    },
    {
     "name": "stdout",
     "output_type": "stream",
     "text": [
      "{'eval_loss': 0.9770564436912537, 'eval_accuracy': 0.8829787234042553, 'eval_runtime': 9.386, 'eval_samples_per_second': 10.015, 'eval_steps_per_second': 0.639, 'epoch': 17.96}\n",
      "{'loss': 0.4018, 'grad_norm': 7.1028151512146, 'learning_rate': 4.273504273504274e-06, 'epoch': 18.11}\n",
      "{'loss': 0.3839, 'grad_norm': 5.274391174316406, 'learning_rate': 2.136752136752137e-06, 'epoch': 18.87}\n"
     ]
    },
    {
     "data": {
      "application/vnd.jupyter.widget-view+json": {
       "model_id": "f47bd84e4f204c208af49b0d4139d32c",
       "version_major": 2,
       "version_minor": 0
      },
      "text/plain": [
       "  0%|          | 0/6 [00:00<?, ?it/s]"
      ]
     },
     "metadata": {},
     "output_type": "display_data"
    },
    {
     "name": "stdout",
     "output_type": "stream",
     "text": [
      "{'eval_loss': 0.9762952923774719, 'eval_accuracy': 0.8829787234042553, 'eval_runtime': 9.6036, 'eval_samples_per_second': 9.788, 'eval_steps_per_second': 0.625, 'epoch': 18.94}\n",
      "{'loss': 0.362, 'grad_norm': 5.324009418487549, 'learning_rate': 0.0, 'epoch': 19.62}\n"
     ]
    },
    {
     "data": {
      "application/vnd.jupyter.widget-view+json": {
       "model_id": "c29b4d45874d4cc7b08bf9b560d66728",
       "version_major": 2,
       "version_minor": 0
      },
      "text/plain": [
       "  0%|          | 0/6 [00:00<?, ?it/s]"
      ]
     },
     "metadata": {},
     "output_type": "display_data"
    },
    {
     "name": "stdout",
     "output_type": "stream",
     "text": [
      "{'eval_loss': 0.9754350781440735, 'eval_accuracy': 0.8829787234042553, 'eval_runtime': 10.0077, 'eval_samples_per_second': 9.393, 'eval_steps_per_second': 0.6, 'epoch': 19.62}\n",
      "{'train_runtime': 5350.4696, 'train_samples_per_second': 3.151, 'train_steps_per_second': 0.049, 'train_loss': 1.8260414692071767, 'epoch': 19.62}\n",
      "***** train metrics *****\n",
      "  epoch                    =      19.6226\n",
      "  total_flos               = 1585066477GF\n",
      "  train_loss               =        1.826\n",
      "  train_runtime            =   1:29:10.46\n",
      "  train_samples_per_second =        3.151\n",
      "  train_steps_per_second   =        0.049\n"
     ]
    }
   ],
   "source": [
    "train_results = trainer.train()\n",
    "# rest is optional but nice to have\n",
    "trainer.save_model()\n",
    "trainer.log_metrics(\"train\", train_results.metrics)\n",
    "trainer.save_metrics(\"train\", train_results.metrics)\n",
    "trainer.save_state()\n"
   ]
  },
  {
   "cell_type": "code",
   "execution_count": 18,
   "id": "88908552",
   "metadata": {
    "ExecuteTime": {
     "end_time": "2023-07-19T06:32:03.046627Z",
     "start_time": "2023-07-19T06:31:59.272752Z"
    }
   },
   "outputs": [
    {
     "data": {
      "application/vnd.jupyter.widget-view+json": {
       "model_id": "f13ab47226694e74aa0866252952ca6a",
       "version_major": 2,
       "version_minor": 0
      },
      "text/plain": [
       "  0%|          | 0/6 [00:00<?, ?it/s]"
      ]
     },
     "metadata": {},
     "output_type": "display_data"
    },
    {
     "name": "stdout",
     "output_type": "stream",
     "text": [
      "***** eval metrics *****\n",
      "  epoch                   =    19.6226\n",
      "  eval_accuracy           =      0.883\n",
      "  eval_loss               =     1.0521\n",
      "  eval_runtime            = 0:00:09.80\n",
      "  eval_samples_per_second =      9.588\n",
      "  eval_steps_per_second   =      0.612\n"
     ]
    }
   ],
   "source": [
    "metrics = trainer.evaluate()\n",
    "# some nice to haves:\n",
    "trainer.log_metrics(\"eval\", metrics)\n",
    "trainer.save_metrics(\"eval\", metrics)\n"
   ]
  },
  {
   "cell_type": "code",
   "execution_count": 19,
   "id": "b519d128",
   "metadata": {
    "ExecuteTime": {
     "end_time": "2023-07-19T06:33:09.590437Z",
     "start_time": "2023-07-19T06:33:09.388008Z"
    }
   },
   "outputs": [
    {
     "name": "stderr",
     "output_type": "stream",
     "text": [
      "Hardware accelerator e.g. GPU is available in the environment, but no `device` argument is passed to the `Pipeline` object. Model will be on CPU.\n"
     ]
    },
    {
     "data": {
      "text/plain": [
       "[{'label': 'ヒスイヌメルゴン', 'score': 0.9919082522392273},\n",
       " {'label': 'ガラルマタドガス', 'score': 0.0003775506920646876},\n",
       " {'label': 'ヌメルゴン', 'score': 0.00027148297522217035},\n",
       " {'label': 'ドーブル', 'score': 0.0002558927226345986},\n",
       " {'label': 'コノヨザル', 'score': 0.00025039564934559166}]"
      ]
     },
     "execution_count": 19,
     "metadata": {},
     "output_type": "execute_result"
    }
   ],
   "source": [
    "# 推論テスト\n",
    "import cv2\n",
    "from PIL import Image\n",
    "from transformers import pipeline\n",
    "\n",
    "classifier_pipe = pipeline(task=\"image-classification\", model=trainer.model, feature_extractor=feature_extractor)\n",
    "pokemon_image = cv2.imread(\"../template_images/user_labeled_pokemon_templates/ヒスイヌメルゴン/20230719104544.png\")\n",
    "pokemon_image2 = cv2.cvtColor(pokemon_image, cv2.COLOR_BGR2RGB)\n",
    "pokemon_image3 = Image.fromarray(pokemon_image2)\n",
    "classifier_pipe(pokemon_image3)\n"
   ]
  },
  {
   "cell_type": "code",
   "execution_count": 39,
   "id": "19b00adc",
   "metadata": {
    "ExecuteTime": {
     "end_time": "2023-07-17T04:17:15.362675Z",
     "start_time": "2023-07-17T04:17:15.356123Z"
    }
   },
   "outputs": [
    {
     "data": {
      "image/jpeg": "[encoded data removed]",
      "image/png": "[encoded data removed]",
      "text/plain": [
       "<PIL.PngImagePlugin.PngImageFile image mode=RGB size=105x100>"
      ]
     },
     "execution_count": 39,
     "metadata": {},
     "output_type": "execute_result"
    }
   ],
   "source": [
    "val_ds[0]['image']\n"
   ]
  },
  {
   "cell_type": "code",
   "execution_count": 40,
   "id": "4a9472e4",
   "metadata": {
    "ExecuteTime": {
     "end_time": "2023-07-17T04:17:17.894956Z",
     "start_time": "2023-07-17T04:17:17.633485Z"
    }
   },
   "outputs": [
    {
     "data": {
      "text/plain": [
       "[{'label': 'ママンボウ', 'score': 0.9804229736328125},\n",
       " {'label': 'モロバレル', 'score': 0.0012637354666367173},\n",
       " {'label': 'ヒスイヌメルゴン', 'score': 0.0011906875297427177},\n",
       " {'label': 'ラッキー', 'score': 0.001051618019118905},\n",
       " {'label': 'ハピナス', 'score': 0.000867854745592922}]"
      ]
     },
     "execution_count": 40,
     "metadata": {},
     "output_type": "execute_result"
    }
   ],
   "source": [
    "classifier_pipe(val_ds[0]['image'])\n"
   ]
  },
  {
   "cell_type": "code",
   "execution_count": 20,
   "id": "9ba23306",
   "metadata": {
    "ExecuteTime": {
     "end_time": "2023-07-17T04:17:28.333055Z",
     "start_time": "2023-07-17T04:17:20.165758Z"
    }
   },
   "outputs": [
    {
     "name": "stdout",
     "output_type": "stream",
     "text": [
      "0 {'label': 'マスカーニャ', 'score': 0.9895569682121277} マスカーニャ\n",
      "1 {'label': 'グライオン', 'score': 0.9900593757629395} グライオン\n",
      "2 {'label': 'ミミズズ', 'score': 0.9920355677604675} ミミズズ\n",
      "3 {'label': 'グライオン', 'score': 0.9934031367301941} グライオン\n",
      "4 {'label': 'エルフーン', 'score': 0.08571778237819672} マホイップ\n",
      "5 {'label': 'ルチャブル', 'score': 0.6323214173316956} ルチャブル\n",
      "6 {'label': 'ドラパルト', 'score': 0.9901174902915955} ドラパルト\n",
      "7 {'label': 'アローラキュウコン', 'score': 0.9743554592132568} アローラキュウコン\n",
      "8 {'label': 'ファイヤー', 'score': 0.9720124006271362} ファイヤー\n",
      "9 {'label': 'ヤバソチャ', 'score': 0.9827693700790405} ヤバソチャ\n",
      "10 {'label': 'ミミッキュ', 'score': 0.9887194037437439} ミミッキュ\n",
      "11 {'label': 'マスカーニャ', 'score': 0.9952548742294312} マスカーニャ\n",
      "12 {'label': 'マスカーニャ', 'score': 0.9945986270904541} マスカーニャ\n",
      "13 {'label': 'マスカーニャ', 'score': 0.9918808341026306} マスカーニャ\n",
      "14 {'label': 'ドドゲザン', 'score': 0.9960119724273682} ドドゲザン\n",
      "15 {'label': 'ラティオス', 'score': 0.9856430888175964} ラティオス\n",
      "16 {'label': 'ガラルマタドガス', 'score': 0.3516274690628052} ガラルマタドガス\n",
      "17 {'label': 'エースバーン', 'score': 0.4847973883152008} エースバーン\n",
      "18 {'label': 'ギャラドス', 'score': 0.9525304436683655} ギャラドス\n",
      "19 {'label': 'ブロスター', 'score': 0.22560377418994904} ブロスター\n",
      "20 {'label': 'ガチグマ赫月', 'score': 0.995280921459198} ガチグマ赫月\n",
      "21 {'label': 'ヌメルゴン', 'score': 0.9974526762962341} ヌメルゴン\n",
      "22 {'label': 'ミライドン', 'score': 0.9088196754455566} ミライドン\n",
      "23 {'label': 'アローラキュウコン', 'score': 0.9912380576133728} アローラキュウコン\n",
      "24 {'label': 'ミミズズ', 'score': 0.9895346760749817} ミミズズ\n",
      "25 {'label': 'ガチグマ', 'score': 0.3505527377128601} ガチグマ\n",
      "26 {'label': 'マシマシラ', 'score': 0.9955873489379883} マシマシラ\n",
      "27 {'label': 'イダイトウ・メス', 'score': 0.9742159247398376} イダイトウ・メス\n",
      "28 {'label': 'ラウドボーン', 'score': 0.9780269861221313} ラウドボーン\n",
      "29 {'label': 'ボーマンダ', 'score': 0.9941827654838562} ボーマンダ\n",
      "30 {'label': 'デカヌチャン', 'score': 0.04144791513681412} ビビヨン\n",
      "31 {'label': 'エーフィ', 'score': 0.8588728904724121} エーフィ\n",
      "32 {'label': 'サザンドラ', 'score': 0.9537937045097351} サザンドラ\n",
      "33 {'label': 'ウーラオス', 'score': 0.9966160655021667} ウーラオス\n",
      "34 {'label': 'ハバタクカミ', 'score': 0.9892923831939697} ハバタクカミ\n",
      "35 {'label': 'グランブル', 'score': 0.9974149465560913} グランブル\n",
      "36 {'label': 'オオニューラ', 'score': 0.972854495048523} オオニューラ\n",
      "37 {'label': 'ウーラオス', 'score': 0.11779485642910004} エンペルト\n",
      "38 {'label': '霊獣ランドロス', 'score': 0.9797284007072449} 霊獣ランドロス\n",
      "39 {'label': 'ママンボウ', 'score': 0.9861606359481812} ママンボウ\n",
      "40 {'label': 'ゴチルゼル', 'score': 0.989038348197937} ゴチルゼル\n",
      "41 {'label': 'ニョロトノ', 'score': 0.9644448161125183} ニョロトノ\n",
      "42 {'label': 'グライオン', 'score': 0.9934031367301941} グライオン\n",
      "43 {'label': 'パルデアケンタロス水', 'score': 0.6113035082817078} パルデアケンタロス水\n",
      "44 {'label': 'ヒスイダイケンキ', 'score': 0.07580187916755676} フリーザー\n",
      "45 {'label': 'ディンルー', 'score': 0.9973834156990051} ディンルー\n",
      "46 {'label': 'デカヌチャン', 'score': 0.11571259796619415} マタドガス\n",
      "47 {'label': 'デンチュラ', 'score': 0.6357057690620422} デンチュラ\n",
      "48 {'label': 'デカヌチャン', 'score': 0.8955329656600952} デカヌチャン\n",
      "49 {'label': 'タケルライコ', 'score': 0.6676364541053772} タケルライコ\n",
      "50 {'label': '水オーガポン', 'score': 0.9099294543266296} 水オーガポン\n",
      "51 {'label': 'ピクシー', 'score': 0.9969698786735535} ピクシー\n",
      "52 {'label': 'テツノドクガ', 'score': 0.9770678281784058} テツノドクガ\n",
      "53 {'label': 'モロバレル', 'score': 0.0758143961429596} シャリタツ\n",
      "54 {'label': 'ルチャブル', 'score': 0.4171973168849945} ルチャブル\n",
      "55 {'label': 'ゲッコウガ', 'score': 0.9343662858009338} ゲッコウガ\n",
      "56 {'label': 'パーモット', 'score': 0.9933684468269348} パーモット\n",
      "57 {'label': 'ヌメルゴン', 'score': 0.9986563920974731} ヌメルゴン\n",
      "58 {'label': 'バドレックス(白馬)', 'score': 0.12982164323329926} バドレックス(白馬)\n",
      "59 {'label': 'テツノツツミ', 'score': 0.9882112145423889} テツノツツミ\n",
      "60 {'label': 'ムクホーク', 'score': 0.8457403779029846} ムクホーク\n",
      "61 {'label': 'マシマシラ', 'score': 0.9937435984611511} マシマシラ\n",
      "62 {'label': 'パーモット', 'score': 0.9837117791175842} パーモット\n",
      "63 {'label': 'マシマシラ', 'score': 0.996417760848999} マシマシラ\n",
      "64 {'label': 'ガラルフリーザー', 'score': 0.2387005090713501} ガラルフリーザー\n",
      "65 {'label': 'カイリュー', 'score': 0.9981439113616943} カイリュー\n",
      "66 {'label': 'オーガポン', 'score': 0.9885877370834351} オーガポン\n",
      "67 {'label': 'ミミッキュ', 'score': 0.9290985465049744} ミミッキュ\n",
      "68 {'label': 'ゲッコウガ', 'score': 0.13353227078914642} ネクロズマ(日食)\n",
      "69 {'label': 'キノガッサ', 'score': 0.9741736054420471} キノガッサ\n",
      "70 {'label': 'エンテイ', 'score': 0.3820815682411194} エンテイ\n",
      "71 {'label': 'ベトベトン', 'score': 0.796363353729248} ベトベトン\n",
      "72 {'label': 'ルカリオ', 'score': 0.10628776252269745} ブラックキュレム\n",
      "73 {'label': 'ヤバソチャ', 'score': 0.9896023869514465} ヤバソチャ\n",
      "74 {'label': 'サーフゴー', 'score': 0.9957798719406128} サーフゴー\n",
      "75 {'label': 'サーフゴー', 'score': 0.995373547077179} サーフゴー\n",
      "76 {'label': 'ハリーマン', 'score': 0.8132978081703186} ハリーマン\n",
      "77 {'label': 'トドロクツキ', 'score': 0.8865914344787598} トドロクツキ\n",
      "78 {'label': 'ヤミラミ', 'score': 0.9806729555130005} ヤミラミ\n",
      "79 {'label': 'ドヒドイデ', 'score': 0.9164806604385376} ドヒドイデ\n",
      "80 {'label': 'エルレイド', 'score': 0.9938071370124817} エルレイド\n",
      "81 {'label': 'イダイトウ・メス', 'score': 0.9627719521522522} イダイトウ・メス\n",
      "82 {'label': 'フシギバナ', 'score': 0.9936884045600891} フシギバナ\n",
      "83 {'label': 'オーガポン', 'score': 0.09620726108551025} ハハコモリ\n",
      "84 {'label': 'パーモット', 'score': 0.9807519912719727} パーモット\n",
      "85 {'label': 'クエスパトラ', 'score': 0.9924966096878052} クエスパトラ\n",
      "86 {'label': 'カバルドン', 'score': 0.9517220854759216} カバルドン\n",
      "87 {'label': 'ムゲンダイナ', 'score': 0.45591896772384644} ムゲンダイナ\n",
      "88 {'label': '化身ランドロス', 'score': 0.04310574382543564} ヘルガー\n",
      "89 {'label': 'クエスパトラ', 'score': 0.9957724213600159} クエスパトラ\n",
      "90 {'label': 'ジャローダ', 'score': 0.8889979720115662} ジャローダ\n",
      "91 {'label': 'サーナイト', 'score': 0.991826057434082} サーナイト\n",
      "92 {'label': 'カミツオロチ', 'score': 0.05865944176912308} ハハコモリ\n",
      "93 {'label': 'オリーヴァ', 'score': 0.4662944972515106} オリーヴァ\n"
     ]
    }
   ],
   "source": [
    "for idx, _val in enumerate(val_ds):\n",
    "    predict = classifier_pipe(_val['image'])\n",
    "    _label = id2label[_val[\"label\"]]\n",
    "    print(idx, predict[0], _label)\n"
   ]
  },
  {
   "cell_type": "code",
   "execution_count": 25,
   "id": "87edd2bb",
   "metadata": {
    "ExecuteTime": {
     "end_time": "2023-07-19T00:12:14.927173Z",
     "start_time": "2023-07-19T00:12:14.148611Z"
    }
   },
   "outputs": [
    {
     "data": {
      "text/plain": [
       "CommitInfo(commit_url='https://huggingface.co/fufufukakaka/pokemon_image_classifier/commit/655601c1b799114e9af35155790ffd5903acc13b', commit_message='Upload config.json with huggingface_hub', commit_description='', oid='655601c1b799114e9af35155790ffd5903acc13b', pr_url='https://huggingface.co/fufufukakaka/pokemon_image_classifier/discussions/42', pr_revision='refs/pr/42', pr_num=42)"
      ]
     },
     "execution_count": 25,
     "metadata": {},
     "output_type": "execute_result"
    }
   ],
   "source": [
    "from huggingface_hub import upload_file\n",
    "\n",
    "upload_file(\n",
    "    path_or_fileobj=\"pokemon_image_classifier/config.json\",\n",
    "    path_in_repo=\"config.json\",\n",
    "    repo_id=\"fufufukakaka/pokemon_image_classifier\",\n",
    "    create_pr=1\n",
    ")\n"
   ]
  },
  {
   "cell_type": "code",
   "execution_count": 26,
   "id": "97d36de9",
   "metadata": {
    "ExecuteTime": {
     "end_time": "2023-07-19T06:34:47.500724Z",
     "start_time": "2023-07-19T06:33:32.579118Z"
    }
   },
   "outputs": [
    {
     "data": {
      "application/vnd.jupyter.widget-view+json": {
       "model_id": "86734b79780e4e07a1767fc6d95ec384",
       "version_major": 2,
       "version_minor": 0
      },
      "text/plain": [
       "model.safetensors:   0%|          | 0.00/349M [00:00<?, ?B/s]"
      ]
     },
     "metadata": {},
     "output_type": "display_data"
    },
    {
     "data": {
      "text/plain": [
       "CommitInfo(commit_url='https://huggingface.co/fufufukakaka/pokemon_image_classifier/commit/209082608c2c2b1431acc0c3f36999ecc1e24242', commit_message='Upload model.safetensors with huggingface_hub', commit_description='', oid='209082608c2c2b1431acc0c3f36999ecc1e24242', pr_url='https://huggingface.co/fufufukakaka/pokemon_image_classifier/discussions/43', pr_revision='refs/pr/43', pr_num=43)"
      ]
     },
     "execution_count": 26,
     "metadata": {},
     "output_type": "execute_result"
    }
   ],
   "source": [
    "upload_file(\n",
    "    path_or_fileobj=\"pokemon_image_classifier/model.safetensors\",\n",
    "    path_in_repo=\"model.safetensors\",\n",
    "    repo_id=\"fufufukakaka/pokemon_image_classifier\",\n",
    "    create_pr=1\n",
    ")\n"
   ]
  },
  {
   "cell_type": "code",
   "execution_count": 27,
   "id": "182adc1a",
   "metadata": {
    "ExecuteTime": {
     "end_time": "2023-07-19T01:14:18.780507Z",
     "start_time": "2023-07-19T01:14:18.114147Z"
    }
   },
   "outputs": [
    {
     "data": {
      "text/plain": [
       "CommitInfo(commit_url='https://huggingface.co/fufufukakaka/pokemon_image_classifier/commit/b36a7585d9107b683b2e5819ede2c3cb200d3d13', commit_message='Upload preprocessor_config.json with huggingface_hub', commit_description='', oid='b36a7585d9107b683b2e5819ede2c3cb200d3d13', pr_url='https://huggingface.co/fufufukakaka/pokemon_image_classifier/discussions/44', pr_revision='refs/pr/44', pr_num=44)"
      ]
     },
     "execution_count": 27,
     "metadata": {},
     "output_type": "execute_result"
    }
   ],
   "source": [
    "upload_file(\n",
    "    path_or_fileobj=\"pokemon_image_classifier/preprocessor_config.json\",\n",
    "    path_in_repo=\"preprocessor_config.json\",\n",
    "    repo_id=\"fufufukakaka/pokemon_image_classifier\",\n",
    "    create_pr=1\n",
    ")\n"
   ]
  }
 ],
 "metadata": {
  "kernelspec": {
   "display_name": ".venv",
   "language": "python",
   "name": "python3"
  },
  "language_info": {
   "codemirror_mode": {
    "name": "ipython",
    "version": 3
   },
   "file_extension": ".py",
   "mimetype": "text/x-python",
   "name": "python",
   "nbconvert_exporter": "python",
   "pygments_lexer": "ipython3",
   "version": "3.12.2"
  },
  "varInspector": {
   "cols": {
    "lenName": 16,
    "lenType": 16,
    "lenVar": 40
   },
   "kernels_config": {
    "python": {
     "delete_cmd_postfix": "",
     "delete_cmd_prefix": "del ",
     "library": "var_list.py",
     "varRefreshCmd": "print(var_dic_list())"
    },
    "r": {
     "delete_cmd_postfix": ") ",
     "delete_cmd_prefix": "rm(",
     "library": "var_list.r",
     "varRefreshCmd": "cat(var_dic_list()) "
    }
   },
   "types_to_exclude": [
    "module",
    "function",
    "builtin_function_or_method",
    "instance",
    "_Feature"
   ],
   "window_display": false
  }
 },
 "nbformat": 4,
 "nbformat_minor": 5
}
