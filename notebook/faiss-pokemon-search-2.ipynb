{
 "cells": [
  {
   "cell_type": "code",
   "execution_count": 1,
   "id": "2795135f",
   "metadata": {
    "ExecuteTime": {
     "end_time": "2023-04-05T10:32:25.409569Z",
     "start_time": "2023-04-05T10:32:23.779277Z"
    }
   },
   "outputs": [
    {
     "name": "stderr",
     "output_type": "stream",
     "text": [
      "/Users/yusuke-fukasawa/Library/Caches/pypoetry/virtualenvs/poke-battle-logger-xYV7PrtE-py3.10/lib/python3.10/site-packages/torchvision/models/_utils.py:208: UserWarning: The parameter 'pretrained' is deprecated since 0.13 and may be removed in the future, please use 'weights' instead.\n",
      "  warnings.warn(\n",
      "/Users/yusuke-fukasawa/Library/Caches/pypoetry/virtualenvs/poke-battle-logger-xYV7PrtE-py3.10/lib/python3.10/site-packages/torchvision/models/_utils.py:223: UserWarning: Arguments other than a weight enum or `None` for 'weights' are deprecated since 0.13 and may be removed in the future. The current behavior is equivalent to passing `weights=None`.\n",
      "  warnings.warn(msg)\n"
     ]
    }
   ],
   "source": [
    "import imgsim\n",
    "import cv2\n",
    "import cloudpickle\n",
    "\n",
    "vtr = imgsim.Vectorizer()"
   ]
  },
  {
   "cell_type": "code",
   "execution_count": 9,
   "id": "4f8aa610",
   "metadata": {
    "ExecuteTime": {
     "end_time": "2023-03-26T07:37:12.146497Z",
     "start_time": "2023-03-26T07:37:12.015215Z"
    }
   },
   "outputs": [
    {
     "name": "stdout",
     "output_type": "stream",
     "text": [
      "distance = 27.084408\n"
     ]
    }
   ],
   "source": [
    "img0 = cv2.imread(\"../template_images/labeled_pokemon_templates/アーマーガア.png\")\n",
    "img1 = cv2.imread(\"../template_images/labeled_pokemon_templates/キョジオーン.png\")\n",
    "\n",
    "vec0 = vtr.vectorize(img0)\n",
    "vec1 = vtr.vectorize(img1)\n",
    "\n",
    "dist = imgsim.distance(vec0, vec1)\n",
    "print(\"distance =\", dist)"
   ]
  },
  {
   "cell_type": "code",
   "execution_count": 18,
   "id": "22e8cba6",
   "metadata": {
    "ExecuteTime": {
     "end_time": "2023-03-26T07:45:12.983534Z",
     "start_time": "2023-03-26T07:45:12.980868Z"
    }
   },
   "outputs": [
    {
     "data": {
      "text/plain": [
       "'ガブリアス_2'"
      ]
     },
     "execution_count": 18,
     "metadata": {},
     "output_type": "execute_result"
    }
   ],
   "source": [
    "path.split(\"/\")[-1].split(\".\")[0]"
   ]
  },
  {
   "cell_type": "code",
   "execution_count": 11,
   "id": "73515be1",
   "metadata": {
    "ExecuteTime": {
     "end_time": "2023-04-05T10:39:14.629185Z",
     "start_time": "2023-04-05T10:38:58.186936Z"
    }
   },
   "outputs": [
    {
     "data": {
      "application/vnd.jupyter.widget-view+json": {
       "model_id": "d758c3cfb9514b928ba5185db2411bf0",
       "version_major": 2,
       "version_minor": 0
      },
      "text/plain": [
       "  0%|          | 0/202 [00:00<?, ?it/s]"
      ]
     },
     "metadata": {},
     "output_type": "display_data"
    }
   ],
   "source": [
    "import glob\n",
    "from tqdm.auto import tqdm\n",
    "\n",
    "vectors = {}\n",
    "pokemon_images = glob.glob(\"../template_images/labeled_pokemon_templates/*.png\")\n",
    "for path in tqdm(pokemon_images):\n",
    "    img = cv2.imread(path)\n",
    "    gray = cv2.cvtColor(img, cv2.COLOR_BGR2GRAY)\n",
    "    img2 = np.zeros_like(img)\n",
    "    img2[:,:,0] = gray\n",
    "    img2[:,:,1] = gray\n",
    "    img2[:,:,2] = gray\n",
    "    vec0 = vtr.vectorize(img2)\n",
    "    vectors[path.split(\"/\")[-1].split(\".\")[0]] = vec0\n",
    "\n",
    "vector_array = np.array(list(vectors.values()))\n",
    "vector_array = np.reshape(vector_array, (len(vector_array), vec0.shape[0]))"
   ]
  },
  {
   "cell_type": "code",
   "execution_count": 3,
   "id": "43cd063a",
   "metadata": {
    "ExecuteTime": {
     "end_time": "2023-04-05T10:32:46.843837Z",
     "start_time": "2023-04-05T10:32:46.777935Z"
    }
   },
   "outputs": [],
   "source": [
    "import numpy as np\n",
    "import faiss\n",
    "\n",
    "faiss_index = faiss.IndexFlatL2(vec0.shape[0])\n",
    "faiss_index.add(vector_array)\n",
    "\n",
    "vector_index = list(vectors.keys())"
   ]
  },
  {
   "cell_type": "code",
   "execution_count": 12,
   "id": "eb1753e4",
   "metadata": {
    "ExecuteTime": {
     "end_time": "2023-04-05T10:39:21.409365Z",
     "start_time": "2023-04-05T10:39:21.322850Z"
    }
   },
   "outputs": [
    {
     "name": "stdout",
     "output_type": "stream",
     "text": [
      "ラウドボーン\n",
      "ラウドボーン\n",
      "ラウドボーン\n"
     ]
    }
   ],
   "source": [
    "import re\n",
    "\n",
    "img = cv2.imread(\"../template_images/labeled_pokemon_templates/ラウドボーン.png\")\n",
    "gray = cv2.cvtColor(img, cv2.COLOR_BGR2GRAY)\n",
    "img2 = np.zeros_like(img)\n",
    "img2[:,:,0] = gray\n",
    "img2[:,:,1] = gray\n",
    "img2[:,:,2] = gray\n",
    "vec = vtr.vectorize(img2)\n",
    "vec = np.reshape(vec, (1, vec.shape[0]))\n",
    "scores, indexes = faiss_index.search(vec, 10)\n",
    "for score, idx in zip(scores[0], indexes[0]):\n",
    "    if score < 100:\n",
    "        print(vector_index[idx].split(\"_\")[0])"
   ]
  },
  {
   "cell_type": "code",
   "execution_count": 13,
   "id": "fe0e47d7",
   "metadata": {
    "ExecuteTime": {
     "end_time": "2023-04-05T10:39:31.517710Z",
     "start_time": "2023-04-05T10:39:31.430852Z"
    }
   },
   "outputs": [
    {
     "name": "stdout",
     "output_type": "stream",
     "text": [
      "リングマ\n",
      "リングマ\n"
     ]
    }
   ],
   "source": [
    "img = cv2.imread(\"../template_images/labeled_pokemon_templates/リングマ.png\")\n",
    "gray = cv2.cvtColor(img, cv2.COLOR_BGR2GRAY)\n",
    "img2 = np.zeros_like(img)\n",
    "img2[:,:,0] = gray\n",
    "img2[:,:,1] = gray\n",
    "img2[:,:,2] = gray\n",
    "vec = vtr.vectorize(img2)\n",
    "vec = np.reshape(vec, (1, vec.shape[0]))\n",
    "scores, indexes = faiss_index.search(vec, 10)\n",
    "for score, idx in zip(scores[0], indexes[0]):\n",
    "    if score < 100:\n",
    "        print(vector_index[idx].split(\"_\")[0])"
   ]
  },
  {
   "cell_type": "code",
   "execution_count": 59,
   "id": "94860f43",
   "metadata": {
    "ExecuteTime": {
     "end_time": "2023-03-27T10:56:43.535044Z",
     "start_time": "2023-03-27T10:56:43.449693Z"
    }
   },
   "outputs": [
    {
     "name": "stdout",
     "output_type": "stream",
     "text": [
      "リングマ\n",
      "トリトドン\n",
      "カバルドン\n"
     ]
    }
   ],
   "source": [
    "trained_faiss_index = faiss.read_index(\n",
    "    \"../model/pokemon_image_faiss/pokemon_faiss_index\"\n",
    ")\n",
    "trained_vector_index = cloudpickle.load(\n",
    "    open(\"../model/pokemon_image_faiss/pokemon_faiss_index_vector_index\", \"rb\")\n",
    ")\n",
    "\n",
    "img = cv2.imread(\"../template_images/unknown_pokemon_templates/1679889086.011589.png\")\n",
    "img = cv2.cvtColor(img, cv2.COLOR_BGR2RGB)\n",
    "vec = vtr.vectorize(img)\n",
    "vec = np.reshape(vec, (1, vec.shape[0]))\n",
    "scores, indexes = trained_faiss_index.search(vec, 10)\n",
    "for score, idx in zip(scores[0], indexes[0]):\n",
    "    if score < 200:\n",
    "        print(trained_vector_index[idx].split(\"_\")[0])"
   ]
  },
  {
   "cell_type": "code",
   "execution_count": 61,
   "id": "7caac7b7",
   "metadata": {
    "ExecuteTime": {
     "end_time": "2023-03-27T10:56:47.881831Z",
     "start_time": "2023-03-27T10:56:47.879283Z"
    }
   },
   "outputs": [
    {
     "data": {
      "text/plain": [
       "array([[  0.     , 181.62204, 189.22948, 227.2118 , 243.46072, 244.17935,\n",
       "        244.93323, 249.82547, 250.26297, 254.31248]], dtype=float32)"
      ]
     },
     "execution_count": 61,
     "metadata": {},
     "output_type": "execute_result"
    }
   ],
   "source": [
    "scores"
   ]
  }
 ],
 "metadata": {
  "kernelspec": {
   "display_name": "Python 3 (ipykernel)",
   "language": "python",
   "name": "python3"
  },
  "language_info": {
   "codemirror_mode": {
    "name": "ipython",
    "version": 3
   },
   "file_extension": ".py",
   "mimetype": "text/x-python",
   "name": "python",
   "nbconvert_exporter": "python",
   "pygments_lexer": "ipython3",
   "version": "3.10.10"
  },
  "varInspector": {
   "cols": {
    "lenName": 16,
    "lenType": 16,
    "lenVar": 40
   },
   "kernels_config": {
    "python": {
     "delete_cmd_postfix": "",
     "delete_cmd_prefix": "del ",
     "library": "var_list.py",
     "varRefreshCmd": "print(var_dic_list())"
    },
    "r": {
     "delete_cmd_postfix": ") ",
     "delete_cmd_prefix": "rm(",
     "library": "var_list.r",
     "varRefreshCmd": "cat(var_dic_list()) "
    }
   },
   "types_to_exclude": [
    "module",
    "function",
    "builtin_function_or_method",
    "instance",
    "_Feature"
   ],
   "window_display": false
  }
 },
 "nbformat": 4,
 "nbformat_minor": 5
}
