{
 "cells": [
  {
   "cell_type": "code",
   "execution_count": 4,
   "id": "2795135f",
   "metadata": {
    "ExecuteTime": {
     "end_time": "2023-03-26T07:28:50.387178Z",
     "start_time": "2023-03-26T07:28:48.219628Z"
    }
   },
   "outputs": [
    {
     "name": "stderr",
     "output_type": "stream",
     "text": [
      "/Users/yusuke-fukasawa/Library/Caches/pypoetry/virtualenvs/poke-battle-logger-xYV7PrtE-py3.10/lib/python3.10/site-packages/torchvision/models/_utils.py:208: UserWarning: The parameter 'pretrained' is deprecated since 0.13 and may be removed in the future, please use 'weights' instead.\n",
      "  warnings.warn(\n",
      "/Users/yusuke-fukasawa/Library/Caches/pypoetry/virtualenvs/poke-battle-logger-xYV7PrtE-py3.10/lib/python3.10/site-packages/torchvision/models/_utils.py:223: UserWarning: Arguments other than a weight enum or `None` for 'weights' are deprecated since 0.13 and may be removed in the future. The current behavior is equivalent to passing `weights=None`.\n",
      "  warnings.warn(msg)\n"
     ]
    }
   ],
   "source": [
    "import imgsim\n",
    "import cv2\n",
    "\n",
    "vtr = imgsim.Vectorizer()"
   ]
  },
  {
   "cell_type": "code",
   "execution_count": 9,
   "id": "4f8aa610",
   "metadata": {
    "ExecuteTime": {
     "end_time": "2023-03-26T07:37:12.146497Z",
     "start_time": "2023-03-26T07:37:12.015215Z"
    }
   },
   "outputs": [
    {
     "name": "stdout",
     "output_type": "stream",
     "text": [
      "distance = 27.084408\n"
     ]
    }
   ],
   "source": [
    "img0 = cv2.imread(\"../template_images/labeled_pokemon_templates/アーマーガア.png\")\n",
    "img1 = cv2.imread(\"../template_images/labeled_pokemon_templates/キョジオーン.png\")\n",
    "\n",
    "vec0 = vtr.vectorize(img0)\n",
    "vec1 = vtr.vectorize(img1)\n",
    "\n",
    "dist = imgsim.distance(vec0, vec1)\n",
    "print(\"distance =\", dist)"
   ]
  },
  {
   "cell_type": "code",
   "execution_count": 18,
   "id": "22e8cba6",
   "metadata": {
    "ExecuteTime": {
     "end_time": "2023-03-26T07:45:12.983534Z",
     "start_time": "2023-03-26T07:45:12.980868Z"
    }
   },
   "outputs": [
    {
     "data": {
      "text/plain": [
       "'ガブリアス_2'"
      ]
     },
     "execution_count": 18,
     "metadata": {},
     "output_type": "execute_result"
    }
   ],
   "source": [
    "path.split(\"/\")[-1].split(\".\")[0]"
   ]
  },
  {
   "cell_type": "code",
   "execution_count": 21,
   "id": "73515be1",
   "metadata": {
    "ExecuteTime": {
     "end_time": "2023-03-26T07:46:17.481711Z",
     "start_time": "2023-03-26T07:46:09.476415Z"
    }
   },
   "outputs": [
    {
     "data": {
      "application/vnd.jupyter.widget-view+json": {
       "model_id": "a7b4f67fe0f24df6812ee0268ccc4cf9",
       "version_major": 2,
       "version_minor": 0
      },
      "text/plain": [
       "  0%|          | 0/134 [00:00<?, ?it/s]"
      ]
     },
     "metadata": {},
     "output_type": "display_data"
    }
   ],
   "source": [
    "import glob\n",
    "from tqdm.auto import tqdm\n",
    "\n",
    "vectors = {}\n",
    "pokemon_images = glob.glob(\"../template_images/labeled_pokemon_templates/*.png\")\n",
    "for path in tqdm(pokemon_images):\n",
    "    img0 = cv2.imread(path)\n",
    "    vec0 = vtr.vectorize(img0)\n",
    "    vectors[path.split(\"/\")[-1].split(\".\")[0]] = vec0\n",
    "\n",
    "vector_array = np.array(list(vectors.values()))\n",
    "vector_array = np.reshape(vector_array, (len(vector_array), vec0.shape[0]))"
   ]
  },
  {
   "cell_type": "code",
   "execution_count": 22,
   "id": "43cd063a",
   "metadata": {
    "ExecuteTime": {
     "end_time": "2023-03-26T07:46:18.638190Z",
     "start_time": "2023-03-26T07:46:18.247295Z"
    }
   },
   "outputs": [],
   "source": [
    "import numpy as np\n",
    "import faiss\n",
    "\n",
    "faiss_index = faiss.IndexFlatL2(vec0.shape[0])\n",
    "faiss_index.add(vector_array)\n",
    "\n",
    "vector_index = list(vectors.keys())"
   ]
  },
  {
   "cell_type": "code",
   "execution_count": 47,
   "id": "eb1753e4",
   "metadata": {
    "ExecuteTime": {
     "end_time": "2023-03-26T08:05:22.305802Z",
     "start_time": "2023-03-26T08:05:22.240644Z"
    }
   },
   "outputs": [
    {
     "name": "stdout",
     "output_type": "stream",
     "text": [
      "ラウドボーン\n",
      "ラウドボーン\n"
     ]
    }
   ],
   "source": [
    "import re\n",
    "\n",
    "img = cv2.imread(\"../template_images/labeled_pokemon_templates/ラウドボーン.png\")\n",
    "vec = vtr.vectorize(img)\n",
    "vec = np.reshape(vec, (1, vec.shape[0]))\n",
    "scores, indexes = faiss_index.search(vec, 10)\n",
    "for score, idx in zip(scores[0], indexes[0]):\n",
    "    if score < 100:\n",
    "        print(vector_index[idx].split(\"_\")[0])"
   ]
  },
  {
   "cell_type": "code",
   "execution_count": 56,
   "id": "fe0e47d7",
   "metadata": {
    "ExecuteTime": {
     "end_time": "2023-03-26T08:16:55.536781Z",
     "start_time": "2023-03-26T08:16:55.453657Z"
    }
   },
   "outputs": [
    {
     "name": "stdout",
     "output_type": "stream",
     "text": [
      "クエスパトラ\n",
      "クエスパトラ\n",
      "テツノドクガ\n",
      "ルガルガンたそがれ\n",
      "サーフゴー\n",
      "サーフゴー\n",
      "グレンアルマ\n"
     ]
    }
   ],
   "source": [
    "img = cv2.imread(\"../template_images/labeled_pokemon_templates/クエスパトラ_4.png\")\n",
    "vec = vtr.vectorize(img)\n",
    "vec = np.reshape(vec, (1, vec.shape[0]))\n",
    "scores, indexes = faiss_index.search(vec, 10)\n",
    "for score, idx in zip(scores[0], indexes[0]):\n",
    "    if score < 100:\n",
    "        print(vector_index[idx].split(\"_\")[0])"
   ]
  }
 ],
 "metadata": {
  "kernelspec": {
   "display_name": "Python 3 (ipykernel)",
   "language": "python",
   "name": "python3"
  },
  "language_info": {
   "codemirror_mode": {
    "name": "ipython",
    "version": 3
   },
   "file_extension": ".py",
   "mimetype": "text/x-python",
   "name": "python",
   "nbconvert_exporter": "python",
   "pygments_lexer": "ipython3",
   "version": "3.10.10"
  },
  "varInspector": {
   "cols": {
    "lenName": 16,
    "lenType": 16,
    "lenVar": 40
   },
   "kernels_config": {
    "python": {
     "delete_cmd_postfix": "",
     "delete_cmd_prefix": "del ",
     "library": "var_list.py",
     "varRefreshCmd": "print(var_dic_list())"
    },
    "r": {
     "delete_cmd_postfix": ") ",
     "delete_cmd_prefix": "rm(",
     "library": "var_list.r",
     "varRefreshCmd": "cat(var_dic_list()) "
    }
   },
   "types_to_exclude": [
    "module",
    "function",
    "builtin_function_or_method",
    "instance",
    "_Feature"
   ],
   "window_display": false
  }
 },
 "nbformat": 4,
 "nbformat_minor": 5
}
